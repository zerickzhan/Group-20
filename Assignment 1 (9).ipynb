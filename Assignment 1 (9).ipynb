{
 "cells": [
  {
   "cell_type": "markdown",
   "id": "0a6e71d4",
   "metadata": {},
   "source": [
    "# Group20 Assignment "
   ]
  },
  {
   "cell_type": "markdown",
   "id": "fe5eedd9",
   "metadata": {},
   "source": [
    "loading the data and importing the library "
   ]
  },
  {
   "cell_type": "code",
   "execution_count": 46,
   "id": "57ebdd0b",
   "metadata": {},
   "outputs": [],
   "source": [
    "import sweetviz as sv"
   ]
  },
  {
   "cell_type": "code",
   "execution_count": 47,
   "id": "108b73df",
   "metadata": {},
   "outputs": [],
   "source": [
    "import pandas as pd \n",
    "import pytz\n",
    "import numpy as np\n",
    "import seaborn as sns"
   ]
  },
  {
   "cell_type": "code",
   "execution_count": 48,
   "id": "20188b99",
   "metadata": {},
   "outputs": [],
   "source": [
    "from sklearn.preprocessing import MinMaxScaler\n",
    "from sklearn.model_selection import train_test_split\n",
    "from sklearn.metrics import classification_report\n",
    "from sklearn.metrics import confusion_matrix\n",
    "from torchtext.data.utils import get_tokenizer\n",
    "\n",
    "import matplotlib.pyplot as plt\n",
    "\n",
    "import torch\n",
    "from torch import nn \n",
    "import torch.nn.functional as F\n",
    "from torch import utils\n",
    "\n",
    "torch.manual_seed(0)\n",
    "np.random.seed(0)\n",
    "\n",
    "import warnings\n",
    "warnings.filterwarnings(\"ignore\")"
   ]
  },
  {
   "cell_type": "code",
   "execution_count": 49,
   "id": "aae9812b",
   "metadata": {},
   "outputs": [],
   "source": [
    "train=pd.read_csv('https://raw.githubusercontent.com/zerickzhan/Group-20/main/review_train.csv')\n",
    "challenge=pd.read_csv('https://raw.githubusercontent.com/zerickzhan/Group-20/main/review_challenge.csv')"
   ]
  },
  {
   "cell_type": "markdown",
   "id": "3d2fc6e4",
   "metadata": {},
   "source": [
    "## Univariate Analysis"
   ]
  },
  {
   "cell_type": "markdown",
   "id": "54278ec6",
   "metadata": {},
   "source": [
    "we will use sweetviz for some quick and direct EDA to get started."
   ]
  },
  {
   "cell_type": "code",
   "execution_count": 50,
   "id": "72f9ff37",
   "metadata": {
    "scrolled": true
   },
   "outputs": [
    {
     "data": {
      "application/vnd.jupyter.widget-view+json": {
       "model_id": "e5ed01a5dce545c19fe63a333197ddbb",
       "version_major": 2,
       "version_minor": 0
      },
      "text/plain": [
       "                                             |                                             | [  0%]   00:00 ->…"
      ]
     },
     "metadata": {},
     "output_type": "display_data"
    },
    {
     "name": "stdout",
     "output_type": "stream",
     "text": [
      "Report report.html was generated! NOTEBOOK/COLAB USERS: the web browser MAY not pop up, regardless, the report IS saved in your notebook/colab files.\n"
     ]
    }
   ],
   "source": [
    "analyze_report = sv.analyze(train)\n",
    "analyze_report.show_html('report.html')"
   ]
  },
  {
   "cell_type": "code",
   "execution_count": 51,
   "id": "e9ef3467",
   "metadata": {
    "scrolled": true
   },
   "outputs": [
    {
     "data": {
      "application/vnd.jupyter.widget-view+json": {
       "model_id": "c57ba63ee57e45d1ae0b8b4dba36ec9a",
       "version_major": 2,
       "version_minor": 0
      },
      "text/plain": [
       "                                             |                                             | [  0%]   00:00 ->…"
      ]
     },
     "metadata": {},
     "output_type": "display_data"
    },
    {
     "name": "stdout",
     "output_type": "stream",
     "text": [
      "Report challenge.html was generated! NOTEBOOK/COLAB USERS: the web browser MAY not pop up, regardless, the report IS saved in your notebook/colab files.\n"
     ]
    }
   ],
   "source": [
    "analyze_reportchallenge = sv.analyze(challenge)\n",
    "analyze_reportchallenge.show_html('challenge.html')"
   ]
  },
  {
   "cell_type": "code",
   "execution_count": 52,
   "id": "bbe39827",
   "metadata": {},
   "outputs": [],
   "source": [
    "train['review_timestamp']=pd.to_datetime(train['review_timestamp'])"
   ]
  },
  {
   "cell_type": "code",
   "execution_count": 53,
   "id": "988437ef",
   "metadata": {},
   "outputs": [
    {
     "name": "stdout",
     "output_type": "stream",
     "text": [
      "<class 'pandas.core.frame.DataFrame'>\n",
      "RangeIndex: 13762 entries, 0 to 13761\n",
      "Data columns (total 13 columns):\n",
      " #   Column                      Non-Null Count  Dtype         \n",
      "---  ------                      --------------  -----         \n",
      " 0   review_id                   13762 non-null  int64         \n",
      " 1   user_name                   13762 non-null  object        \n",
      " 2   airline_sentiment           13762 non-null  object        \n",
      " 3   sentiment_confidence        13762 non-null  float64       \n",
      " 4   negative_reason             8627 non-null   object        \n",
      " 5   negative_reason_confidence  9889 non-null   float64       \n",
      " 6   airline_name                13762 non-null  object        \n",
      " 7   review_text                 13762 non-null  object        \n",
      " 8   thumbup_count               13762 non-null  int64         \n",
      " 9   review_coordinates          972 non-null    object        \n",
      " 10  review_timestamp            13762 non-null  datetime64[ns]\n",
      " 11  review_city                 9314 non-null   object        \n",
      " 12  user_timezone               9252 non-null   object        \n",
      "dtypes: datetime64[ns](1), float64(2), int64(2), object(8)\n",
      "memory usage: 1.4+ MB\n"
     ]
    }
   ],
   "source": [
    "train.info()"
   ]
  },
  {
   "cell_type": "markdown",
   "id": "2883fb6f",
   "metadata": {},
   "source": [
    "### Duplicated values <br>\n",
    "from the initial analysis we can see review_id is not a unqiue key. We want to investigate further whether these are duplicates."
   ]
  },
  {
   "cell_type": "code",
   "execution_count": 54,
   "id": "ae3fd7b8",
   "metadata": {
    "scrolled": true
   },
   "outputs": [
    {
     "data": {
      "text/html": [
       "<div>\n",
       "<style scoped>\n",
       "    .dataframe tbody tr th:only-of-type {\n",
       "        vertical-align: middle;\n",
       "    }\n",
       "\n",
       "    .dataframe tbody tr th {\n",
       "        vertical-align: top;\n",
       "    }\n",
       "\n",
       "    .dataframe thead th {\n",
       "        text-align: right;\n",
       "    }\n",
       "</style>\n",
       "<table border=\"1\" class=\"dataframe\">\n",
       "  <thead>\n",
       "    <tr style=\"text-align: right;\">\n",
       "      <th></th>\n",
       "      <th>review_id</th>\n",
       "      <th>user_name</th>\n",
       "      <th>airline_sentiment</th>\n",
       "      <th>sentiment_confidence</th>\n",
       "      <th>negative_reason</th>\n",
       "      <th>negative_reason_confidence</th>\n",
       "      <th>airline_name</th>\n",
       "      <th>review_text</th>\n",
       "      <th>thumbup_count</th>\n",
       "      <th>review_coordinates</th>\n",
       "      <th>review_timestamp</th>\n",
       "      <th>review_city</th>\n",
       "      <th>user_timezone</th>\n",
       "    </tr>\n",
       "  </thead>\n",
       "  <tbody>\n",
       "    <tr>\n",
       "      <th>11230</th>\n",
       "      <td>570286841737318400</td>\n",
       "      <td>djjohnpayne</td>\n",
       "      <td>negative</td>\n",
       "      <td>1.0</td>\n",
       "      <td>Cancelled Flight</td>\n",
       "      <td>0.6304</td>\n",
       "      <td>Qantas</td>\n",
       "      <td>you guys are killing me. http://t.co/iPGeIcSm</td>\n",
       "      <td>0</td>\n",
       "      <td>[0.0, 0.0]</td>\n",
       "      <td>2015-02-24 10:19:00</td>\n",
       "      <td>Las Vegas, NV</td>\n",
       "      <td>Pacific Time (US &amp; Canada)</td>\n",
       "    </tr>\n",
       "    <tr>\n",
       "      <th>11384</th>\n",
       "      <td>570286841737318400</td>\n",
       "      <td>djjohnpayne</td>\n",
       "      <td>negative</td>\n",
       "      <td>1.0</td>\n",
       "      <td>Cancelled Flight</td>\n",
       "      <td>1.0000</td>\n",
       "      <td>Qantas</td>\n",
       "      <td>you guys are killing me. http://t.co/iPGeIcSm</td>\n",
       "      <td>0</td>\n",
       "      <td>[0.0, 0.0]</td>\n",
       "      <td>2015-02-24 10:19:00</td>\n",
       "      <td>Las Vegas, NV</td>\n",
       "      <td>Pacific Time (US &amp; Canada)</td>\n",
       "    </tr>\n",
       "  </tbody>\n",
       "</table>\n",
       "</div>"
      ],
      "text/plain": [
       "                review_id    user_name airline_sentiment  \\\n",
       "11230  570286841737318400  djjohnpayne          negative   \n",
       "11384  570286841737318400  djjohnpayne          negative   \n",
       "\n",
       "       sentiment_confidence   negative_reason  negative_reason_confidence  \\\n",
       "11230                   1.0  Cancelled Flight                      0.6304   \n",
       "11384                   1.0  Cancelled Flight                      1.0000   \n",
       "\n",
       "      airline_name                                    review_text  \\\n",
       "11230       Qantas  you guys are killing me. http://t.co/iPGeIcSm   \n",
       "11384       Qantas  you guys are killing me. http://t.co/iPGeIcSm   \n",
       "\n",
       "       thumbup_count review_coordinates    review_timestamp    review_city  \\\n",
       "11230              0         [0.0, 0.0] 2015-02-24 10:19:00  Las Vegas, NV   \n",
       "11384              0         [0.0, 0.0] 2015-02-24 10:19:00  Las Vegas, NV   \n",
       "\n",
       "                    user_timezone  \n",
       "11230  Pacific Time (US & Canada)  \n",
       "11384  Pacific Time (US & Canada)  "
      ]
     },
     "execution_count": 54,
     "metadata": {},
     "output_type": "execute_result"
    }
   ],
   "source": [
    "train[train[\"review_id\"]==570286841737318400]"
   ]
  },
  {
   "cell_type": "code",
   "execution_count": 55,
   "id": "afccdef8",
   "metadata": {
    "scrolled": false
   },
   "outputs": [
    {
     "data": {
      "text/html": [
       "<div>\n",
       "<style scoped>\n",
       "    .dataframe tbody tr th:only-of-type {\n",
       "        vertical-align: middle;\n",
       "    }\n",
       "\n",
       "    .dataframe tbody tr th {\n",
       "        vertical-align: top;\n",
       "    }\n",
       "\n",
       "    .dataframe thead th {\n",
       "        text-align: right;\n",
       "    }\n",
       "</style>\n",
       "<table border=\"1\" class=\"dataframe\">\n",
       "  <thead>\n",
       "    <tr style=\"text-align: right;\">\n",
       "      <th></th>\n",
       "      <th>review_id</th>\n",
       "      <th>user_name</th>\n",
       "      <th>airline_sentiment</th>\n",
       "      <th>sentiment_confidence</th>\n",
       "      <th>negative_reason</th>\n",
       "      <th>negative_reason_confidence</th>\n",
       "      <th>airline_name</th>\n",
       "      <th>review_text</th>\n",
       "      <th>thumbup_count</th>\n",
       "      <th>review_coordinates</th>\n",
       "      <th>review_timestamp</th>\n",
       "      <th>review_city</th>\n",
       "      <th>user_timezone</th>\n",
       "    </tr>\n",
       "  </thead>\n",
       "  <tbody>\n",
       "    <tr>\n",
       "      <th>11298</th>\n",
       "      <td>570267562623152128</td>\n",
       "      <td>alinaxkristin</td>\n",
       "      <td>negative</td>\n",
       "      <td>1.0</td>\n",
       "      <td>Flight Attendant Complaints</td>\n",
       "      <td>1.0000</td>\n",
       "      <td>Qantas</td>\n",
       "      <td>you could train your flight attendants to have...</td>\n",
       "      <td>0</td>\n",
       "      <td>NaN</td>\n",
       "      <td>2015-02-24 09:02:00</td>\n",
       "      <td>Miami</td>\n",
       "      <td>Quito</td>\n",
       "    </tr>\n",
       "    <tr>\n",
       "      <th>11453</th>\n",
       "      <td>570267562623152128</td>\n",
       "      <td>alinaxkristin</td>\n",
       "      <td>negative</td>\n",
       "      <td>1.0</td>\n",
       "      <td>Flight Attendant Complaints</td>\n",
       "      <td>0.6688</td>\n",
       "      <td>Qantas</td>\n",
       "      <td>you could train your flight attendants to have...</td>\n",
       "      <td>0</td>\n",
       "      <td>NaN</td>\n",
       "      <td>2015-02-24 09:02:00</td>\n",
       "      <td>Miami</td>\n",
       "      <td>Quito</td>\n",
       "    </tr>\n",
       "  </tbody>\n",
       "</table>\n",
       "</div>"
      ],
      "text/plain": [
       "                review_id      user_name airline_sentiment  \\\n",
       "11298  570267562623152128  alinaxkristin          negative   \n",
       "11453  570267562623152128  alinaxkristin          negative   \n",
       "\n",
       "       sentiment_confidence              negative_reason  \\\n",
       "11298                   1.0  Flight Attendant Complaints   \n",
       "11453                   1.0  Flight Attendant Complaints   \n",
       "\n",
       "       negative_reason_confidence airline_name  \\\n",
       "11298                      1.0000       Qantas   \n",
       "11453                      0.6688       Qantas   \n",
       "\n",
       "                                             review_text  thumbup_count  \\\n",
       "11298  you could train your flight attendants to have...              0   \n",
       "11453  you could train your flight attendants to have...              0   \n",
       "\n",
       "      review_coordinates    review_timestamp review_city user_timezone  \n",
       "11298                NaN 2015-02-24 09:02:00      Miami          Quito  \n",
       "11453                NaN 2015-02-24 09:02:00      Miami          Quito  "
      ]
     },
     "execution_count": 55,
     "metadata": {},
     "output_type": "execute_result"
    }
   ],
   "source": [
    "train[train[\"review_id\"]==570267562623152128]"
   ]
  },
  {
   "cell_type": "markdown",
   "id": "b0750d43",
   "metadata": {},
   "source": [
    "from the above example we can see several values are duplicated with the only difference being the negative_reason_confidence, which made the review_id not an unique key.\n",
    "Therefore, we will remove the values with lower sentiment confidence."
   ]
  },
  {
   "cell_type": "code",
   "execution_count": 56,
   "id": "02dff8ed",
   "metadata": {},
   "outputs": [],
   "source": [
    "train=train.sort_values(by=['sentiment_confidence'])\n",
    "train=train.drop_duplicates(subset=['review_id'], keep='last')"
   ]
  },
  {
   "cell_type": "code",
   "execution_count": 62,
   "id": "f74c9bbe",
   "metadata": {},
   "outputs": [],
   "source": [
    "train = train.drop_duplicates(subset='review_id', keep=\"first\")"
   ]
  },
  {
   "cell_type": "markdown",
   "id": "6d4340fe",
   "metadata": {},
   "source": [
    "Changed sentiment analysis from words into numeric values"
   ]
  },
  {
   "cell_type": "code",
   "execution_count": 63,
   "id": "24cbaf15",
   "metadata": {},
   "outputs": [
    {
     "data": {
      "text/plain": [
       "<AxesSubplot:title={'center':'Histogram '}, xlabel='negative_reason_confidence', ylabel='Density'>"
      ]
     },
     "execution_count": 63,
     "metadata": {},
     "output_type": "execute_result"
    },
    {
     "data": {
      "image/png": "[encoded data removed]",
      "text/plain": [
       "<Figure size 640x480 with 1 Axes>"
      ]
     },
     "metadata": {},
     "output_type": "display_data"
    }
   ],
   "source": [
    "fig, ax = plt.subplots(1,1)\n",
    "ax.set(title =\"Histogram \")\n",
    "sns.distplot(a=train[\"negative_reason_confidence\"], bins=20)"
   ]
  },
  {
   "cell_type": "code",
   "execution_count": 64,
   "id": "f35dd725",
   "metadata": {
    "scrolled": true
   },
   "outputs": [
    {
     "data": {
      "text/plain": [
       "<AxesSubplot:title={'center':'Histogram '}, xlabel='review_timestamp', ylabel='Density'>"
      ]
     },
     "execution_count": 64,
     "metadata": {},
     "output_type": "execute_result"
    },
    {
     "data": {
      "image/png": "[encoded data removed]",
      "text/plain": [
       "<Figure size 640x480 with 1 Axes>"
      ]
     },
     "metadata": {},
     "output_type": "display_data"
    }
   ],
   "source": [
    "fig, ax = plt.subplots(1,1)\n",
    "ax.set(title =\"Histogram \")\n",
    "sns.distplot(a=train[\"review_timestamp\"], bins=20)"
   ]
  },
  {
   "cell_type": "code",
   "execution_count": 65,
   "id": "48e63204",
   "metadata": {},
   "outputs": [
    {
     "data": {
      "text/plain": [
       "<AxesSubplot:title={'center':'Histogram '}, xlabel='sentiment_confidence', ylabel='Density'>"
      ]
     },
     "execution_count": 65,
     "metadata": {},
     "output_type": "execute_result"
    },
    {
     "data": {
      "image/png": "[encoded data removed]",
      "text/plain": [
       "<Figure size 640x480 with 1 Axes>"
      ]
     },
     "metadata": {},
     "output_type": "display_data"
    }
   ],
   "source": [
    "fig, ax = plt.subplots(1,1)\n",
    "ax.set(title =\"Histogram \")\n",
    "sns.distplot(a=train[\"sentiment_confidence\"], bins=20)"
   ]
  },
  {
   "cell_type": "markdown",
   "id": "b1ea407d",
   "metadata": {},
   "source": [
    "### Bivariate Analysis \n"
   ]
  },
  {
   "cell_type": "code",
   "execution_count": 66,
   "id": "d760bd8d",
   "metadata": {},
   "outputs": [
    {
     "ename": "NameError",
     "evalue": "name 'loan' is not defined",
     "output_type": "error",
     "traceback": [
      "\u001b[1;31m---------------------------------------------------------------------------\u001b[0m",
      "\u001b[1;31mNameError\u001b[0m                                 Traceback (most recent call last)",
      "\u001b[1;32m~\\AppData\\Local\\Temp\\ipykernel_62836\\3377461089.py\u001b[0m in \u001b[0;36m<module>\u001b[1;34m\u001b[0m\n\u001b[0;32m      1\u001b[0m \u001b[0mfig\u001b[0m\u001b[1;33m,\u001b[0m \u001b[0max\u001b[0m \u001b[1;33m=\u001b[0m \u001b[0mplt\u001b[0m\u001b[1;33m.\u001b[0m\u001b[0msubplots\u001b[0m\u001b[1;33m(\u001b[0m\u001b[1;33m)\u001b[0m\u001b[1;33m\u001b[0m\u001b[1;33m\u001b[0m\u001b[0m\n\u001b[0;32m      2\u001b[0m \u001b[0max\u001b[0m\u001b[1;33m.\u001b[0m\u001b[0mset\u001b[0m\u001b[1;33m(\u001b[0m\u001b[0mtitle\u001b[0m \u001b[1;33m=\u001b[0m \u001b[1;34m\"Scatter ploat of Applicant Income vs Loan Amount\"\u001b[0m\u001b[1;33m,\u001b[0m \u001b[0mxlabel\u001b[0m\u001b[1;33m=\u001b[0m\u001b[1;34m\"Applicant Income\"\u001b[0m\u001b[1;33m,\u001b[0m \u001b[0mylabel\u001b[0m\u001b[1;33m=\u001b[0m\u001b[1;34m\"Loan Amount\"\u001b[0m\u001b[1;33m)\u001b[0m\u001b[1;33m\u001b[0m\u001b[1;33m\u001b[0m\u001b[0m\n\u001b[1;32m----> 3\u001b[1;33m \u001b[0mplt\u001b[0m\u001b[1;33m.\u001b[0m\u001b[0mscatter\u001b[0m\u001b[1;33m(\u001b[0m\u001b[0mx\u001b[0m\u001b[1;33m=\u001b[0m\u001b[1;34m'ApplicantIncome'\u001b[0m\u001b[1;33m,\u001b[0m\u001b[0my\u001b[0m\u001b[1;33m=\u001b[0m\u001b[1;34m'LoanAmount'\u001b[0m\u001b[1;33m,\u001b[0m\u001b[0mdata\u001b[0m\u001b[1;33m=\u001b[0m\u001b[0mloan\u001b[0m\u001b[1;33m)\u001b[0m\u001b[1;33m\u001b[0m\u001b[1;33m\u001b[0m\u001b[0m\n\u001b[0m\u001b[0;32m      4\u001b[0m \u001b[0mplt\u001b[0m\u001b[1;33m.\u001b[0m\u001b[0mshow\u001b[0m\u001b[1;33m(\u001b[0m\u001b[1;33m)\u001b[0m\u001b[1;33m\u001b[0m\u001b[1;33m\u001b[0m\u001b[0m\n",
      "\u001b[1;31mNameError\u001b[0m: name 'loan' is not defined"
     ]
    },
    {
     "data": {
      "image/png": "[encoded data removed]",
      "text/plain": [
       "<Figure size 640x480 with 1 Axes>"
      ]
     },
     "metadata": {},
     "output_type": "display_data"
    }
   ],
   "source": [
    "fig, ax = plt.subplots()\n",
    "ax.set(title = \"Scatter ploat of Applicant Income vs Loan Amount\", xlabel=\"Applicant Income\", ylabel=\"Loan Amount\")\n",
    "plt.scatter(x='ApplicantIncome',y='LoanAmount',data=loan)\n",
    "plt.show()"
   ]
  },
  {
   "cell_type": "markdown",
   "id": "f34d08f3",
   "metadata": {},
   "source": [
    "Missing values"
   ]
  },
  {
   "cell_type": "code",
   "execution_count": 68,
   "id": "a12e4f3a",
   "metadata": {},
   "outputs": [],
   "source": [
    "train['review'] = train.apply(lambda row: row['negative_reason'] if not pd.isna(row['negative_reason']) and row['negative_reason'] != '' else row['airline_sentiment'], axis=1)"
   ]
  },
  {
   "cell_type": "code",
   "execution_count": 69,
   "id": "d06b9079",
   "metadata": {},
   "outputs": [
    {
     "data": {
      "text/html": [
       "<div>\n",
       "<style scoped>\n",
       "    .dataframe tbody tr th:only-of-type {\n",
       "        vertical-align: middle;\n",
       "    }\n",
       "\n",
       "    .dataframe tbody tr th {\n",
       "        vertical-align: top;\n",
       "    }\n",
       "\n",
       "    .dataframe thead th {\n",
       "        text-align: right;\n",
       "    }\n",
       "</style>\n",
       "<table border=\"1\" class=\"dataframe\">\n",
       "  <thead>\n",
       "    <tr style=\"text-align: right;\">\n",
       "      <th>review</th>\n",
       "      <th>Bad Flight</th>\n",
       "      <th>Can't Tell</th>\n",
       "      <th>Cancelled Flight</th>\n",
       "      <th>Customer Service Issue</th>\n",
       "      <th>Damaged Luggage</th>\n",
       "      <th>Flight Attendant Complaints</th>\n",
       "      <th>Flight Booking Problems</th>\n",
       "      <th>Late Flight</th>\n",
       "      <th>Lost Luggage</th>\n",
       "      <th>longlines</th>\n",
       "      <th>neutral</th>\n",
       "      <th>positive</th>\n",
       "    </tr>\n",
       "    <tr>\n",
       "      <th>airline_name</th>\n",
       "      <th></th>\n",
       "      <th></th>\n",
       "      <th></th>\n",
       "      <th></th>\n",
       "      <th></th>\n",
       "      <th></th>\n",
       "      <th></th>\n",
       "      <th></th>\n",
       "      <th></th>\n",
       "      <th></th>\n",
       "      <th></th>\n",
       "      <th></th>\n",
       "    </tr>\n",
       "  </thead>\n",
       "  <tbody>\n",
       "    <tr>\n",
       "      <th>EgyptAir</th>\n",
       "      <td>18</td>\n",
       "      <td>21</td>\n",
       "      <td>17</td>\n",
       "      <td>57</td>\n",
       "      <td>4</td>\n",
       "      <td>5</td>\n",
       "      <td>27</td>\n",
       "      <td>16</td>\n",
       "      <td>3</td>\n",
       "      <td>1</td>\n",
       "      <td>155</td>\n",
       "      <td>142</td>\n",
       "    </tr>\n",
       "    <tr>\n",
       "      <th>Emirates</th>\n",
       "      <td>208</td>\n",
       "      <td>351</td>\n",
       "      <td>166</td>\n",
       "      <td>637</td>\n",
       "      <td>20</td>\n",
       "      <td>156</td>\n",
       "      <td>132</td>\n",
       "      <td>492</td>\n",
       "      <td>261</td>\n",
       "      <td>46</td>\n",
       "      <td>660</td>\n",
       "      <td>465</td>\n",
       "    </tr>\n",
       "    <tr>\n",
       "      <th>Lufthansa</th>\n",
       "      <td>82</td>\n",
       "      <td>152</td>\n",
       "      <td>149</td>\n",
       "      <td>367</td>\n",
       "      <td>13</td>\n",
       "      <td>37</td>\n",
       "      <td>60</td>\n",
       "      <td>146</td>\n",
       "      <td>87</td>\n",
       "      <td>27</td>\n",
       "      <td>623</td>\n",
       "      <td>537</td>\n",
       "    </tr>\n",
       "    <tr>\n",
       "      <th>Qantas</th>\n",
       "      <td>78</td>\n",
       "      <td>176</td>\n",
       "      <td>218</td>\n",
       "      <td>693</td>\n",
       "      <td>10</td>\n",
       "      <td>77</td>\n",
       "      <td>117</td>\n",
       "      <td>223</td>\n",
       "      <td>137</td>\n",
       "      <td>31</td>\n",
       "      <td>404</td>\n",
       "      <td>293</td>\n",
       "    </tr>\n",
       "    <tr>\n",
       "      <th>Qatar Airways</th>\n",
       "      <td>97</td>\n",
       "      <td>228</td>\n",
       "      <td>175</td>\n",
       "      <td>773</td>\n",
       "      <td>10</td>\n",
       "      <td>118</td>\n",
       "      <td>116</td>\n",
       "      <td>425</td>\n",
       "      <td>143</td>\n",
       "      <td>47</td>\n",
       "      <td>361</td>\n",
       "      <td>256</td>\n",
       "    </tr>\n",
       "    <tr>\n",
       "      <th>Singapore Airlines</th>\n",
       "      <td>59</td>\n",
       "      <td>172</td>\n",
       "      <td>49</td>\n",
       "      <td>181</td>\n",
       "      <td>8</td>\n",
       "      <td>58</td>\n",
       "      <td>41</td>\n",
       "      <td>255</td>\n",
       "      <td>52</td>\n",
       "      <td>14</td>\n",
       "      <td>677</td>\n",
       "      <td>508</td>\n",
       "    </tr>\n",
       "  </tbody>\n",
       "</table>\n",
       "</div>"
      ],
      "text/plain": [
       "review              Bad Flight  Can't Tell  Cancelled Flight  \\\n",
       "airline_name                                                   \n",
       "EgyptAir                    18          21                17   \n",
       "Emirates                   208         351               166   \n",
       "Lufthansa                   82         152               149   \n",
       "Qantas                      78         176               218   \n",
       "Qatar Airways               97         228               175   \n",
       "Singapore Airlines          59         172                49   \n",
       "\n",
       "review              Customer Service Issue  Damaged Luggage  \\\n",
       "airline_name                                                  \n",
       "EgyptAir                                57                4   \n",
       "Emirates                               637               20   \n",
       "Lufthansa                              367               13   \n",
       "Qantas                                 693               10   \n",
       "Qatar Airways                          773               10   \n",
       "Singapore Airlines                     181                8   \n",
       "\n",
       "review              Flight Attendant Complaints  Flight Booking Problems  \\\n",
       "airline_name                                                               \n",
       "EgyptAir                                      5                       27   \n",
       "Emirates                                    156                      132   \n",
       "Lufthansa                                    37                       60   \n",
       "Qantas                                       77                      117   \n",
       "Qatar Airways                               118                      116   \n",
       "Singapore Airlines                           58                       41   \n",
       "\n",
       "review              Late Flight  Lost Luggage  longlines  neutral  positive  \n",
       "airline_name                                                                 \n",
       "EgyptAir                     16             3          1      155       142  \n",
       "Emirates                    492           261         46      660       465  \n",
       "Lufthansa                   146            87         27      623       537  \n",
       "Qantas                      223           137         31      404       293  \n",
       "Qatar Airways               425           143         47      361       256  \n",
       "Singapore Airlines          255            52         14      677       508  "
      ]
     },
     "execution_count": 69,
     "metadata": {},
     "output_type": "execute_result"
    }
   ],
   "source": [
    "pd.crosstab(train['airline_name'], train['review'])"
   ]
  },
  {
   "cell_type": "code",
   "execution_count": 70,
   "id": "93dd966f",
   "metadata": {},
   "outputs": [],
   "source": [
    "filtered_data_number = train[train['user_name'].str.contains(r'\\d', regex=True, na=False)]"
   ]
  },
  {
   "cell_type": "code",
   "execution_count": 71,
   "id": "29c64830",
   "metadata": {
    "scrolled": true
   },
   "outputs": [
    {
     "data": {
      "text/html": [
       "<div>\n",
       "<style scoped>\n",
       "    .dataframe tbody tr th:only-of-type {\n",
       "        vertical-align: middle;\n",
       "    }\n",
       "\n",
       "    .dataframe tbody tr th {\n",
       "        vertical-align: top;\n",
       "    }\n",
       "\n",
       "    .dataframe thead th {\n",
       "        text-align: right;\n",
       "    }\n",
       "</style>\n",
       "<table border=\"1\" class=\"dataframe\">\n",
       "  <thead>\n",
       "    <tr style=\"text-align: right;\">\n",
       "      <th></th>\n",
       "      <th>review_id</th>\n",
       "      <th>user_name</th>\n",
       "      <th>airline_sentiment</th>\n",
       "      <th>sentiment_confidence</th>\n",
       "      <th>negative_reason</th>\n",
       "      <th>negative_reason_confidence</th>\n",
       "      <th>airline_name</th>\n",
       "      <th>review_text</th>\n",
       "      <th>thumbup_count</th>\n",
       "      <th>review_coordinates</th>\n",
       "      <th>review_timestamp</th>\n",
       "      <th>review_city</th>\n",
       "      <th>user_timezone</th>\n",
       "      <th>review</th>\n",
       "    </tr>\n",
       "  </thead>\n",
       "  <tbody>\n",
       "    <tr>\n",
       "      <th>8810</th>\n",
       "      <td>569959415433965569</td>\n",
       "      <td>ElmiraBudMan</td>\n",
       "      <td>negative</td>\n",
       "      <td>0.6702</td>\n",
       "      <td>Flight Attendant Complaints</td>\n",
       "      <td>0.6702</td>\n",
       "      <td>Qatar Airways</td>\n",
       "      <td>I get some bs from a guy at the door says door...</td>\n",
       "      <td>0</td>\n",
       "      <td>NaN</td>\n",
       "      <td>2015-02-23 12:38:00</td>\n",
       "      <td>Does it really matter</td>\n",
       "      <td>NaN</td>\n",
       "      <td>Flight Attendant Complaints</td>\n",
       "    </tr>\n",
       "    <tr>\n",
       "      <th>9127</th>\n",
       "      <td>569694350831161344</td>\n",
       "      <td>ElmiraBudMan</td>\n",
       "      <td>negative</td>\n",
       "      <td>0.6718</td>\n",
       "      <td>Customer Service Issue</td>\n",
       "      <td>0.6718</td>\n",
       "      <td>Qatar Airways</td>\n",
       "      <td>always nice when a customer service manager th...</td>\n",
       "      <td>0</td>\n",
       "      <td>NaN</td>\n",
       "      <td>2015-02-22 19:04:00</td>\n",
       "      <td>Does it really matter</td>\n",
       "      <td>NaN</td>\n",
       "      <td>Customer Service Issue</td>\n",
       "    </tr>\n",
       "    <tr>\n",
       "      <th>8771</th>\n",
       "      <td>569971542538346496</td>\n",
       "      <td>ElmiraBudMan</td>\n",
       "      <td>negative</td>\n",
       "      <td>0.6902</td>\n",
       "      <td>Can't Tell</td>\n",
       "      <td>0.6902</td>\n",
       "      <td>Qatar Airways</td>\n",
       "      <td>the exhaustion of traveling n runnin thru the ...</td>\n",
       "      <td>0</td>\n",
       "      <td>NaN</td>\n",
       "      <td>2015-02-23 13:26:00</td>\n",
       "      <td>Does it really matter</td>\n",
       "      <td>NaN</td>\n",
       "      <td>Can't Tell</td>\n",
       "    </tr>\n",
       "    <tr>\n",
       "      <th>8777</th>\n",
       "      <td>569970626057801728</td>\n",
       "      <td>ElmiraBudMan</td>\n",
       "      <td>neutral</td>\n",
       "      <td>0.7010</td>\n",
       "      <td>NaN</td>\n",
       "      <td>0.0000</td>\n",
       "      <td>Qatar Airways</td>\n",
       "      <td>doesn't take into account the $ it cost rent a...</td>\n",
       "      <td>0</td>\n",
       "      <td>NaN</td>\n",
       "      <td>2015-02-23 13:22:00</td>\n",
       "      <td>Does it really matter</td>\n",
       "      <td>NaN</td>\n",
       "      <td>neutral</td>\n",
       "    </tr>\n",
       "    <tr>\n",
       "      <th>9138</th>\n",
       "      <td>569686602940858368</td>\n",
       "      <td>ElmiraBudMan</td>\n",
       "      <td>negative</td>\n",
       "      <td>1.0000</td>\n",
       "      <td>Bad Flight</td>\n",
       "      <td>0.6596</td>\n",
       "      <td>Qatar Airways</td>\n",
       "      <td>why the hell did you overbook a plane when you...</td>\n",
       "      <td>0</td>\n",
       "      <td>NaN</td>\n",
       "      <td>2015-02-22 18:34:00</td>\n",
       "      <td>Does it really matter</td>\n",
       "      <td>NaN</td>\n",
       "      <td>Bad Flight</td>\n",
       "    </tr>\n",
       "    <tr>\n",
       "      <th>9150</th>\n",
       "      <td>569682545375354880</td>\n",
       "      <td>ElmiraBudMan</td>\n",
       "      <td>negative</td>\n",
       "      <td>1.0000</td>\n",
       "      <td>Late Flight</td>\n",
       "      <td>0.6632</td>\n",
       "      <td>Qatar Airways</td>\n",
       "      <td>we don't control your stupidity in not having ...</td>\n",
       "      <td>0</td>\n",
       "      <td>NaN</td>\n",
       "      <td>2015-02-22 18:17:00</td>\n",
       "      <td>Does it really matter</td>\n",
       "      <td>NaN</td>\n",
       "      <td>Late Flight</td>\n",
       "    </tr>\n",
       "    <tr>\n",
       "      <th>9199</th>\n",
       "      <td>569660306298945537</td>\n",
       "      <td>ElmiraBudMan</td>\n",
       "      <td>negative</td>\n",
       "      <td>1.0000</td>\n",
       "      <td>Can't Tell</td>\n",
       "      <td>1.0000</td>\n",
       "      <td>Qatar Airways</td>\n",
       "      <td>this is the reason I avoid and like the plague...</td>\n",
       "      <td>0</td>\n",
       "      <td>NaN</td>\n",
       "      <td>2015-02-22 16:49:00</td>\n",
       "      <td>Does it really matter</td>\n",
       "      <td>NaN</td>\n",
       "      <td>Can't Tell</td>\n",
       "    </tr>\n",
       "    <tr>\n",
       "      <th>9198</th>\n",
       "      <td>569661113593425920</td>\n",
       "      <td>ElmiraBudMan</td>\n",
       "      <td>negative</td>\n",
       "      <td>1.0000</td>\n",
       "      <td>Bad Flight</td>\n",
       "      <td>0.3481</td>\n",
       "      <td>Qatar Airways</td>\n",
       "      <td>how can a plane scheduled to come in on time a...</td>\n",
       "      <td>0</td>\n",
       "      <td>NaN</td>\n",
       "      <td>2015-02-22 16:52:00</td>\n",
       "      <td>Does it really matter</td>\n",
       "      <td>NaN</td>\n",
       "      <td>Bad Flight</td>\n",
       "    </tr>\n",
       "    <tr>\n",
       "      <th>9202</th>\n",
       "      <td>569659137581326336</td>\n",
       "      <td>ElmiraBudMan</td>\n",
       "      <td>negative</td>\n",
       "      <td>1.0000</td>\n",
       "      <td>Flight Attendant Complaints</td>\n",
       "      <td>1.0000</td>\n",
       "      <td>Qatar Airways</td>\n",
       "      <td>hire smarter IT people if your systems keep cr...</td>\n",
       "      <td>0</td>\n",
       "      <td>NaN</td>\n",
       "      <td>2015-02-22 16:44:00</td>\n",
       "      <td>Does it really matter</td>\n",
       "      <td>NaN</td>\n",
       "      <td>Flight Attendant Complaints</td>\n",
       "    </tr>\n",
       "    <tr>\n",
       "      <th>9204</th>\n",
       "      <td>569658553381883905</td>\n",
       "      <td>ElmiraBudMan</td>\n",
       "      <td>negative</td>\n",
       "      <td>1.0000</td>\n",
       "      <td>Late Flight</td>\n",
       "      <td>0.6775</td>\n",
       "      <td>Qatar Airways</td>\n",
       "      <td>what is wrong with you guys and your inability...</td>\n",
       "      <td>1</td>\n",
       "      <td>NaN</td>\n",
       "      <td>2015-02-22 16:42:00</td>\n",
       "      <td>Does it really matter</td>\n",
       "      <td>NaN</td>\n",
       "      <td>Late Flight</td>\n",
       "    </tr>\n",
       "    <tr>\n",
       "      <th>9205</th>\n",
       "      <td>569658168097292288</td>\n",
       "      <td>ElmiraBudMan</td>\n",
       "      <td>negative</td>\n",
       "      <td>1.0000</td>\n",
       "      <td>Can't Tell</td>\n",
       "      <td>0.6315</td>\n",
       "      <td>Qatar Airways</td>\n",
       "      <td>you guys have to be the worst. We are flying i...</td>\n",
       "      <td>0</td>\n",
       "      <td>NaN</td>\n",
       "      <td>2015-02-22 16:41:00</td>\n",
       "      <td>Does it really matter</td>\n",
       "      <td>NaN</td>\n",
       "      <td>Can't Tell</td>\n",
       "    </tr>\n",
       "    <tr>\n",
       "      <th>8795</th>\n",
       "      <td>569967469135142914</td>\n",
       "      <td>ElmiraBudMan</td>\n",
       "      <td>negative</td>\n",
       "      <td>1.0000</td>\n",
       "      <td>Late Flight</td>\n",
       "      <td>0.3681</td>\n",
       "      <td>Qatar Airways</td>\n",
       "      <td>you idiots kept an on time plane on the Tarmac...</td>\n",
       "      <td>0</td>\n",
       "      <td>NaN</td>\n",
       "      <td>2015-02-23 13:10:00</td>\n",
       "      <td>Does it really matter</td>\n",
       "      <td>NaN</td>\n",
       "      <td>Late Flight</td>\n",
       "    </tr>\n",
       "    <tr>\n",
       "      <th>8794</th>\n",
       "      <td>569967808446009345</td>\n",
       "      <td>ElmiraBudMan</td>\n",
       "      <td>negative</td>\n",
       "      <td>1.0000</td>\n",
       "      <td>Customer Service Issue</td>\n",
       "      <td>0.6805</td>\n",
       "      <td>Qatar Airways</td>\n",
       "      <td>if you actually cared about what you did it wo...</td>\n",
       "      <td>0</td>\n",
       "      <td>NaN</td>\n",
       "      <td>2015-02-23 13:11:00</td>\n",
       "      <td>Does it really matter</td>\n",
       "      <td>NaN</td>\n",
       "      <td>Customer Service Issue</td>\n",
       "    </tr>\n",
       "    <tr>\n",
       "      <th>8791</th>\n",
       "      <td>569968609440563201</td>\n",
       "      <td>ElmiraBudMan</td>\n",
       "      <td>negative</td>\n",
       "      <td>1.0000</td>\n",
       "      <td>Cancelled Flight</td>\n",
       "      <td>1.0000</td>\n",
       "      <td>Qatar Airways</td>\n",
       "      <td>is okay for u Cancelled Flight change a flight...</td>\n",
       "      <td>0</td>\n",
       "      <td>NaN</td>\n",
       "      <td>2015-02-23 13:14:00</td>\n",
       "      <td>Does it really matter</td>\n",
       "      <td>NaN</td>\n",
       "      <td>Cancelled Flight</td>\n",
       "    </tr>\n",
       "    <tr>\n",
       "      <th>8805</th>\n",
       "      <td>569960904852312064</td>\n",
       "      <td>ElmiraBudMan</td>\n",
       "      <td>negative</td>\n",
       "      <td>1.0000</td>\n",
       "      <td>Customer Service Issue</td>\n",
       "      <td>1.0000</td>\n",
       "      <td>Qatar Airways</td>\n",
       "      <td>just an FYI I'll be writing registered letters...</td>\n",
       "      <td>0</td>\n",
       "      <td>NaN</td>\n",
       "      <td>2015-02-23 12:44:00</td>\n",
       "      <td>Does it really matter</td>\n",
       "      <td>NaN</td>\n",
       "      <td>Customer Service Issue</td>\n",
       "    </tr>\n",
       "    <tr>\n",
       "      <th>8809</th>\n",
       "      <td>569959975566467072</td>\n",
       "      <td>ElmiraBudMan</td>\n",
       "      <td>negative</td>\n",
       "      <td>1.0000</td>\n",
       "      <td>Customer Service Issue</td>\n",
       "      <td>1.0000</td>\n",
       "      <td>Qatar Airways</td>\n",
       "      <td>I find it funny that responds but you don't. Y...</td>\n",
       "      <td>0</td>\n",
       "      <td>NaN</td>\n",
       "      <td>2015-02-23 12:40:00</td>\n",
       "      <td>Does it really matter</td>\n",
       "      <td>NaN</td>\n",
       "      <td>Customer Service Issue</td>\n",
       "    </tr>\n",
       "    <tr>\n",
       "      <th>8745</th>\n",
       "      <td>569985288992264192</td>\n",
       "      <td>ElmiraBudMan</td>\n",
       "      <td>negative</td>\n",
       "      <td>1.0000</td>\n",
       "      <td>Customer Service Issue</td>\n",
       "      <td>0.3561</td>\n",
       "      <td>Qatar Airways</td>\n",
       "      <td>PLANS CHANGED! IS THAT WHAT U CALL NOT BEIN AB...</td>\n",
       "      <td>0</td>\n",
       "      <td>NaN</td>\n",
       "      <td>2015-02-23 14:20:00</td>\n",
       "      <td>Does it really matter</td>\n",
       "      <td>NaN</td>\n",
       "      <td>Customer Service Issue</td>\n",
       "    </tr>\n",
       "    <tr>\n",
       "      <th>8783</th>\n",
       "      <td>569969714245431296</td>\n",
       "      <td>ElmiraBudMan</td>\n",
       "      <td>negative</td>\n",
       "      <td>1.0000</td>\n",
       "      <td>Flight Attendant Complaints</td>\n",
       "      <td>0.6736</td>\n",
       "      <td>Qatar Airways</td>\n",
       "      <td>we had a friend there telling the gate attenda...</td>\n",
       "      <td>0</td>\n",
       "      <td>NaN</td>\n",
       "      <td>2015-02-23 13:19:00</td>\n",
       "      <td>Does it really matter</td>\n",
       "      <td>NaN</td>\n",
       "      <td>Flight Attendant Complaints</td>\n",
       "    </tr>\n",
       "    <tr>\n",
       "      <th>8769</th>\n",
       "      <td>569972250385862656</td>\n",
       "      <td>ElmiraBudMan</td>\n",
       "      <td>negative</td>\n",
       "      <td>1.0000</td>\n",
       "      <td>Lost Luggage</td>\n",
       "      <td>0.6723</td>\n",
       "      <td>Qatar Airways</td>\n",
       "      <td>only happened because u couldn't get us home t...</td>\n",
       "      <td>0</td>\n",
       "      <td>NaN</td>\n",
       "      <td>2015-02-23 13:29:00</td>\n",
       "      <td>Does it really matter</td>\n",
       "      <td>NaN</td>\n",
       "      <td>Lost Luggage</td>\n",
       "    </tr>\n",
       "  </tbody>\n",
       "</table>\n",
       "</div>"
      ],
      "text/plain": [
       "               review_id     user_name airline_sentiment  \\\n",
       "8810  569959415433965569  ElmiraBudMan          negative   \n",
       "9127  569694350831161344  ElmiraBudMan          negative   \n",
       "8771  569971542538346496  ElmiraBudMan          negative   \n",
       "8777  569970626057801728  ElmiraBudMan           neutral   \n",
       "9138  569686602940858368  ElmiraBudMan          negative   \n",
       "9150  569682545375354880  ElmiraBudMan          negative   \n",
       "9199  569660306298945537  ElmiraBudMan          negative   \n",
       "9198  569661113593425920  ElmiraBudMan          negative   \n",
       "9202  569659137581326336  ElmiraBudMan          negative   \n",
       "9204  569658553381883905  ElmiraBudMan          negative   \n",
       "9205  569658168097292288  ElmiraBudMan          negative   \n",
       "8795  569967469135142914  ElmiraBudMan          negative   \n",
       "8794  569967808446009345  ElmiraBudMan          negative   \n",
       "8791  569968609440563201  ElmiraBudMan          negative   \n",
       "8805  569960904852312064  ElmiraBudMan          negative   \n",
       "8809  569959975566467072  ElmiraBudMan          negative   \n",
       "8745  569985288992264192  ElmiraBudMan          negative   \n",
       "8783  569969714245431296  ElmiraBudMan          negative   \n",
       "8769  569972250385862656  ElmiraBudMan          negative   \n",
       "\n",
       "      sentiment_confidence              negative_reason  \\\n",
       "8810                0.6702  Flight Attendant Complaints   \n",
       "9127                0.6718       Customer Service Issue   \n",
       "8771                0.6902                   Can't Tell   \n",
       "8777                0.7010                          NaN   \n",
       "9138                1.0000                   Bad Flight   \n",
       "9150                1.0000                  Late Flight   \n",
       "9199                1.0000                   Can't Tell   \n",
       "9198                1.0000                   Bad Flight   \n",
       "9202                1.0000  Flight Attendant Complaints   \n",
       "9204                1.0000                  Late Flight   \n",
       "9205                1.0000                   Can't Tell   \n",
       "8795                1.0000                  Late Flight   \n",
       "8794                1.0000       Customer Service Issue   \n",
       "8791                1.0000             Cancelled Flight   \n",
       "8805                1.0000       Customer Service Issue   \n",
       "8809                1.0000       Customer Service Issue   \n",
       "8745                1.0000       Customer Service Issue   \n",
       "8783                1.0000  Flight Attendant Complaints   \n",
       "8769                1.0000                 Lost Luggage   \n",
       "\n",
       "      negative_reason_confidence   airline_name  \\\n",
       "8810                      0.6702  Qatar Airways   \n",
       "9127                      0.6718  Qatar Airways   \n",
       "8771                      0.6902  Qatar Airways   \n",
       "8777                      0.0000  Qatar Airways   \n",
       "9138                      0.6596  Qatar Airways   \n",
       "9150                      0.6632  Qatar Airways   \n",
       "9199                      1.0000  Qatar Airways   \n",
       "9198                      0.3481  Qatar Airways   \n",
       "9202                      1.0000  Qatar Airways   \n",
       "9204                      0.6775  Qatar Airways   \n",
       "9205                      0.6315  Qatar Airways   \n",
       "8795                      0.3681  Qatar Airways   \n",
       "8794                      0.6805  Qatar Airways   \n",
       "8791                      1.0000  Qatar Airways   \n",
       "8805                      1.0000  Qatar Airways   \n",
       "8809                      1.0000  Qatar Airways   \n",
       "8745                      0.3561  Qatar Airways   \n",
       "8783                      0.6736  Qatar Airways   \n",
       "8769                      0.6723  Qatar Airways   \n",
       "\n",
       "                                            review_text  thumbup_count  \\\n",
       "8810  I get some bs from a guy at the door says door...              0   \n",
       "9127  always nice when a customer service manager th...              0   \n",
       "8771  the exhaustion of traveling n runnin thru the ...              0   \n",
       "8777  doesn't take into account the $ it cost rent a...              0   \n",
       "9138  why the hell did you overbook a plane when you...              0   \n",
       "9150  we don't control your stupidity in not having ...              0   \n",
       "9199  this is the reason I avoid and like the plague...              0   \n",
       "9198  how can a plane scheduled to come in on time a...              0   \n",
       "9202  hire smarter IT people if your systems keep cr...              0   \n",
       "9204  what is wrong with you guys and your inability...              1   \n",
       "9205  you guys have to be the worst. We are flying i...              0   \n",
       "8795  you idiots kept an on time plane on the Tarmac...              0   \n",
       "8794  if you actually cared about what you did it wo...              0   \n",
       "8791  is okay for u Cancelled Flight change a flight...              0   \n",
       "8805  just an FYI I'll be writing registered letters...              0   \n",
       "8809  I find it funny that responds but you don't. Y...              0   \n",
       "8745  PLANS CHANGED! IS THAT WHAT U CALL NOT BEIN AB...              0   \n",
       "8783  we had a friend there telling the gate attenda...              0   \n",
       "8769  only happened because u couldn't get us home t...              0   \n",
       "\n",
       "     review_coordinates    review_timestamp            review_city  \\\n",
       "8810                NaN 2015-02-23 12:38:00  Does it really matter   \n",
       "9127                NaN 2015-02-22 19:04:00  Does it really matter   \n",
       "8771                NaN 2015-02-23 13:26:00  Does it really matter   \n",
       "8777                NaN 2015-02-23 13:22:00  Does it really matter   \n",
       "9138                NaN 2015-02-22 18:34:00  Does it really matter   \n",
       "9150                NaN 2015-02-22 18:17:00  Does it really matter   \n",
       "9199                NaN 2015-02-22 16:49:00  Does it really matter   \n",
       "9198                NaN 2015-02-22 16:52:00  Does it really matter   \n",
       "9202                NaN 2015-02-22 16:44:00  Does it really matter   \n",
       "9204                NaN 2015-02-22 16:42:00  Does it really matter   \n",
       "9205                NaN 2015-02-22 16:41:00  Does it really matter   \n",
       "8795                NaN 2015-02-23 13:10:00  Does it really matter   \n",
       "8794                NaN 2015-02-23 13:11:00  Does it really matter   \n",
       "8791                NaN 2015-02-23 13:14:00  Does it really matter   \n",
       "8805                NaN 2015-02-23 12:44:00  Does it really matter   \n",
       "8809                NaN 2015-02-23 12:40:00  Does it really matter   \n",
       "8745                NaN 2015-02-23 14:20:00  Does it really matter   \n",
       "8783                NaN 2015-02-23 13:19:00  Does it really matter   \n",
       "8769                NaN 2015-02-23 13:29:00  Does it really matter   \n",
       "\n",
       "     user_timezone                       review  \n",
       "8810           NaN  Flight Attendant Complaints  \n",
       "9127           NaN       Customer Service Issue  \n",
       "8771           NaN                   Can't Tell  \n",
       "8777           NaN                      neutral  \n",
       "9138           NaN                   Bad Flight  \n",
       "9150           NaN                  Late Flight  \n",
       "9199           NaN                   Can't Tell  \n",
       "9198           NaN                   Bad Flight  \n",
       "9202           NaN  Flight Attendant Complaints  \n",
       "9204           NaN                  Late Flight  \n",
       "9205           NaN                   Can't Tell  \n",
       "8795           NaN                  Late Flight  \n",
       "8794           NaN       Customer Service Issue  \n",
       "8791           NaN             Cancelled Flight  \n",
       "8805           NaN       Customer Service Issue  \n",
       "8809           NaN       Customer Service Issue  \n",
       "8745           NaN       Customer Service Issue  \n",
       "8783           NaN  Flight Attendant Complaints  \n",
       "8769           NaN                 Lost Luggage  "
      ]
     },
     "execution_count": 71,
     "metadata": {},
     "output_type": "execute_result"
    }
   ],
   "source": [
    "train[train['review_city']=='Does it really matter']"
   ]
  },
  {
   "cell_type": "code",
   "execution_count": 72,
   "id": "4b4cc6ca",
   "metadata": {},
   "outputs": [],
   "source": [
    "user_to_city_mapping = train[train['user_timezone'] != ''].groupby('user_name')['user_timezone'].first()\n",
    "\n",
    "# Fill in the empty review_city values using the mapping\n",
    "train['user_timezone'] = train.apply(\n",
    "    lambda row: user_to_city_mapping.get(row['user_name'], row['user_timezone']),\n",
    "    axis=1\n",
    ")\n"
   ]
  },
  {
   "cell_type": "code",
   "execution_count": 73,
   "id": "1532667d",
   "metadata": {
    "scrolled": false
   },
   "outputs": [
    {
     "data": {
      "text/html": [
       "<div>\n",
       "<style scoped>\n",
       "    .dataframe tbody tr th:only-of-type {\n",
       "        vertical-align: middle;\n",
       "    }\n",
       "\n",
       "    .dataframe tbody tr th {\n",
       "        vertical-align: top;\n",
       "    }\n",
       "\n",
       "    .dataframe thead th {\n",
       "        text-align: right;\n",
       "    }\n",
       "</style>\n",
       "<table border=\"1\" class=\"dataframe\">\n",
       "  <thead>\n",
       "    <tr style=\"text-align: right;\">\n",
       "      <th></th>\n",
       "      <th>review_id</th>\n",
       "      <th>user_name</th>\n",
       "      <th>airline_sentiment</th>\n",
       "      <th>sentiment_confidence</th>\n",
       "      <th>negative_reason</th>\n",
       "      <th>negative_reason_confidence</th>\n",
       "      <th>airline_name</th>\n",
       "      <th>review_text</th>\n",
       "      <th>thumbup_count</th>\n",
       "      <th>review_coordinates</th>\n",
       "      <th>review_timestamp</th>\n",
       "      <th>review_city</th>\n",
       "      <th>user_timezone</th>\n",
       "      <th>review</th>\n",
       "    </tr>\n",
       "  </thead>\n",
       "  <tbody>\n",
       "    <tr>\n",
       "      <th>8336</th>\n",
       "      <td>567776348828360707</td>\n",
       "      <td>somekidnamedjon</td>\n",
       "      <td>positive</td>\n",
       "      <td>0.6485</td>\n",
       "      <td>NaN</td>\n",
       "      <td>NaN</td>\n",
       "      <td>Singapore Airlines</td>\n",
       "      <td>I would love for you to fly my best friend hom...</td>\n",
       "      <td>0</td>\n",
       "      <td>NaN</td>\n",
       "      <td>2015-02-17 12:03:00</td>\n",
       "      <td>✈️✈️</td>\n",
       "      <td>Eastern Time (US &amp; Canada)</td>\n",
       "      <td>positive</td>\n",
       "    </tr>\n",
       "  </tbody>\n",
       "</table>\n",
       "</div>"
      ],
      "text/plain": [
       "               review_id        user_name airline_sentiment  \\\n",
       "8336  567776348828360707  somekidnamedjon          positive   \n",
       "\n",
       "      sentiment_confidence negative_reason  negative_reason_confidence  \\\n",
       "8336                0.6485             NaN                         NaN   \n",
       "\n",
       "            airline_name                                        review_text  \\\n",
       "8336  Singapore Airlines  I would love for you to fly my best friend hom...   \n",
       "\n",
       "      thumbup_count review_coordinates    review_timestamp review_city  \\\n",
       "8336              0                NaN 2015-02-17 12:03:00        ✈️✈️   \n",
       "\n",
       "                   user_timezone    review  \n",
       "8336  Eastern Time (US & Canada)  positive  "
      ]
     },
     "execution_count": 73,
     "metadata": {},
     "output_type": "execute_result"
    }
   ],
   "source": [
    "train[train['user_name']==\"somekidnamedjon\"]"
   ]
  },
  {
   "cell_type": "markdown",
   "id": "92bb064f",
   "metadata": {},
   "source": [
    "we need to identify spams and elimination of data that attribute nothing to the sentimente analysis:<br>\n",
    "we found that news and user spams are both included in the database. \n",
    "In the mean time we also don't see much values in the timezone. As user time zone does not impact sentiment of their \n",
    "Therefore, we decide to not include that column too. \n",
    "\n",
    "We would also get ride off the he thumb_up data as it contains a 94% zero value."
   ]
  },
  {
   "cell_type": "markdown",
   "id": "233adbd3",
   "metadata": {},
   "source": [
    "creat a column that is a count of occurance of the user name  "
   ]
  },
  {
   "cell_type": "code",
   "execution_count": 74,
   "id": "65a557b1",
   "metadata": {},
   "outputs": [],
   "source": [
    "train['user_name_count'] = train.groupby('user_name')['user_name'].transform('count')"
   ]
  },
  {
   "cell_type": "code",
   "execution_count": 76,
   "id": "0fe42342",
   "metadata": {},
   "outputs": [
    {
     "data": {
      "image/png": "[encoded data removed]",
      "text/plain": [
       "<Figure size 600x600 with 1 Axes>"
      ]
     },
     "metadata": {},
     "output_type": "display_data"
    }
   ],
   "source": [
    "user_name_count = train['user_name_count'].value_counts()\n",
    "\n",
    "# Create a pie chart\n",
    "plt.figure(figsize=(6, 6))\n",
    "plt.pie(user_name_count, labels=user_name_count.index, autopct='%1.1f%%', startangle=90)\n",
    "plt.title('User Name Count Distribution')\n",
    "plt.show()"
   ]
  },
  {
   "cell_type": "markdown",
   "id": "8a948503",
   "metadata": {},
   "source": [
    "I want to see the distribution for airline sentiment where only user name that contained numbers are selected."
   ]
  },
  {
   "cell_type": "code",
   "execution_count": 77,
   "id": "3c9d56c7",
   "metadata": {
    "scrolled": true
   },
   "outputs": [
    {
     "data": {
      "text/plain": [
       "Text(0.5, 1.0, 'Airline Sentiment Distribution')"
      ]
     },
     "execution_count": 77,
     "metadata": {},
     "output_type": "execute_result"
    },
    {
     "data": {
      "image/png": "[encoded data removed]",
      "text/plain": [
       "<Figure size 600x600 with 1 Axes>"
      ]
     },
     "metadata": {},
     "output_type": "display_data"
    }
   ],
   "source": [
    "sentiment_counts=filtered_data_number['airline_sentiment'].value_counts()\n",
    "plt.figure(figsize=(6, 6))\n",
    "plt.pie(sentiment_counts, labels=sentiment_counts.index, autopct='%1.1f%%', startangle=90)\n",
    "plt.title('Airline Sentiment Distribution')"
   ]
  },
  {
   "cell_type": "code",
   "execution_count": 78,
   "id": "47147207",
   "metadata": {},
   "outputs": [],
   "source": [
    "user_name_counts = train['user_name'].value_counts()\n",
    "filtered_df = train[train['user_name'].isin(user_name_counts[user_name_counts<6].index)]"
   ]
  },
  {
   "cell_type": "code",
   "execution_count": 79,
   "id": "a1c15705",
   "metadata": {},
   "outputs": [
    {
     "name": "stdout",
     "output_type": "stream",
     "text": [
      "Number of rows where both 'review_timestamp' and 'review_city' are blank: 2473\n"
     ]
    }
   ],
   "source": [
    "count_blank = len(train[(train['user_timezone'].isna() | train['user_timezone'].eq('')) & (train['review_city'].isna() | train['review_city'].eq(''))])\n",
    "\n",
    "print(\"Number of rows where both 'review_timestamp' and 'review_city' are blank:\", count_blank)"
   ]
  },
  {
   "cell_type": "code",
   "execution_count": 80,
   "id": "d7065e89",
   "metadata": {
    "scrolled": true
   },
   "outputs": [
    {
     "name": "stdout",
     "output_type": "stream",
     "text": [
      "Number of rows where 'user_timezone', 'review_city', and 'review_coordinates' are blank: 2473\n"
     ]
    }
   ],
   "source": [
    "count_blank2 = len(train[\n",
    "    (train['user_timezone'].isna() | train['user_timezone'].eq('')) &\n",
    "    (train['review_city'].isna() | train['review_city'].eq('')) &\n",
    "    (train['review_coordinates'].isna() | train['review_coordinates'].eq(''))\n",
    "])\n",
    "\n",
    "print(\"Number of rows where 'user_timezone', 'review_city', and 'review_coordinates' are blank:\", count_blank)\n"
   ]
  },
  {
   "cell_type": "code",
   "execution_count": 81,
   "id": "ec49e38f",
   "metadata": {
    "scrolled": false
   },
   "outputs": [
    {
     "name": "stdout",
     "output_type": "stream",
     "text": [
      "0\n"
     ]
    }
   ],
   "source": [
    "debug_selection = len(train[(train['negative_reason_confidence'].isna()) & (train['airline_sentiment'] == 'negative')])\n",
    "print(debug_selection)"
   ]
  },
  {
   "cell_type": "markdown",
   "id": "4d8d9ba6",
   "metadata": {},
   "source": [
    "as we can see, the reivew text for sentiments contain things like #Name and thanks. It would be resasonable for us to exclude those from our anlysis as"
   ]
  },
  {
   "cell_type": "markdown",
   "id": "acf4de12",
   "metadata": {},
   "source": [
    "From the above EDA extracts we can see: <br>\n",
    "1. The airline sentiment are separated into 3 different kinds with 63% in negative, 21% in neural, and 16% in positive.<br>\n",
    "2. There are 10 negative reasons, and the top 1 accounts for 32% being: Customer service Issue.<br>\n",
    "3. We can see the data is collected from 6 different airline companies, with the top 3 being Emirate (26%), Qatar Airways(20%), and Qantas (19%)<br>\n",
    "\n",
    "<br>\n",
    "The data is suffering from missing data:<br>\n",
    "\n",
    "1. 92.24% of review coordinates are missing, we this varible is going to cause collinearity issue with review city and we decide to keep review city. <br>\n",
    "\n",
    "2. Contrary to our believe,review city and user time zone do not share all its missing rows. Only 2499 rows are missing for both review city and review time_zone. The inclusion of review coordinate can bring this down to 2418.<br>\n",
    "\n",
    "3. The missing values of negative_reason is caused by the airline_sentiment not being negative. we are going to create a new column called reivew and backfill \" positive\" or \"neural\" for the missing values.\n"
   ]
  },
  {
   "cell_type": "markdown",
   "id": "01354da8",
   "metadata": {},
   "source": [
    "Due to the frequent apperance of unformted and incorrect entries, we are unable to use review city and decide to remove that one.\n",
    "Due to the huge amount of missing data for the review coordianate. we decide to remove this column too."
   ]
  },
  {
   "cell_type": "markdown",
   "id": "67fff02f",
   "metadata": {},
   "source": [
    "## Feature Engineering "
   ]
  },
  {
   "cell_type": "code",
   "execution_count": 82,
   "id": "70830b56",
   "metadata": {
    "scrolled": false
   },
   "outputs": [
    {
     "name": "stdout",
     "output_type": "stream",
     "text": [
      "['negative' 'neutral' 'positive']\n"
     ]
    }
   ],
   "source": [
    "# preprocessing data\n",
    "from sklearn.preprocessing import LabelEncoder\n",
    "\n",
    "le = LabelEncoder() \n",
    "target = le.fit_transform(train['airline_sentiment']) # convert target into integers\n",
    "train['airline_sentiment'] = target\n",
    "print(le.classes_) # this shows which index maps to which class\n"
   ]
  },
  {
   "cell_type": "code",
   "execution_count": 83,
   "id": "7d66306f",
   "metadata": {
    "scrolled": true
   },
   "outputs": [
    {
     "name": "stdout",
     "output_type": "stream",
     "text": [
      "(2724, 15)\n",
      "(2724, 15)\n",
      "(8172, 15)\n"
     ]
    }
   ],
   "source": [
    "np.random.seed(511365)\n",
    "\n",
    "index = list(range(train.shape[0])) # an list of indices\n",
    "np.random.shuffle(index) # shuffle the index in-place\n",
    "\n",
    "p_val = 0.2\n",
    "p_test = 0.2\n",
    "N_test = int(train.shape[0] * p_test)\n",
    "N_val = int(train.shape[0] * p_val)\n",
    "\n",
    "\n",
    "# get training, val and test sets\n",
    "test_data = train.iloc[ index[:N_test] ,:]\n",
    "val_data = train.iloc[ index[N_test: (N_test+N_val)], :]\n",
    "train_data = train.iloc[ index[(N_test+N_val):], :]\n",
    "\n",
    "print(test_data.shape)\n",
    "print(val_data.shape)\n",
    "print(train_data.shape)"
   ]
  },
  {
   "cell_type": "code",
   "execution_count": 84,
   "id": "215f18c6",
   "metadata": {},
   "outputs": [],
   "source": [
    "# define our own torch dataset\n",
    "# for a torch dataset, we need to define two functions: \n",
    "#     __len__: return the length of dataset\n",
    "#     __getitem__: given a index (integer), return the corresponding sample, both y and X\n",
    "\n",
    "class SpamDataset(utils.data.Dataset):\n",
    "    def __init__(self, myData):\n",
    "        \"\"\"\n",
    "        myData should be a dataframe object containing both y (first col) and X (second col)\n",
    "        \"\"\"\n",
    "        super().__init__()\n",
    "        self.data = myData\n",
    "        \n",
    "    def __len__(self):\n",
    "        return len(self.data)\n",
    "    \n",
    "    def __getitem__(self, idx):\n",
    "        \n",
    "        return (self.data.iloc[idx,2], self.data.iloc[idx,7]) # (target, text)"
   ]
  },
  {
   "cell_type": "code",
   "execution_count": 85,
   "id": "6d9af68b",
   "metadata": {},
   "outputs": [],
   "source": [
    "# now we can build our torch dataset \n",
    "train_torch = SpamDataset(train_data)\n",
    "val_torch = SpamDataset(val_data)\n",
    "test_torch = SpamDataset(test_data)"
   ]
  },
  {
   "cell_type": "code",
   "execution_count": 86,
   "id": "985e22ae",
   "metadata": {},
   "outputs": [],
   "source": [
    "tokenizer = get_tokenizer('basic_english')"
   ]
  },
  {
   "cell_type": "code",
   "execution_count": 87,
   "id": "21585bc0",
   "metadata": {},
   "outputs": [],
   "source": [
    "from torchtext.vocab import build_vocab_from_iterator\n",
    "\n",
    "# ===== Build vocabulary =====\n",
    "# an unknown token is added for all unknown words outside the documents\n",
    "# you may specify the min_freq to filter out infrequent words\n",
    "vocabulary = build_vocab_from_iterator(\n",
    "    [tokenizer(msg) for msg in train['review_text']],\n",
    "    specials=[\"<unk>\"],\n",
    "    min_freq = 3, # filter out all words that appear less than three times\n",
    ")\n",
    "# Set to avoid errors with unknown words\n",
    "vocabulary.set_default_index(vocabulary[\"<unk>\"])"
   ]
  },
  {
   "cell_type": "code",
   "execution_count": null,
   "id": "a7da99fd",
   "metadata": {},
   "outputs": [],
   "source": [
    "# define a function that converts a document into tokens (represented by index)\n",
    "def doc_tokenizer(doc):\n",
    "    return torch.tensor([vocabulary[token] for token in tokenizer(doc)], dtype=torch.long)"
   ]
  },
  {
   "cell_type": "code",
   "execution_count": 88,
   "id": "dda462d3",
   "metadata": {},
   "outputs": [],
   "source": [
    "# define a function that converts a document into tokens in list instead of tensor\n",
    "def doc_tokenizer2(doc):\n",
    "    return [vocabulary[token] for token in tokenizer(doc)]"
   ]
  },
  {
   "cell_type": "code",
   "execution_count": 89,
   "id": "97824392",
   "metadata": {},
   "outputs": [],
   "source": [
    "# ========= Step 2 ==============\n",
    "# Notice in a corpus, each document can have different size. Thus, we usually pad zeros to the maximum length of document.\n",
    "# Alternatively, you can concat all documents into a long vector \n",
    "# and the starting index of each document is identified in the variable called offsets.\n",
    "\n",
    "def collate_batch(batch):\n",
    "    \n",
    "    target_list, text_list, offsets = [], [], [0] # initalize the first offset to be 0 here\n",
    "        \n",
    "    # loop through all samples in batch\n",
    "    for idx in range(len(batch)):\n",
    "        \n",
    "        _label = batch[idx][0]\n",
    "        _text = batch[idx][1]\n",
    "        \n",
    "        target_list.append( _label )\n",
    "        tokens = doc_tokenizer( _text )\n",
    "        text_list.append(tokens)\n",
    "        \n",
    "        # ====== wrong ======\n",
    "        #if idx == 0:\n",
    "        #    offsets.append(0)  # the first document starts from idx 0\n",
    "        #else:\n",
    "        #    offsets.append(offsets[-1] + tokens.size(0)) # the next document starts from (offsets[-1] + tokens.size(0))\n",
    "        # ===================\n",
    "        \n",
    "        offsets.append(offsets[-1] + tokens.size(0))\n",
    "    \n",
    "    offsets = offsets[:-1] # remove the last entry\n",
    "    \n",
    "    # convert to torch tensor\n",
    "    target_list = torch.tensor(target_list, dtype=torch.int64)\n",
    "    offsets = torch.tensor(offsets)\n",
    "    text_list = torch.cat(text_list) # concat into a long vector\n",
    "    \n",
    "    return target_list, text_list, offsets"
   ]
  },
  {
   "cell_type": "code",
   "execution_count": 90,
   "id": "27c7bfb8",
   "metadata": {},
   "outputs": [],
   "source": [
    "torch.manual_seed(0)\n",
    "\n",
    "batchSize = 8\n",
    "train_loader = utils.data.DataLoader(train_torch, batch_size=batchSize, shuffle=True, collate_fn=collate_batch)\n",
    "val_loader = utils.data.DataLoader(val_torch, batch_size=batchSize, shuffle=True, collate_fn=collate_batch)\n",
    "test_loader = utils.data.DataLoader(test_torch, batch_size=batchSize, shuffle=False, collate_fn=collate_batch)"
   ]
  },
  {
   "cell_type": "code",
   "execution_count": 91,
   "id": "18ebaf4e",
   "metadata": {},
   "outputs": [],
   "source": [
    "train_sentiment= list(train_data['airline_sentiment'])\n",
    "train_review_text= []\n",
    "for idx in range(len(train_data['review_text'])):\n",
    "    token=doc_tokenizer2( list(train_data['review_text'])[idx])\n",
    "    train_review_text.append(token)\n"
   ]
  },
  {
   "cell_type": "markdown",
   "id": "5dba516a",
   "metadata": {},
   "source": [
    "train_loader is tokenized values we processed "
   ]
  },
  {
   "cell_type": "markdown",
   "id": "3513cfbb",
   "metadata": {},
   "source": [
    "Model building"
   ]
  },
  {
   "cell_type": "code",
   "execution_count": 92,
   "id": "a9eb8dd0",
   "metadata": {},
   "outputs": [],
   "source": [
    "# ====== Step 1 ========= \n",
    "class SpamClassifier(nn.Module):\n",
    "    def __init__(self, vocab_size, embed_dim):\n",
    "        super().__init__()\n",
    "        self.embedding = nn.EmbeddingBag(vocab_size, embed_dim, mode='mean') # embedding layer\n",
    "        self.Linear1 = nn.Linear(embed_dim, 1)\n",
    "        self.Dropout = nn.Dropout(p=0.1)\n",
    "    \n",
    "    def forward(self, text, offsets):\n",
    "        # note we need offsets to indicate which document we have\n",
    "        out = self.embedding(text, offsets)\n",
    "        out = self.Dropout(out)\n",
    "        out = self.Linear1(out)\n",
    "        return out\n",
    "        # for the last layer, we don't apply activation because we can use BCEWithLogitsLoss to combine sigmoid with BCELoss\n",
    "        \n",
    "# model initalization\n",
    "embed_dim = 8\n",
    "model = SpamClassifier(len(vocabulary), embed_dim)"
   ]
  },
  {
   "cell_type": "code",
   "execution_count": 93,
   "id": "809f7879",
   "metadata": {},
   "outputs": [],
   "source": [
    "# ======= Step 2 ==========\n",
    "loss_fn = torch.nn.BCEWithLogitsLoss()\n",
    "optimizer = torch.optim.Adam(model.parameters(), lr=0.005)"
   ]
  },
  {
   "cell_type": "code",
   "execution_count": 94,
   "id": "2522214d",
   "metadata": {},
   "outputs": [],
   "source": [
    "def evaluate(dataloader):\n",
    "    \n",
    "    y_pred = torch.tensor([]) # store prediction\n",
    "    y_true = torch.tensor([]) # store true label\n",
    "    \n",
    "    model.eval()\n",
    "    with torch.no_grad():\n",
    "        for label, text, offsets in dataloader:\n",
    "            y_pred_batch = model(text, offsets)\n",
    "            \n",
    "            y_pred = torch.cat((y_pred, y_pred_batch.squeeze()))\n",
    "            y_true = torch.cat((y_true, label.squeeze()))\n",
    "            \n",
    "    return y_pred, y_true"
   ]
  },
  {
   "cell_type": "code",
   "execution_count": 71,
   "id": "a616c7ca",
   "metadata": {
    "scrolled": true
   },
   "outputs": [
    {
     "name": "stdout",
     "output_type": "stream",
     "text": [
      "Epoch 0: 0.2899 (train), -0.4224 (val), 0.5694 (val acc)\n",
      "Epoch 1: 0.0001 (train), -3.0350 (val), 0.5775 (val acc)\n",
      "Epoch 2: 1.0023 (train), -7.1558 (val), 0.5727 (val acc)\n",
      "Epoch 3: -13.8849 (train), -12.6754 (val), 0.5624 (val acc)\n",
      "Epoch 4: 35.0652 (train), -19.2193 (val), 0.5631 (val acc)\n",
      "Epoch 5: 4.3165 (train), -27.0223 (val), 0.5591 (val acc)\n",
      "Epoch 6: 0.0004 (train), -35.8699 (val), 0.5569 (val acc)\n",
      "Epoch 7: -74.2605 (train), -45.8017 (val), 0.5540 (val acc)\n",
      "Epoch 8: -248.7891 (train), -56.6917 (val), 0.5543 (val acc)\n",
      "Epoch 9: -33.8463 (train), -68.8412 (val), 0.5569 (val acc)\n",
      "Epoch 10: -289.0657 (train), -82.3842 (val), 0.5547 (val acc)\n",
      "Epoch 11: -47.0130 (train), -96.3353 (val), 0.5573 (val acc)\n",
      "Epoch 12: 47.8339 (train), -111.3066 (val), 0.5547 (val acc)\n",
      "Epoch 13: -180.4846 (train), -127.4008 (val), 0.5551 (val acc)\n",
      "Epoch 14: -186.3135 (train), -144.5322 (val), 0.5558 (val acc)\n",
      "Epoch 15: -190.9116 (train), -163.0947 (val), 0.5569 (val acc)\n",
      "Epoch 16: 33.4859 (train), -182.3635 (val), 0.5576 (val acc)\n",
      "Epoch 17: 70.8089 (train), -202.1613 (val), 0.5580 (val acc)\n",
      "Epoch 18: 58.2079 (train), -223.3307 (val), 0.5547 (val acc)\n",
      "Epoch 19: -38.5119 (train), -245.1871 (val), 0.5569 (val acc)\n",
      "Epoch 20: -3014.2896 (train), -268.5162 (val), 0.5565 (val acc)\n",
      "Epoch 21: 909.0059 (train), -292.6488 (val), 0.5576 (val acc)\n",
      "Epoch 22: 0.7279 (train), -317.3070 (val), 0.5580 (val acc)\n",
      "Epoch 23: -1119.8953 (train), -343.2165 (val), 0.5565 (val acc)\n",
      "Epoch 24: -748.8519 (train), -370.8814 (val), 0.5558 (val acc)\n",
      "Epoch 25: 0.0000 (train), -398.9177 (val), 0.5576 (val acc)\n",
      "Epoch 26: 95.5209 (train), -428.3753 (val), 0.5514 (val acc)\n",
      "Epoch 27: 153.7226 (train), -458.0089 (val), 0.5547 (val acc)\n",
      "Epoch 28: 155.1718 (train), -489.4733 (val), 0.5576 (val acc)\n",
      "Epoch 29: 48.0503 (train), -521.6428 (val), 0.5492 (val acc)\n",
      "Epoch 30: -5163.2261 (train), -554.5451 (val), 0.5554 (val acc)\n",
      "Epoch 31: -1063.0265 (train), -588.3265 (val), 0.5558 (val acc)\n",
      "Epoch 32: 630.4408 (train), -623.7606 (val), 0.5554 (val acc)\n",
      "Epoch 33: 1418.6525 (train), -660.2954 (val), 0.5551 (val acc)\n",
      "Epoch 34: 0.0000 (train), -697.1331 (val), 0.5551 (val acc)\n",
      "Epoch 35: -4824.8032 (train), -734.6692 (val), 0.5551 (val acc)\n",
      "Epoch 36: -3203.8716 (train), -773.3112 (val), 0.5558 (val acc)\n",
      "Epoch 37: -777.7011 (train), -813.5680 (val), 0.5554 (val acc)\n",
      "Epoch 38: -1330.2833 (train), -854.3786 (val), 0.5540 (val acc)\n",
      "Epoch 39: -7931.8394 (train), -896.2227 (val), 0.5565 (val acc)\n",
      "Epoch 40: 560.1807 (train), -939.3495 (val), 0.5554 (val acc)\n",
      "Epoch 41: 209.3235 (train), -983.0443 (val), 0.5551 (val acc)\n",
      "Epoch 42: 483.9253 (train), -1028.2380 (val), 0.5554 (val acc)\n",
      "Epoch 43: 146.4771 (train), -1074.4976 (val), 0.5551 (val acc)\n",
      "Epoch 44: -3780.8093 (train), -1120.2479 (val), 0.5503 (val acc)\n",
      "Epoch 45: -762.2932 (train), -1168.7051 (val), 0.5536 (val acc)\n",
      "Epoch 46: 0.0000 (train), -1216.8729 (val), 0.5543 (val acc)\n",
      "Epoch 47: 15.7550 (train), -1266.3970 (val), 0.5540 (val acc)\n",
      "Epoch 48: 203.7159 (train), -1317.4874 (val), 0.5551 (val acc)\n",
      "Epoch 49: 0.0000 (train), -1370.2598 (val), 0.5551 (val acc)\n",
      "Epoch 50: -2985.7212 (train), -1423.6462 (val), 0.5540 (val acc)\n",
      "Epoch 51: 929.1484 (train), -1478.6130 (val), 0.5536 (val acc)\n",
      "Epoch 52: -2110.2300 (train), -1533.5148 (val), 0.5507 (val acc)\n",
      "Epoch 53: 5.1717 (train), -1590.3455 (val), 0.5543 (val acc)\n",
      "Epoch 54: 0.0000 (train), -1647.8922 (val), 0.5543 (val acc)\n",
      "Epoch 55: 1021.2559 (train), -1705.6233 (val), 0.5554 (val acc)\n",
      "Epoch 56: 637.3945 (train), -1764.6381 (val), 0.5543 (val acc)\n",
      "Epoch 57: 180.5076 (train), -1825.0175 (val), 0.5554 (val acc)\n",
      "Epoch 58: -1324.8429 (train), -1886.7146 (val), 0.5551 (val acc)\n",
      "Epoch 59: -1516.2610 (train), -1949.3906 (val), 0.5547 (val acc)\n",
      "Epoch 60: -21909.4629 (train), -2011.8480 (val), 0.5547 (val acc)\n",
      "Epoch 61: 940.6518 (train), -2075.9758 (val), 0.5547 (val acc)\n",
      "Epoch 62: -6704.4951 (train), -2138.1880 (val), 0.5503 (val acc)\n",
      "Epoch 63: -4656.0781 (train), -2203.6089 (val), 0.5558 (val acc)\n",
      "Epoch 64: 1050.0227 (train), -2270.8159 (val), 0.5547 (val acc)\n",
      "Epoch 65: -3405.1902 (train), -2338.7378 (val), 0.5562 (val acc)\n",
      "Epoch 66: -2761.0032 (train), -2409.2349 (val), 0.5543 (val acc)\n",
      "Epoch 67: -11914.9951 (train), -2479.7017 (val), 0.5558 (val acc)\n",
      "Epoch 68: -4315.4482 (train), -2551.0872 (val), 0.5543 (val acc)\n",
      "Epoch 69: 2529.0620 (train), -2621.6799 (val), 0.5543 (val acc)\n",
      "Epoch 70: 23.6714 (train), -2694.6143 (val), 0.5554 (val acc)\n",
      "Epoch 71: 641.6799 (train), -2767.5042 (val), 0.5551 (val acc)\n",
      "Epoch 72: -5329.0942 (train), -2841.4146 (val), 0.5543 (val acc)\n",
      "Epoch 73: 425.2396 (train), -2917.2913 (val), 0.5554 (val acc)\n",
      "Epoch 74: -17178.2734 (train), -2992.3862 (val), 0.5547 (val acc)\n",
      "Epoch 75: 4142.1245 (train), -3070.2607 (val), 0.5543 (val acc)\n",
      "Epoch 76: -9176.2588 (train), -3149.5891 (val), 0.5547 (val acc)\n",
      "Epoch 77: 0.0000 (train), -3230.2222 (val), 0.5554 (val acc)\n",
      "Epoch 78: -5856.3677 (train), -3312.5881 (val), 0.5551 (val acc)\n",
      "Epoch 79: 786.5366 (train), -3393.7407 (val), 0.5547 (val acc)\n",
      "Epoch 80: -10406.2227 (train), -3476.2808 (val), 0.5551 (val acc)\n",
      "Epoch 81: 0.0000 (train), -3559.7734 (val), 0.5547 (val acc)\n",
      "Epoch 82: 1023.0467 (train), -3643.7004 (val), 0.5547 (val acc)\n",
      "Epoch 83: -45276.5195 (train), -3728.9082 (val), 0.5551 (val acc)\n",
      "Epoch 84: -1562.8182 (train), -3816.2378 (val), 0.5547 (val acc)\n",
      "Epoch 85: 200.8332 (train), -3903.3237 (val), 0.5547 (val acc)\n",
      "Epoch 86: -1021.8240 (train), -3990.3533 (val), 0.5543 (val acc)\n",
      "Epoch 87: 8.0508 (train), -4077.4065 (val), 0.5540 (val acc)\n",
      "Epoch 88: -2768.1162 (train), -4167.4634 (val), 0.5510 (val acc)\n",
      "Epoch 89: 7409.9482 (train), -4258.8560 (val), 0.5547 (val acc)\n",
      "Epoch 90: 5804.5498 (train), -4350.5562 (val), 0.5540 (val acc)\n",
      "Epoch 91: -36449.9766 (train), -4442.0449 (val), 0.5547 (val acc)\n",
      "Epoch 92: -7696.0210 (train), -4536.1313 (val), 0.5547 (val acc)\n",
      "Epoch 93: -8821.0303 (train), -4630.8867 (val), 0.5554 (val acc)\n",
      "Epoch 94: 1397.8781 (train), -4726.4106 (val), 0.5547 (val acc)\n",
      "Epoch 95: 7.0662 (train), -4823.7847 (val), 0.5540 (val acc)\n",
      "Epoch 96: -7148.5020 (train), -4921.3735 (val), 0.5551 (val acc)\n",
      "Epoch 97: 0.0000 (train), -5020.2539 (val), 0.5547 (val acc)\n",
      "Epoch 98: 1092.3386 (train), -5118.6748 (val), 0.5547 (val acc)\n",
      "Epoch 99: 7606.4570 (train), -5220.1768 (val), 0.5540 (val acc)\n",
      "Epoch 100: -5467.4644 (train), -5322.2754 (val), 0.5536 (val acc)\n",
      "Epoch 101: 265.3379 (train), -5424.4902 (val), 0.5543 (val acc)\n",
      "Epoch 102: 190.0721 (train), -5528.9697 (val), 0.5547 (val acc)\n",
      "Epoch 103: 1708.1837 (train), -5632.9009 (val), 0.5547 (val acc)\n",
      "Epoch 104: -15771.2998 (train), -5737.9775 (val), 0.5547 (val acc)\n",
      "Epoch 105: 4465.2988 (train), -5844.4463 (val), 0.5551 (val acc)\n",
      "Epoch 106: -4088.1294 (train), -5953.6006 (val), 0.5543 (val acc)\n",
      "Epoch 107: -9918.8848 (train), -6061.2964 (val), 0.5551 (val acc)\n",
      "Epoch 108: 42.1880 (train), -6171.0396 (val), 0.5540 (val acc)\n",
      "Epoch 109: 4381.4810 (train), -6283.1475 (val), 0.5540 (val acc)\n",
      "Epoch 110: 147.2961 (train), -6395.7642 (val), 0.5503 (val acc)\n",
      "Epoch 111: 7.6831 (train), -6507.3569 (val), 0.5547 (val acc)\n",
      "Epoch 112: 5845.1650 (train), -6619.5317 (val), 0.5543 (val acc)\n",
      "Epoch 113: -16606.9746 (train), -6735.5083 (val), 0.5543 (val acc)\n",
      "Epoch 114: -23566.5781 (train), -6851.8423 (val), 0.5547 (val acc)\n",
      "Epoch 115: 1613.5249 (train), -6969.6382 (val), 0.5547 (val acc)\n",
      "Epoch 116: -24363.0293 (train), -7087.5029 (val), 0.5551 (val acc)\n",
      "Epoch 117: -10154.1240 (train), -7204.4199 (val), 0.5554 (val acc)\n",
      "Epoch 118: 0.0000 (train), -7322.8970 (val), 0.5551 (val acc)\n",
      "Epoch 119: 382.2171 (train), -7442.6777 (val), 0.5547 (val acc)\n",
      "Epoch 120: -9876.7842 (train), -7564.2744 (val), 0.5540 (val acc)\n",
      "Epoch 121: 2437.8596 (train), -7687.7520 (val), 0.5551 (val acc)\n",
      "Epoch 122: 32.8224 (train), -7810.9814 (val), 0.5551 (val acc)\n",
      "Epoch 123: 20723.2148 (train), -7937.3809 (val), 0.5543 (val acc)\n",
      "Epoch 124: -16756.0098 (train), -8065.9331 (val), 0.5547 (val acc)\n",
      "Epoch 125: -12020.2891 (train), -8191.7080 (val), 0.5547 (val acc)\n",
      "Epoch 126: -16579.8457 (train), -8316.2031 (val), 0.5551 (val acc)\n",
      "Epoch 127: 318.0935 (train), -8446.1816 (val), 0.5547 (val acc)\n",
      "Epoch 128: -78382.1875 (train), -8576.1660 (val), 0.5547 (val acc)\n",
      "Epoch 129: -12152.0117 (train), -8706.2031 (val), 0.5547 (val acc)\n",
      "Epoch 130: 12313.2529 (train), -8839.6230 (val), 0.5543 (val acc)\n",
      "Epoch 131: 515.8973 (train), -8969.8535 (val), 0.5543 (val acc)\n",
      "Epoch 132: -43406.7227 (train), -9105.2256 (val), 0.5540 (val acc)\n",
      "Epoch 133: -6883.5742 (train), -9238.3096 (val), 0.5554 (val acc)\n",
      "Epoch 134: 3001.7495 (train), -9375.2041 (val), 0.5554 (val acc)\n",
      "Epoch 135: 0.0000 (train), -9512.3770 (val), 0.5551 (val acc)\n",
      "Epoch 136: 0.0000 (train), -9650.8389 (val), 0.5551 (val acc)\n",
      "Epoch 137: 8246.8203 (train), -9789.7588 (val), 0.5551 (val acc)\n",
      "Epoch 138: 10106.3389 (train), -9931.1279 (val), 0.5554 (val acc)\n",
      "Epoch 139: 2638.1006 (train), -10074.0693 (val), 0.5554 (val acc)\n",
      "Epoch 140: 0.0000 (train), -10215.2275 (val), 0.5551 (val acc)\n",
      "Epoch 141: 4278.4502 (train), -10358.4551 (val), 0.5551 (val acc)\n",
      "Epoch 142: 14599.5410 (train), -10501.9443 (val), 0.5547 (val acc)\n",
      "Epoch 143: 0.0000 (train), -10647.5342 (val), 0.5551 (val acc)\n",
      "Epoch 144: -38171.0273 (train), -10791.0850 (val), 0.5547 (val acc)\n",
      "Epoch 145: 0.0000 (train), -10937.4561 (val), 0.5554 (val acc)\n",
      "Epoch 146: 1656.2351 (train), -11085.4814 (val), 0.5551 (val acc)\n",
      "Epoch 147: -35446.9102 (train), -11231.1523 (val), 0.5551 (val acc)\n",
      "Epoch 148: 8367.3037 (train), -11383.0410 (val), 0.5547 (val acc)\n",
      "Epoch 149: -227.3462 (train), -11530.8711 (val), 0.5551 (val acc)\n",
      "Epoch 150: -46950.7812 (train), -11683.2480 (val), 0.5547 (val acc)\n",
      "Epoch 151: -40996.2070 (train), -11833.0693 (val), 0.5551 (val acc)\n",
      "Epoch 152: -23031.0645 (train), -11985.3594 (val), 0.5547 (val acc)\n",
      "Epoch 153: -38765.3750 (train), -12138.5430 (val), 0.5551 (val acc)\n",
      "Epoch 154: 10060.4746 (train), -12293.8564 (val), 0.5551 (val acc)\n",
      "Epoch 155: -24740.0098 (train), -12447.0000 (val), 0.5551 (val acc)\n",
      "Epoch 156: -113378.3359 (train), -12602.6025 (val), 0.5543 (val acc)\n",
      "Epoch 157: -1931.0996 (train), -12761.0967 (val), 0.5554 (val acc)\n",
      "Epoch 158: 4353.4502 (train), -12917.4277 (val), 0.5554 (val acc)\n",
      "Epoch 159: 12565.8809 (train), -13074.8242 (val), 0.5551 (val acc)\n",
      "Epoch 160: 12298.0996 (train), -13233.7793 (val), 0.5551 (val acc)\n",
      "Epoch 161: 17657.2422 (train), -13398.3086 (val), 0.5547 (val acc)\n",
      "Epoch 162: -162865.1562 (train), -13559.5273 (val), 0.5558 (val acc)\n",
      "Epoch 163: 10723.6777 (train), -13724.1250 (val), 0.5551 (val acc)\n",
      "Epoch 164: -34689.2734 (train), -13891.4893 (val), 0.5503 (val acc)\n",
      "Epoch 165: -17525.8926 (train), -14058.3418 (val), 0.5554 (val acc)\n",
      "Epoch 166: 0.0000 (train), -14223.6963 (val), 0.5551 (val acc)\n",
      "Epoch 167: -32894.0781 (train), -14392.9014 (val), 0.5558 (val acc)\n",
      "Epoch 168: -27667.2070 (train), -14561.6592 (val), 0.5554 (val acc)\n",
      "Epoch 169: -22268.5352 (train), -14733.1953 (val), 0.5507 (val acc)\n",
      "Epoch 170: 2920.3054 (train), -14901.8809 (val), 0.5558 (val acc)\n",
      "Epoch 171: 5317.6401 (train), -15074.1016 (val), 0.5554 (val acc)\n",
      "Epoch 172: 1985.7850 (train), -15248.5918 (val), 0.5547 (val acc)\n",
      "Epoch 173: 0.0000 (train), -15421.0166 (val), 0.5551 (val acc)\n",
      "Epoch 174: 10373.5098 (train), -15599.2920 (val), 0.5496 (val acc)\n",
      "Epoch 175: 12479.9375 (train), -15773.7178 (val), 0.5554 (val acc)\n",
      "Epoch 176: -29298.4258 (train), -15948.2881 (val), 0.5554 (val acc)\n",
      "Epoch 177: -149426.8906 (train), -16125.0967 (val), 0.5554 (val acc)\n",
      "Epoch 178: 0.0000 (train), -16303.4785 (val), 0.5503 (val acc)\n",
      "Epoch 179: 0.0000 (train), -16480.5664 (val), 0.5551 (val acc)\n",
      "Epoch 180: 778.2404 (train), -16659.2891 (val), 0.5551 (val acc)\n",
      "Epoch 181: -63795.5859 (train), -16837.1855 (val), 0.5558 (val acc)\n",
      "Epoch 182: -113184.4141 (train), -17018.6270 (val), 0.5547 (val acc)\n",
      "Epoch 183: 23477.7969 (train), -17199.9902 (val), 0.5510 (val acc)\n",
      "Epoch 184: -35533.5859 (train), -17380.4492 (val), 0.5551 (val acc)\n",
      "Epoch 185: -38190.3945 (train), -17563.6777 (val), 0.5554 (val acc)\n",
      "Epoch 186: -32774.8008 (train), -17752.6680 (val), 0.5562 (val acc)\n",
      "Epoch 187: 109512.8984 (train), -17940.1504 (val), 0.5558 (val acc)\n",
      "Epoch 188: -47051.9297 (train), -18127.2617 (val), 0.5499 (val acc)\n",
      "Epoch 189: 0.0000 (train), -18316.5137 (val), 0.5551 (val acc)\n",
      "Epoch 190: 0.0000 (train), -18506.0117 (val), 0.5554 (val acc)\n",
      "Epoch 191: 6.2501 (train), -18697.4824 (val), 0.5551 (val acc)\n",
      "Epoch 192: -70673.3516 (train), -18885.3535 (val), 0.5554 (val acc)\n",
      "Epoch 193: 0.0000 (train), -19082.0312 (val), 0.5554 (val acc)\n",
      "Epoch 194: 0.0000 (train), -19278.9551 (val), 0.5558 (val acc)\n",
      "Epoch 195: -64.5607 (train), -19467.3984 (val), 0.5554 (val acc)\n",
      "Epoch 196: 13.2181 (train), -19665.6777 (val), 0.5543 (val acc)\n",
      "Epoch 197: 61.9666 (train), -19866.4883 (val), 0.5547 (val acc)\n",
      "Epoch 198: 2393.9912 (train), -20065.3574 (val), 0.5554 (val acc)\n",
      "Epoch 199: 0.0000 (train), -20263.6738 (val), 0.5551 (val acc)\n",
      "Epoch 200: 8008.6953 (train), -20461.1914 (val), 0.5558 (val acc)\n",
      "Epoch 201: 0.0000 (train), -20661.2676 (val), 0.5554 (val acc)\n",
      "Epoch 202: -100926.4375 (train), -20867.8906 (val), 0.5551 (val acc)\n",
      "Epoch 203: 0.0000 (train), -21071.6738 (val), 0.5547 (val acc)\n",
      "Epoch 204: 19102.4023 (train), -21276.0059 (val), 0.5558 (val acc)\n",
      "Epoch 205: 3100.4463 (train), -21480.8203 (val), 0.5551 (val acc)\n",
      "Epoch 206: -43942.5586 (train), -21683.2812 (val), 0.5547 (val acc)\n",
      "Epoch 207: 37976.6445 (train), -21890.9512 (val), 0.5551 (val acc)\n",
      "Epoch 208: 0.0000 (train), -22098.7207 (val), 0.5558 (val acc)\n",
      "Epoch 209: -264981.2500 (train), -22306.3770 (val), 0.5554 (val acc)\n",
      "Epoch 210: -93051.3281 (train), -22516.9980 (val), 0.5554 (val acc)\n",
      "Epoch 211: 3812.5215 (train), -22725.7051 (val), 0.5554 (val acc)\n",
      "Epoch 212: 8900.7773 (train), -22936.7402 (val), 0.5551 (val acc)\n",
      "Epoch 213: 69019.3984 (train), -23152.1777 (val), 0.5547 (val acc)\n",
      "Epoch 214: 21544.9082 (train), -23363.7754 (val), 0.5551 (val acc)\n",
      "Epoch 215: 0.0000 (train), -23576.4414 (val), 0.5551 (val acc)\n",
      "Epoch 216: -89435.5938 (train), -23790.2148 (val), 0.5547 (val acc)\n",
      "Epoch 217: 0.0000 (train), -24006.9727 (val), 0.5554 (val acc)\n",
      "Epoch 218: 6.2964 (train), -24226.6934 (val), 0.5547 (val acc)\n",
      "Epoch 219: 0.0000 (train), -24448.9785 (val), 0.5551 (val acc)\n",
      "Epoch 220: 0.0000 (train), -24670.7715 (val), 0.5543 (val acc)\n",
      "Epoch 221: 3668.4192 (train), -24889.1484 (val), 0.5551 (val acc)\n",
      "Epoch 222: 3827.7556 (train), -25106.9434 (val), 0.5554 (val acc)\n",
      "Epoch 223: -71033.0391 (train), -25330.6992 (val), 0.5510 (val acc)\n",
      "Epoch 224: -303747.2188 (train), -25553.1445 (val), 0.5554 (val acc)\n",
      "Epoch 225: 11182.7656 (train), -25781.6719 (val), 0.5551 (val acc)\n",
      "Epoch 226: -215000.4844 (train), -26006.6367 (val), 0.5551 (val acc)\n",
      "Epoch 227: 0.0000 (train), -26235.7773 (val), 0.5547 (val acc)\n",
      "Epoch 228: 0.0000 (train), -26462.1680 (val), 0.5554 (val acc)\n",
      "Epoch 229: 0.0000 (train), -26683.0801 (val), 0.5547 (val acc)\n",
      "Epoch 230: -21148.1504 (train), -26910.8906 (val), 0.5551 (val acc)\n",
      "Epoch 231: 1397.7506 (train), -27142.9316 (val), 0.5547 (val acc)\n",
      "Epoch 232: 7223.9326 (train), -27372.7637 (val), 0.5503 (val acc)\n",
      "Epoch 233: 39640.2734 (train), -27604.2051 (val), 0.5554 (val acc)\n",
      "Epoch 234: 11861.4062 (train), -27836.4316 (val), 0.5551 (val acc)\n",
      "Epoch 235: 0.0000 (train), -28069.6719 (val), 0.5551 (val acc)\n",
      "Epoch 236: -53009.5000 (train), -28308.5957 (val), 0.5551 (val acc)\n",
      "Epoch 237: 0.0000 (train), -28547.1621 (val), 0.5554 (val acc)\n",
      "Epoch 238: -93912.0000 (train), -28779.7246 (val), 0.5551 (val acc)\n",
      "Epoch 239: -142800.7500 (train), -29014.0508 (val), 0.5551 (val acc)\n",
      "Epoch 240: 3.6312 (train), -29262.6719 (val), 0.5551 (val acc)\n",
      "Epoch 241: -56156.3398 (train), -29500.2910 (val), 0.5554 (val acc)\n",
      "Epoch 242: -163835.3125 (train), -29740.1523 (val), 0.5551 (val acc)\n",
      "Epoch 243: 18200.3457 (train), -29985.3340 (val), 0.5551 (val acc)\n",
      "Epoch 244: -262808.8125 (train), -30225.1504 (val), 0.5558 (val acc)\n",
      "Epoch 245: 18.0751 (train), -30472.5723 (val), 0.5554 (val acc)\n",
      "Epoch 246: -284092.0312 (train), -30722.0117 (val), 0.5558 (val acc)\n",
      "Epoch 247: 73667.7344 (train), -30964.9629 (val), 0.5558 (val acc)\n",
      "Epoch 248: 832.4484 (train), -31212.6484 (val), 0.5510 (val acc)\n",
      "Epoch 249: -237320.8750 (train), -31460.2871 (val), 0.5554 (val acc)\n",
      "Epoch 250: 0.7909 (train), -31712.3262 (val), 0.5551 (val acc)\n",
      "Epoch 251: -67367.2188 (train), -31960.9141 (val), 0.5551 (val acc)\n",
      "Epoch 252: 19649.2695 (train), -32212.1152 (val), 0.5554 (val acc)\n",
      "Epoch 253: -30322.1016 (train), -32465.3750 (val), 0.5554 (val acc)\n",
      "Epoch 254: -59399.8125 (train), -32718.4609 (val), 0.5554 (val acc)\n",
      "Epoch 255: 10642.1279 (train), -32971.2695 (val), 0.5551 (val acc)\n",
      "Epoch 256: 2592.9155 (train), -33229.2852 (val), 0.5554 (val acc)\n",
      "Epoch 257: 9849.5508 (train), -33486.2148 (val), 0.5551 (val acc)\n",
      "Epoch 258: 4577.8101 (train), -33743.9180 (val), 0.5554 (val acc)\n",
      "Epoch 259: 0.0000 (train), -34005.9531 (val), 0.5554 (val acc)\n",
      "Epoch 260: 9734.0713 (train), -34265.6094 (val), 0.5551 (val acc)\n",
      "Epoch 261: -15242.0547 (train), -34524.8203 (val), 0.5554 (val acc)\n",
      "Epoch 262: 36004.7188 (train), -34778.4922 (val), 0.5554 (val acc)\n",
      "Epoch 263: 14353.2344 (train), -35038.9883 (val), 0.5551 (val acc)\n",
      "Epoch 264: 120707.8750 (train), -35295.8594 (val), 0.5507 (val acc)\n",
      "Epoch 265: 0.0000 (train), -35553.2344 (val), 0.5551 (val acc)\n",
      "Epoch 266: -144646.5625 (train), -35819.4180 (val), 0.5554 (val acc)\n",
      "Epoch 267: 11518.5684 (train), -36089.2344 (val), 0.5554 (val acc)\n",
      "Epoch 268: -53994.8477 (train), -36357.1875 (val), 0.5554 (val acc)\n",
      "Epoch 269: 17421.6367 (train), -36625.1875 (val), 0.5554 (val acc)\n",
      "Epoch 270: -76486.5625 (train), -36896.8359 (val), 0.5547 (val acc)\n",
      "Epoch 271: 0.0000 (train), -37168.2422 (val), 0.5554 (val acc)\n",
      "Epoch 272: 2060.6223 (train), -37433.5664 (val), 0.5551 (val acc)\n",
      "Epoch 273: 0.0000 (train), -37705.2031 (val), 0.5554 (val acc)\n",
      "Epoch 274: -70942.1875 (train), -37983.1523 (val), 0.5554 (val acc)\n",
      "Epoch 275: 24165.7734 (train), -38255.6523 (val), 0.5510 (val acc)\n",
      "Epoch 276: 23061.3164 (train), -38526.3945 (val), 0.5554 (val acc)\n",
      "Epoch 277: 0.0052 (train), -38803.5000 (val), 0.5551 (val acc)\n",
      "Epoch 278: -67997.4531 (train), -39081.4219 (val), 0.5554 (val acc)\n",
      "Epoch 279: -99941.5703 (train), -39358.5430 (val), 0.5551 (val acc)\n",
      "Epoch 280: 16863.7539 (train), -39637.7227 (val), 0.5554 (val acc)\n",
      "Epoch 281: 31.4485 (train), -39919.3164 (val), 0.5551 (val acc)\n",
      "Epoch 282: 76668.3750 (train), -40197.7266 (val), 0.5554 (val acc)\n",
      "Epoch 283: -120310.3281 (train), -40478.8906 (val), 0.5554 (val acc)\n",
      "Epoch 284: 16151.1660 (train), -40768.8047 (val), 0.5554 (val acc)\n",
      "Epoch 285: -25676.3379 (train), -41048.5625 (val), 0.5507 (val acc)\n",
      "Epoch 286: -63164.6484 (train), -41330.3359 (val), 0.5554 (val acc)\n",
      "Epoch 287: 0.0000 (train), -41614.5430 (val), 0.5551 (val acc)\n",
      "Epoch 288: -6962.8955 (train), -41901.9102 (val), 0.5551 (val acc)\n",
      "Epoch 289: 0.0000 (train), -42189.1055 (val), 0.5507 (val acc)\n",
      "Epoch 290: 10665.4600 (train), -42476.0938 (val), 0.5554 (val acc)\n",
      "Epoch 291: 40.5798 (train), -42770.6211 (val), 0.5551 (val acc)\n",
      "Epoch 292: -64323.9062 (train), -43060.4805 (val), 0.5547 (val acc)\n",
      "Epoch 293: 15550.7520 (train), -43348.3086 (val), 0.5554 (val acc)\n",
      "Epoch 294: -38549.6758 (train), -43636.9062 (val), 0.5551 (val acc)\n",
      "Epoch 295: -479367.7500 (train), -43926.7383 (val), 0.5547 (val acc)\n",
      "Epoch 296: 3264.9707 (train), -44223.7695 (val), 0.5551 (val acc)\n",
      "Epoch 297: 11206.4004 (train), -44519.2383 (val), 0.5551 (val acc)\n",
      "Epoch 298: 15842.8945 (train), -44812.4219 (val), 0.5551 (val acc)\n",
      "Epoch 299: 19476.9609 (train), -45109.5078 (val), 0.5554 (val acc)\n"
     ]
    }
   ],
   "source": [
    "# ======== Step 3 ==============\n",
    "epochs = 300\n",
    "for epoch in range(epochs):\n",
    "    \n",
    "    for y_train, text, offsets in train_loader:\n",
    "        # zero the parameter gradients\n",
    "        optimizer.zero_grad()\n",
    "\n",
    "        # calulate output and loss \n",
    "        y_pred_train = model(text, offsets)\n",
    "        loss = loss_fn(y_pred_train.squeeze(), y_train.float())\n",
    "\n",
    "        # backprop and take a step\n",
    "        loss.backward()\n",
    "        optimizer.step()\n",
    "    \n",
    "    # evaluate on validation set\n",
    "    y_pred_val, y_val = evaluate(val_loader)\n",
    "    loss_val = loss_fn(y_pred_val.squeeze(), y_val.float())\n",
    "    \n",
    "    # note when making prediction, do add sigmoid activation\n",
    "    pred_label = (torch.sigmoid(y_pred_val) > 0.5).long() # find out the class prediction\n",
    "    acc = (pred_label == y_val).float().sum()/y_val.shape[0]\n",
    "    \n",
    "    model.train() # because when evaluating we change mode to eval mode\n",
    "    \n",
    "    print('Epoch {}: {:.4f} (train), {:.4f} (val), {:.4f} (val acc)'.format(epoch, loss, loss_val, acc))"
   ]
  },
  {
   "cell_type": "code",
   "execution_count": 72,
   "id": "e097d95a",
   "metadata": {},
   "outputs": [
    {
     "name": "stdout",
     "output_type": "stream",
     "text": [
      "[[1107  599    0]\n",
      " [ 167  397    0]\n",
      " [  19  435    0]]\n",
      "              precision    recall  f1-score   support\n",
      "\n",
      "         0.0       0.86      0.65      0.74      1706\n",
      "         1.0       0.28      0.70      0.40       564\n",
      "         2.0       0.00      0.00      0.00       454\n",
      "\n",
      "    accuracy                           0.55      2724\n",
      "   macro avg       0.38      0.45      0.38      2724\n",
      "weighted avg       0.59      0.55      0.54      2724\n",
      "\n"
     ]
    }
   ],
   "source": [
    "# prediction on test data\n",
    "y_pred_test, y_true_test = evaluate(test_loader)\n",
    "y_pred_test = torch.sigmoid(y_pred_test) > 0.5\n",
    "\n",
    "print(confusion_matrix(y_true_test, y_pred_test))\n",
    "print(classification_report(y_true_test, y_pred_test))"
   ]
  },
  {
   "cell_type": "markdown",
   "id": "e1e768ad",
   "metadata": {},
   "source": [
    "using word embedding"
   ]
  },
  {
   "cell_type": "code",
   "execution_count": 73,
   "id": "abeb4e0f",
   "metadata": {},
   "outputs": [],
   "source": [
    "# ===== Build vocabulary =====\n",
    "vocab2 = build_vocab_from_iterator(\n",
    "    [tokenizer(s) for s in train],\n",
    "    specials=[\"<unk>\"]\n",
    ")\n",
    "\n",
    "vocab2.set_default_index(vocab2[\"<unk>\"])"
   ]
  },
  {
   "cell_type": "code",
   "execution_count": 74,
   "id": "adfb9b63",
   "metadata": {},
   "outputs": [],
   "source": [
    "# Function to convert a sentence to BoW sequence\n",
    "vocab2_len = len(vocab2)\n",
    "def index2onehot(idx, n = vocab2_len):\n",
    "    eye = torch.eye(vocab2_len)\n",
    "    return eye[:,idx]\n",
    "\n",
    "def stobow(s):\n",
    "    token_idxs = vocab2(tokenizer(s))\n",
    "    return index2onehot(token_idxs), torch.Tensor(token_idxs).long()\n",
    "\n",
    "# Convert all training sentences\n",
    "bow_sequences = []\n",
    "for s in train['review_text']:\n",
    "    bow_sequences.append(stobow(s)) "
   ]
  },
  {
   "cell_type": "code",
   "execution_count": 75,
   "id": "818c20e9",
   "metadata": {},
   "outputs": [],
   "source": [
    "# Model class\n",
    "class RNN(nn.Module):\n",
    "    def __init__(self, n_features, n_class, hidden_dim=20):\n",
    "        super().__init__()\n",
    "        # Model layers\n",
    "        self.rnn = nn.RNN(n_features, hidden_dim)\n",
    "        self.fc = nn.Linear(hidden_dim, n_class)\n",
    "        \n",
    "    def forward(self, x):\n",
    "        rnn_o, h = self.rnn(x)\n",
    "        fc_o = self.fc(rnn_o[-1, :]) \n",
    "        return fc_o\n",
    "\n",
    "# init model\n",
    "model = RNN(n_features=vocab2_len, n_class=vocab2_len)\n",
    "\n",
    "# init loss\n",
    "loss_function = nn.CrossEntropyLoss()\n",
    "\n",
    "# init optimizer\n",
    "optimizer = torch.optim.Adam(model.parameters(), lr = 0.001)"
   ]
  },
  {
   "cell_type": "code",
   "execution_count": 205,
   "id": "93e2e177",
   "metadata": {},
   "outputs": [
    {
     "ename": "KeyboardInterrupt",
     "evalue": "",
     "output_type": "error",
     "traceback": [
      "\u001b[1;31m---------------------------------------------------------------------------\u001b[0m",
      "\u001b[1;31mKeyboardInterrupt\u001b[0m                         Traceback (most recent call last)",
      "\u001b[1;32m~\\AppData\\Local\\Temp\\ipykernel_23452\\821130632.py\u001b[0m in \u001b[0;36m<module>\u001b[1;34m\u001b[0m\n\u001b[0;32m     13\u001b[0m             \u001b[0my\u001b[0m \u001b[1;33m=\u001b[0m \u001b[0mtokens\u001b[0m\u001b[1;33m[\u001b[0m\u001b[0mj\u001b[0m\u001b[1;33m+\u001b[0m\u001b[0mseq_length\u001b[0m\u001b[1;33m]\u001b[0m \u001b[1;31m# j+2 word as label\u001b[0m\u001b[1;33m\u001b[0m\u001b[1;33m\u001b[0m\u001b[0m\n\u001b[0;32m     14\u001b[0m \u001b[1;33m\u001b[0m\u001b[0m\n\u001b[1;32m---> 15\u001b[1;33m             \u001b[0moptimizer\u001b[0m\u001b[1;33m.\u001b[0m\u001b[0mzero_grad\u001b[0m\u001b[1;33m(\u001b[0m\u001b[1;33m)\u001b[0m\u001b[1;33m\u001b[0m\u001b[1;33m\u001b[0m\u001b[0m\n\u001b[0m\u001b[0;32m     16\u001b[0m \u001b[1;33m\u001b[0m\u001b[0m\n\u001b[0;32m     17\u001b[0m             \u001b[0moutput\u001b[0m \u001b[1;33m=\u001b[0m \u001b[0mmodel\u001b[0m\u001b[1;33m(\u001b[0m\u001b[0mX\u001b[0m\u001b[1;33m.\u001b[0m\u001b[0mT\u001b[0m\u001b[1;33m)\u001b[0m \u001b[1;31m# pytorch requires input to be [Length, inputsize]\u001b[0m\u001b[1;33m\u001b[0m\u001b[1;33m\u001b[0m\u001b[0m\n",
      "\u001b[1;32mE:\\Annaconda\\lib\\site-packages\\torch\\_compile.py\u001b[0m in \u001b[0;36minner\u001b[1;34m(*args, **kwargs)\u001b[0m\n\u001b[0;32m     22\u001b[0m             \u001b[1;32mimport\u001b[0m \u001b[0mtorch\u001b[0m\u001b[1;33m.\u001b[0m\u001b[0m_dynamo\u001b[0m\u001b[1;33m\u001b[0m\u001b[1;33m\u001b[0m\u001b[0m\n\u001b[0;32m     23\u001b[0m \u001b[1;33m\u001b[0m\u001b[0m\n\u001b[1;32m---> 24\u001b[1;33m             \u001b[1;32mreturn\u001b[0m \u001b[0mtorch\u001b[0m\u001b[1;33m.\u001b[0m\u001b[0m_dynamo\u001b[0m\u001b[1;33m.\u001b[0m\u001b[0mdisable\u001b[0m\u001b[1;33m(\u001b[0m\u001b[0mfn\u001b[0m\u001b[1;33m,\u001b[0m \u001b[0mrecursive\u001b[0m\u001b[1;33m)\u001b[0m\u001b[1;33m(\u001b[0m\u001b[1;33m*\u001b[0m\u001b[0margs\u001b[0m\u001b[1;33m,\u001b[0m \u001b[1;33m**\u001b[0m\u001b[0mkwargs\u001b[0m\u001b[1;33m)\u001b[0m\u001b[1;33m\u001b[0m\u001b[1;33m\u001b[0m\u001b[0m\n\u001b[0m\u001b[0;32m     25\u001b[0m \u001b[1;33m\u001b[0m\u001b[0m\n\u001b[0;32m     26\u001b[0m         \u001b[1;32mreturn\u001b[0m \u001b[0minner\u001b[0m\u001b[1;33m\u001b[0m\u001b[1;33m\u001b[0m\u001b[0m\n",
      "\u001b[1;32mE:\\Annaconda\\lib\\site-packages\\torch\\_dynamo\\eval_frame.py\u001b[0m in \u001b[0;36m_fn\u001b[1;34m(*args, **kwargs)\u001b[0m\n\u001b[0;32m    326\u001b[0m             \u001b[0mdynamic_ctx\u001b[0m\u001b[1;33m.\u001b[0m\u001b[0m__enter__\u001b[0m\u001b[1;33m(\u001b[0m\u001b[1;33m)\u001b[0m\u001b[1;33m\u001b[0m\u001b[1;33m\u001b[0m\u001b[0m\n\u001b[0;32m    327\u001b[0m             \u001b[1;32mtry\u001b[0m\u001b[1;33m:\u001b[0m\u001b[1;33m\u001b[0m\u001b[1;33m\u001b[0m\u001b[0m\n\u001b[1;32m--> 328\u001b[1;33m                 \u001b[1;32mreturn\u001b[0m \u001b[0mfn\u001b[0m\u001b[1;33m(\u001b[0m\u001b[1;33m*\u001b[0m\u001b[0margs\u001b[0m\u001b[1;33m,\u001b[0m \u001b[1;33m**\u001b[0m\u001b[0mkwargs\u001b[0m\u001b[1;33m)\u001b[0m\u001b[1;33m\u001b[0m\u001b[1;33m\u001b[0m\u001b[0m\n\u001b[0m\u001b[0;32m    329\u001b[0m             \u001b[1;32mfinally\u001b[0m\u001b[1;33m:\u001b[0m\u001b[1;33m\u001b[0m\u001b[1;33m\u001b[0m\u001b[0m\n\u001b[0;32m    330\u001b[0m                 \u001b[0mset_eval_frame\u001b[0m\u001b[1;33m(\u001b[0m\u001b[0mprior\u001b[0m\u001b[1;33m)\u001b[0m\u001b[1;33m\u001b[0m\u001b[1;33m\u001b[0m\u001b[0m\n",
      "\u001b[1;32mE:\\Annaconda\\lib\\site-packages\\torch\\optim\\optimizer.py\u001b[0m in \u001b[0;36mzero_grad\u001b[1;34m(self, set_to_none)\u001b[0m\n\u001b[0;32m    821\u001b[0m                 \u001b[1;32mfor\u001b[0m \u001b[0mper_dtype_grads\u001b[0m \u001b[1;32min\u001b[0m \u001b[0mper_device_and_dtype_grads\u001b[0m\u001b[1;33m.\u001b[0m\u001b[0mvalues\u001b[0m\u001b[1;33m(\u001b[0m\u001b[1;33m)\u001b[0m\u001b[1;33m:\u001b[0m\u001b[1;33m\u001b[0m\u001b[1;33m\u001b[0m\u001b[0m\n\u001b[0;32m    822\u001b[0m                     \u001b[1;32mfor\u001b[0m \u001b[0mgrads\u001b[0m \u001b[1;32min\u001b[0m \u001b[0mper_dtype_grads\u001b[0m\u001b[1;33m.\u001b[0m\u001b[0mvalues\u001b[0m\u001b[1;33m(\u001b[0m\u001b[1;33m)\u001b[0m\u001b[1;33m:\u001b[0m\u001b[1;33m\u001b[0m\u001b[1;33m\u001b[0m\u001b[0m\n\u001b[1;32m--> 823\u001b[1;33m                         \u001b[0mtorch\u001b[0m\u001b[1;33m.\u001b[0m\u001b[0m_foreach_zero_\u001b[0m\u001b[1;33m(\u001b[0m\u001b[0mgrads\u001b[0m\u001b[1;33m)\u001b[0m\u001b[1;33m\u001b[0m\u001b[1;33m\u001b[0m\u001b[0m\n\u001b[0m\u001b[0;32m    824\u001b[0m \u001b[1;33m\u001b[0m\u001b[0m\n\u001b[0;32m    825\u001b[0m     \u001b[1;33m@\u001b[0m\u001b[0moverload\u001b[0m\u001b[1;33m\u001b[0m\u001b[1;33m\u001b[0m\u001b[0m\n",
      "\u001b[1;32mE:\\Annaconda\\lib\\site-packages\\torch\\autograd\\profiler.py\u001b[0m in \u001b[0;36m__exit__\u001b[1;34m(self, exc_type, exc_value, traceback)\u001b[0m\n\u001b[0;32m    646\u001b[0m         \u001b[1;32mif\u001b[0m \u001b[1;32mnot\u001b[0m \u001b[0mtorch\u001b[0m\u001b[1;33m.\u001b[0m\u001b[0mjit\u001b[0m\u001b[1;33m.\u001b[0m\u001b[0mis_scripting\u001b[0m\u001b[1;33m(\u001b[0m\u001b[1;33m)\u001b[0m\u001b[1;33m:\u001b[0m\u001b[1;33m\u001b[0m\u001b[1;33m\u001b[0m\u001b[0m\n\u001b[0;32m    647\u001b[0m             \u001b[1;32mwith\u001b[0m \u001b[0mtorch\u001b[0m\u001b[1;33m.\u001b[0m\u001b[0m_C\u001b[0m\u001b[1;33m.\u001b[0m\u001b[0mDisableTorchFunctionSubclass\u001b[0m\u001b[1;33m(\u001b[0m\u001b[1;33m)\u001b[0m\u001b[1;33m:\u001b[0m\u001b[1;33m\u001b[0m\u001b[1;33m\u001b[0m\u001b[0m\n\u001b[1;32m--> 648\u001b[1;33m                 \u001b[0mtorch\u001b[0m\u001b[1;33m.\u001b[0m\u001b[0mops\u001b[0m\u001b[1;33m.\u001b[0m\u001b[0mprofiler\u001b[0m\u001b[1;33m.\u001b[0m\u001b[0m_record_function_exit\u001b[0m\u001b[1;33m.\u001b[0m\u001b[0m_RecordFunction\u001b[0m\u001b[1;33m(\u001b[0m\u001b[0mrecord\u001b[0m\u001b[1;33m)\u001b[0m\u001b[1;33m\u001b[0m\u001b[1;33m\u001b[0m\u001b[0m\n\u001b[0m\u001b[0;32m    649\u001b[0m         \u001b[1;32melse\u001b[0m\u001b[1;33m:\u001b[0m\u001b[1;33m\u001b[0m\u001b[1;33m\u001b[0m\u001b[0m\n\u001b[0;32m    650\u001b[0m             \u001b[0mtorch\u001b[0m\u001b[1;33m.\u001b[0m\u001b[0mops\u001b[0m\u001b[1;33m.\u001b[0m\u001b[0mprofiler\u001b[0m\u001b[1;33m.\u001b[0m\u001b[0m_record_function_exit\u001b[0m\u001b[1;33m(\u001b[0m\u001b[0mrecord\u001b[0m\u001b[1;33m)\u001b[0m\u001b[1;33m\u001b[0m\u001b[1;33m\u001b[0m\u001b[0m\n",
      "\u001b[1;32mE:\\Annaconda\\lib\\site-packages\\torch\\_ops.py\u001b[0m in \u001b[0;36m__call__\u001b[1;34m(self, *args, **kwargs)\u001b[0m\n\u001b[0;32m    446\u001b[0m \u001b[1;33m\u001b[0m\u001b[0m\n\u001b[0;32m    447\u001b[0m     \u001b[1;32mdef\u001b[0m \u001b[0m__call__\u001b[0m\u001b[1;33m(\u001b[0m\u001b[0mself\u001b[0m\u001b[1;33m,\u001b[0m \u001b[1;33m*\u001b[0m\u001b[0margs\u001b[0m\u001b[1;33m,\u001b[0m \u001b[1;33m**\u001b[0m\u001b[0mkwargs\u001b[0m\u001b[1;33m)\u001b[0m\u001b[1;33m:\u001b[0m\u001b[1;33m\u001b[0m\u001b[1;33m\u001b[0m\u001b[0m\n\u001b[1;32m--> 448\u001b[1;33m         \u001b[1;32mreturn\u001b[0m \u001b[0mself\u001b[0m\u001b[1;33m.\u001b[0m\u001b[0m_op\u001b[0m\u001b[1;33m(\u001b[0m\u001b[1;33m*\u001b[0m\u001b[0margs\u001b[0m\u001b[1;33m,\u001b[0m \u001b[1;33m**\u001b[0m\u001b[0mkwargs\u001b[0m \u001b[1;32mor\u001b[0m \u001b[1;33m{\u001b[0m\u001b[1;33m}\u001b[0m\u001b[1;33m)\u001b[0m\u001b[1;33m\u001b[0m\u001b[1;33m\u001b[0m\u001b[0m\n\u001b[0m\u001b[0;32m    449\u001b[0m \u001b[1;33m\u001b[0m\u001b[0m\n\u001b[0;32m    450\u001b[0m     \u001b[1;32mdef\u001b[0m \u001b[0m__hash__\u001b[0m\u001b[1;33m(\u001b[0m\u001b[0mself\u001b[0m\u001b[1;33m)\u001b[0m\u001b[1;33m:\u001b[0m\u001b[1;33m\u001b[0m\u001b[1;33m\u001b[0m\u001b[0m\n",
      "\u001b[1;31mKeyboardInterrupt\u001b[0m: "
     ]
    }
   ],
   "source": [
    "max_iter = 300\n",
    "seq_length = 2\n",
    "loss_history = []\n",
    "for epoch in range(max_iter):\n",
    "    \n",
    "    for i in range(len(bow_sequences)):\n",
    "    \n",
    "        Sent, tokens = bow_sequences[i]\n",
    "        \n",
    "        for j in range(Sent.shape[1]-seq_length):\n",
    "            # loop over the two-grams\n",
    "            X = Sent[:, j:j+seq_length] # j, j+1 words\n",
    "            y = tokens[j+seq_length] # j+2 word as label\n",
    "        \n",
    "            optimizer.zero_grad()\n",
    "\n",
    "            output = model(X.T) # pytorch requires input to be [Length, inputsize]\n",
    "                        \n",
    "            loss = loss_function(output, y)\n",
    "\n",
    "            loss.backward()\n",
    "            optimizer.step()\n",
    "\n",
    "    # Collect loss at end of each iteration\n",
    "    loss_history.append(loss.item())"
   ]
  },
  {
   "cell_type": "code",
   "execution_count": null,
   "id": "30e08d76",
   "metadata": {},
   "outputs": [],
   "source": [
    "plt.figure()\n",
    "plt.plot(loss_history)"
   ]
  },
  {
   "cell_type": "markdown",
   "id": "47adad15",
   "metadata": {},
   "source": [
    "Spam Classification \n"
   ]
  },
  {
   "cell_type": "code",
   "execution_count": 95,
   "id": "212e0e95",
   "metadata": {
    "scrolled": true
   },
   "outputs": [
    {
     "name": "stdout",
     "output_type": "stream",
     "text": [
      "[0 1 2]\n"
     ]
    },
    {
     "data": {
      "text/html": [
       "<div>\n",
       "<style scoped>\n",
       "    .dataframe tbody tr th:only-of-type {\n",
       "        vertical-align: middle;\n",
       "    }\n",
       "\n",
       "    .dataframe tbody tr th {\n",
       "        vertical-align: top;\n",
       "    }\n",
       "\n",
       "    .dataframe thead th {\n",
       "        text-align: right;\n",
       "    }\n",
       "</style>\n",
       "<table border=\"1\" class=\"dataframe\">\n",
       "  <thead>\n",
       "    <tr style=\"text-align: right;\">\n",
       "      <th></th>\n",
       "      <th>review_id</th>\n",
       "      <th>user_name</th>\n",
       "      <th>airline_sentiment</th>\n",
       "      <th>sentiment_confidence</th>\n",
       "      <th>negative_reason</th>\n",
       "      <th>negative_reason_confidence</th>\n",
       "      <th>airline_name</th>\n",
       "      <th>review_text</th>\n",
       "      <th>thumbup_count</th>\n",
       "      <th>review_coordinates</th>\n",
       "      <th>review_timestamp</th>\n",
       "      <th>review_city</th>\n",
       "      <th>user_timezone</th>\n",
       "      <th>review</th>\n",
       "      <th>user_name_count</th>\n",
       "    </tr>\n",
       "  </thead>\n",
       "  <tbody>\n",
       "    <tr>\n",
       "      <th>930</th>\n",
       "      <td>569972097453137920</td>\n",
       "      <td>cristobalwong</td>\n",
       "      <td>1</td>\n",
       "      <td>0.3350</td>\n",
       "      <td>NaN</td>\n",
       "      <td>0.0</td>\n",
       "      <td>Emirates</td>\n",
       "      <td>Thank you, ^JH, appreciate the prompt response...</td>\n",
       "      <td>0</td>\n",
       "      <td>NaN</td>\n",
       "      <td>2015-02-23 13:28:00</td>\n",
       "      <td>San Francisco Bay Area</td>\n",
       "      <td>None</td>\n",
       "      <td>neutral</td>\n",
       "      <td>7</td>\n",
       "    </tr>\n",
       "    <tr>\n",
       "      <th>5873</th>\n",
       "      <td>568092537786748928</td>\n",
       "      <td>VegasRenegade</td>\n",
       "      <td>1</td>\n",
       "      <td>0.3353</td>\n",
       "      <td>NaN</td>\n",
       "      <td>0.0</td>\n",
       "      <td>Lufthansa</td>\n",
       "      <td>All Flights lead to VEGAS BABY!</td>\n",
       "      <td>1</td>\n",
       "      <td>NaN</td>\n",
       "      <td>2015-02-18 08:59:00</td>\n",
       "      <td>The Wild Blue Yonder</td>\n",
       "      <td>Atlantic Time (Canada)</td>\n",
       "      <td>neutral</td>\n",
       "      <td>1</td>\n",
       "    </tr>\n",
       "    <tr>\n",
       "      <th>5963</th>\n",
       "      <td>568028183267639297</td>\n",
       "      <td>CourtSnod</td>\n",
       "      <td>2</td>\n",
       "      <td>0.3356</td>\n",
       "      <td>NaN</td>\n",
       "      <td>0.0</td>\n",
       "      <td>Lufthansa</td>\n",
       "      <td>de-icing is important!</td>\n",
       "      <td>0</td>\n",
       "      <td>NaN</td>\n",
       "      <td>2015-02-18 04:44:00</td>\n",
       "      <td>Tennessee Original</td>\n",
       "      <td>Central Time (US &amp; Canada)</td>\n",
       "      <td>positive</td>\n",
       "      <td>1</td>\n",
       "    </tr>\n",
       "    <tr>\n",
       "      <th>7436</th>\n",
       "      <td>568993773277069312</td>\n",
       "      <td>KoolieAshSays</td>\n",
       "      <td>1</td>\n",
       "      <td>0.3363</td>\n",
       "      <td>NaN</td>\n",
       "      <td>0.0</td>\n",
       "      <td>Singapore Airlines</td>\n",
       "      <td>oh. Makes sense. My bad.</td>\n",
       "      <td>0</td>\n",
       "      <td>[40.88529232, -73.856635]</td>\n",
       "      <td>2015-02-20 20:41:00</td>\n",
       "      <td>ÜT: 17.9889591,-76.7712636</td>\n",
       "      <td>Pacific Time (US &amp; Canada)</td>\n",
       "      <td>neutral</td>\n",
       "      <td>1</td>\n",
       "    </tr>\n",
       "    <tr>\n",
       "      <th>2254</th>\n",
       "      <td>569227372223811584</td>\n",
       "      <td>zachkpearson</td>\n",
       "      <td>2</td>\n",
       "      <td>0.3366</td>\n",
       "      <td>NaN</td>\n",
       "      <td>0.0</td>\n",
       "      <td>Emirates</td>\n",
       "      <td>. Thanks. Hopefully this is easily resolved.</td>\n",
       "      <td>0</td>\n",
       "      <td>NaN</td>\n",
       "      <td>2015-02-21 12:09:00</td>\n",
       "      <td>Portland, Oregon</td>\n",
       "      <td>Pacific Time (US &amp; Canada)</td>\n",
       "      <td>positive</td>\n",
       "      <td>1</td>\n",
       "    </tr>\n",
       "  </tbody>\n",
       "</table>\n",
       "</div>"
      ],
      "text/plain": [
       "               review_id      user_name  airline_sentiment  \\\n",
       "930   569972097453137920  cristobalwong                  1   \n",
       "5873  568092537786748928  VegasRenegade                  1   \n",
       "5963  568028183267639297      CourtSnod                  2   \n",
       "7436  568993773277069312  KoolieAshSays                  1   \n",
       "2254  569227372223811584   zachkpearson                  2   \n",
       "\n",
       "      sentiment_confidence negative_reason  negative_reason_confidence  \\\n",
       "930                 0.3350             NaN                         0.0   \n",
       "5873                0.3353             NaN                         0.0   \n",
       "5963                0.3356             NaN                         0.0   \n",
       "7436                0.3363             NaN                         0.0   \n",
       "2254                0.3366             NaN                         0.0   \n",
       "\n",
       "            airline_name                                        review_text  \\\n",
       "930             Emirates  Thank you, ^JH, appreciate the prompt response...   \n",
       "5873           Lufthansa                    All Flights lead to VEGAS BABY!   \n",
       "5963           Lufthansa                             de-icing is important!   \n",
       "7436  Singapore Airlines                           oh. Makes sense. My bad.   \n",
       "2254            Emirates       . Thanks. Hopefully this is easily resolved.   \n",
       "\n",
       "      thumbup_count         review_coordinates    review_timestamp  \\\n",
       "930               0                        NaN 2015-02-23 13:28:00   \n",
       "5873              1                        NaN 2015-02-18 08:59:00   \n",
       "5963              0                        NaN 2015-02-18 04:44:00   \n",
       "7436              0  [40.88529232, -73.856635] 2015-02-20 20:41:00   \n",
       "2254              0                        NaN 2015-02-21 12:09:00   \n",
       "\n",
       "                     review_city               user_timezone    review  \\\n",
       "930       San Francisco Bay Area                        None   neutral   \n",
       "5873        The Wild Blue Yonder      Atlantic Time (Canada)   neutral   \n",
       "5963          Tennessee Original  Central Time (US & Canada)  positive   \n",
       "7436  ÜT: 17.9889591,-76.7712636  Pacific Time (US & Canada)   neutral   \n",
       "2254            Portland, Oregon  Pacific Time (US & Canada)  positive   \n",
       "\n",
       "      user_name_count  \n",
       "930                 7  \n",
       "5873                1  \n",
       "5963                1  \n",
       "7436                1  \n",
       "2254                1  "
      ]
     },
     "execution_count": 95,
     "metadata": {},
     "output_type": "execute_result"
    }
   ],
   "source": [
    "# preprocessing data\n",
    "from sklearn.preprocessing import LabelEncoder\n",
    "\n",
    "le = LabelEncoder() \n",
    "target = le.fit_transform(train['airline_sentiment']) # convert target into integers\n",
    "train['airline_sentiment'] = target\n",
    "print(le.classes_) # this shows which index maps to which class\n",
    "\n",
    "train.head()"
   ]
  },
  {
   "cell_type": "markdown",
   "id": "9d498e8d",
   "metadata": {},
   "source": [
    "simplified adaboost (week 11)"
   ]
  },
  {
   "cell_type": "markdown",
   "id": "489df2a8",
   "metadata": {},
   "source": [
    "for each row number in train_review_text add zero values to match the shape of desired shape."
   ]
  },
  {
   "cell_type": "code",
   "execution_count": 97,
   "id": "41da9069",
   "metadata": {},
   "outputs": [],
   "source": [
    "train_sentiment= list(train_data['airline_sentiment'])\n",
    "train_review_text= []\n",
    "for idx in range(len(train_data['review_text'])):\n",
    "    train_token=doc_tokenizer2( list(train_data['review_text'])[idx])\n",
    "    train_review_text.append(train_token)\n",
    "y_train=np.array(train_sentiment)\n",
    "\n",
    "val_sentiment= list(val_data['airline_sentiment'])\n",
    "val_review_text= []\n",
    "for idx in range(len(val_data['review_text'])):\n",
    "    val_token=doc_tokenizer2( list(val_data['review_text'])[idx])\n",
    "    val_review_text.append(val_token)\n",
    "y_val=np.array(val_sentiment)\n",
    "\n",
    "test_sentiment= list(test_data['airline_sentiment'])\n",
    "test_review_text= []\n",
    "for idx in range(len(test_data['review_text'])):\n",
    "    test_token=doc_tokenizer2( list(test_data['review_text'])[idx])\n",
    "    test_review_text.append(test_token)\n",
    "y_test=np.array(test_sentiment)"
   ]
  },
  {
   "cell_type": "code",
   "execution_count": 126,
   "id": "2b9c437f",
   "metadata": {},
   "outputs": [
    {
     "data": {
      "text/plain": [
       "39"
      ]
     },
     "execution_count": 126,
     "metadata": {},
     "output_type": "execute_result"
    }
   ],
   "source": [
    "find_max_list(train_review_text)"
   ]
  },
  {
   "cell_type": "code",
   "execution_count": 98,
   "id": "98bd7944",
   "metadata": {},
   "outputs": [],
   "source": [
    "def find_max_list(list):\n",
    "    list_len = [len(i) for i in list]\n",
    "    return(max(list_len))\n",
    "\n",
    "def zeropad(data):\n",
    "    max_length = 40\n",
    "    train_review_text_pad = [sublist + [0] * (max_length - len(sublist)) for sublist in data]\n",
    "    zero_pad=np.array(train_review_text_pad)\n",
    "    return zero_pad"
   ]
  },
  {
   "cell_type": "code",
   "execution_count": 99,
   "id": "2eb8423e",
   "metadata": {},
   "outputs": [],
   "source": [
    "X_train=zeropad(train_review_text)\n",
    "X_val=zeropad(val_review_text)\n",
    "X_test=zeropad(test_review_text)"
   ]
  },
  {
   "cell_type": "markdown",
   "id": "287dde8c",
   "metadata": {},
   "source": [
    "### Gradient boost"
   ]
  },
  {
   "cell_type": "code",
   "execution_count": null,
   "id": "754592e0",
   "metadata": {},
   "outputs": [],
   "source": [
    "GBoost_clf= GradientBoostingClassifier(n_estimators=100, learning_rate=1.0,\n",
    "max_depth=1, random_state=0).fit(X_train, y_train)\n",
    "clf.score(X_test, y_test)"
   ]
  },
  {
   "cell_type": "markdown",
   "id": "d2e86edc",
   "metadata": {},
   "source": [
    "### XGBoost"
   ]
  },
  {
   "cell_type": "code",
   "execution_count": 100,
   "id": "f88ddd8b",
   "metadata": {},
   "outputs": [],
   "source": [
    "from sklearn.model_selection import RandomizedSearchCV\n",
    "import xgboost as xgb"
   ]
  },
  {
   "cell_type": "code",
   "execution_count": 101,
   "id": "bc5ef170",
   "metadata": {},
   "outputs": [],
   "source": [
    "xgbst =xgb.XGBClassifier(objective='multi:softmax',\n",
    "                       num_class=3,\n",
    "                      eval_metric='mlogloss',\n",
    "                      randomstate=42)"
   ]
  },
  {
   "cell_type": "code",
   "execution_count": 102,
   "id": "87d4c3ce",
   "metadata": {},
   "outputs": [],
   "source": [
    "tuning_parameters={\n",
    "                   'learning_rate':[0.01,0.05,0.1],\n",
    "    'max_depth':[2,3,4,5,6,7],\n",
    "    'n_estimators':[800,1000,1500,2000],\n",
    "    'subsample':[0.60,0.80,1.0],\n",
    "    'reg_lambda':[0.0,0.3,0.5,0.8]\n",
    "}"
   ]
  },
  {
   "cell_type": "code",
   "execution_count": 103,
   "id": "61123c3b",
   "metadata": {},
   "outputs": [
    {
     "data": {
      "text/plain": [
       "RandomizedSearchCV(cv=5,\n",
       "                   estimator=XGBClassifier(base_score=None, booster=None,\n",
       "                                           callbacks=None,\n",
       "                                           colsample_bylevel=None,\n",
       "                                           colsample_bynode=None,\n",
       "                                           colsample_bytree=None, device=None,\n",
       "                                           early_stopping_rounds=None,\n",
       "                                           enable_categorical=False,\n",
       "                                           eval_metric='mlogloss',\n",
       "                                           feature_types=None, gamma=None,\n",
       "                                           grow_policy=None,\n",
       "                                           importance_type=None,\n",
       "                                           interaction_constraints=None,\n",
       "                                           learnin...\n",
       "                                           min_child_weight=None, missing=nan,\n",
       "                                           monotone_constraints=None,\n",
       "                                           multi_strategy=None,\n",
       "                                           n_estimators=None, n_jobs=None,\n",
       "                                           num_class=3, num_parallel_tree=None, ...),\n",
       "                   n_iter=32, n_jobs=-1,\n",
       "                   param_distributions={'learning_rate': [0.01, 0.05, 0.1],\n",
       "                                        'max_depth': [2, 3, 4, 5, 6, 7],\n",
       "                                        'n_estimators': [800, 1000, 1500, 2000],\n",
       "                                        'reg_lambda': [0.0, 0.3, 0.5, 0.8],\n",
       "                                        'subsample': [0.6, 0.8, 1.0]},\n",
       "                   random_state=42)"
      ]
     },
     "execution_count": 103,
     "metadata": {},
     "output_type": "execute_result"
    }
   ],
   "source": [
    "xgbst_random = RandomizedSearchCV(xgbst, \n",
    "                                  tuning_parameters,\n",
    "                                  n_iter=32,\n",
    "                                  cv=5, \n",
    "                                 random_state=42,\n",
    "                                 n_jobs=-1)\n",
    "xgbst_random.fit(X_train,y_train)"
   ]
  },
  {
   "cell_type": "code",
   "execution_count": 104,
   "id": "50d504b5",
   "metadata": {},
   "outputs": [
    {
     "name": "stdout",
     "output_type": "stream",
     "text": [
      "Best parameters found by randomized search: {'subsample': 0.8, 'reg_lambda': 0.0, 'n_estimators': 1500, 'max_depth': 3, 'learning_rate': 0.05}\n"
     ]
    }
   ],
   "source": [
    "print('Best parameters found by randomized search:', xgbst_random.best_params_)"
   ]
  },
  {
   "cell_type": "code",
   "execution_count": 105,
   "id": "68b622ad",
   "metadata": {},
   "outputs": [
    {
     "data": {
      "text/plain": [
       "XGBClassifier(base_score=None, booster=None, callbacks=None,\n",
       "              colsample_bylevel=None, colsample_bynode=None,\n",
       "              colsample_bytree=None, device=None, early_stopping_rounds=None,\n",
       "              enable_categorical=False, eval_metric='mlogloss',\n",
       "              feature_types=None, gamma=None, grow_policy=None,\n",
       "              importance_type=None, interaction_constraints=None,\n",
       "              learning_rate=None, max_bin=None, max_cat_threshold=None,\n",
       "              max_cat_to_onehot=None, max_delta_step=None, max_depth=None,\n",
       "              max_leaves=None, min_child_weight=None, missing=nan,\n",
       "              monotone_constraints=None, multi_strategy=None, n_estimators=None,\n",
       "              n_jobs=None, num_class=3, num_parallel_tree=None, ...)"
      ]
     },
     "execution_count": 105,
     "metadata": {},
     "output_type": "execute_result"
    }
   ],
   "source": [
    "xgbst_update=xgb.XGBClassifier(objective='multi:softmax',\n",
    "                              num_class=3,\n",
    "                              eval_metric='mlogloss',\n",
    "                              **xgbst_random.best_params_)\n",
    "xgbst.fit(X_train,y_train)"
   ]
  },
  {
   "cell_type": "code",
   "execution_count": 106,
   "id": "c56fac19",
   "metadata": {},
   "outputs": [],
   "source": [
    "xgb_y_val=xgbst.predict(X_val)"
   ]
  },
  {
   "cell_type": "code",
   "execution_count": 111,
   "id": "ba1413f3",
   "metadata": {},
   "outputs": [
    {
     "data": {
      "text/plain": [
       "array([0, 0, 0, ..., 0, 0, 1])"
      ]
     },
     "execution_count": 111,
     "metadata": {},
     "output_type": "execute_result"
    }
   ],
   "source": [
    "xgb_y_val"
   ]
  },
  {
   "cell_type": "code",
   "execution_count": 110,
   "id": "2573d84f",
   "metadata": {},
   "outputs": [
    {
     "data": {
      "text/plain": [
       "array([0, 0, 0, ..., 2, 0, 1])"
      ]
     },
     "execution_count": 110,
     "metadata": {},
     "output_type": "execute_result"
    }
   ],
   "source": [
    "y_val"
   ]
  },
  {
   "cell_type": "markdown",
   "id": "2fb18f75",
   "metadata": {},
   "source": [
    "### Adaboost"
   ]
  },
  {
   "cell_type": "code",
   "execution_count": 135,
   "id": "a2a8c0be",
   "metadata": {},
   "outputs": [],
   "source": [
    "from sklearn.ensemble import AdaBoostClassifier\n",
    "from sklearn.tree import DecisionTreeClassifier\n",
    "\n",
    "weak_learner = DecisionTreeClassifier(max_leaf_nodes=8)#this is a hyper parameter and needs to be tunned\n",
    "n_estimators = 300\n",
    "\n",
    "adaboost_clf = AdaBoostClassifier(\n",
    "    base_estimator=weak_learner,#Use estimator instead of base_estimator for sklearn over version 1.2 \n",
    "    n_estimators=n_estimators,\n",
    "    algorithm=\"SAMME\",\n",
    "    random_state=42,\n",
    ").fit(X_train, y_train)\n",
    "#where X_train is the number valued review text, and the y_train is the sentiment(0,1,2)"
   ]
  },
  {
   "cell_type": "markdown",
   "id": "2e9751ab",
   "metadata": {},
   "source": [
    "gradient boosting"
   ]
  },
  {
   "cell_type": "code",
   "execution_count": 137,
   "id": "727512fc",
   "metadata": {},
   "outputs": [
    {
     "name": "stdout",
     "output_type": "stream",
     "text": [
      "DecisionTreeClassifier's misclassification_error: 0.350\n",
      "DummyClassifier's misclassification_error: 0.374\n"
     ]
    }
   ],
   "source": [
    "from sklearn.dummy import DummyClassifier\n",
    "from sklearn.metrics import accuracy_score\n",
    "\n",
    "dummy_clf = DummyClassifier()\n",
    "\n",
    "\n",
    "def misclassification_error(y_true, y_pred):\n",
    "    return 1 - accuracy_score(y_true, y_pred)\n",
    "\n",
    "\n",
    "weak_learners_misclassification_error = misclassification_error(\n",
    "    y_test, weak_learner.fit(X_train, y_train).predict(X_test)\n",
    ")\n",
    "\n",
    "dummy_classifiers_misclassification_error = misclassification_error(\n",
    "    y_test, dummy_clf.fit(X_train, y_train).predict(X_test)\n",
    ")\n",
    "\n",
    "print(\n",
    "    \"DecisionTreeClassifier's misclassification_error: \"\n",
    "    f\"{weak_learners_misclassification_error:.3f}\"\n",
    ")\n",
    "print(\n",
    "    \"DummyClassifier's misclassification_error: \"\n",
    "    f\"{dummy_classifiers_misclassification_error:.3f}\"\n",
    ")"
   ]
  },
  {
   "cell_type": "code",
   "execution_count": 138,
   "id": "27d77ce1",
   "metadata": {},
   "outputs": [
    {
     "data": {
      "image/png": "[encoded data removed]",
      "text/plain": [
       "<Figure size 640x480 with 1 Axes>"
      ]
     },
     "metadata": {},
     "output_type": "display_data"
    }
   ],
   "source": [
    "\n",
    "boosting_errors = pd.DataFrame(\n",
    "    {\n",
    "        \"Number of trees\": range(1, n_estimators + 1),\n",
    "        \"AdaBoost\": [\n",
    "            misclassification_error(y_test, y_pred)\n",
    "            for y_pred in adaboost_clf.staged_predict(X_test)\n",
    "        ],\n",
    "    }\n",
    ").set_index(\"Number of trees\")\n",
    "ax = boosting_errors.plot()\n",
    "ax.set_ylabel(\"Misclassification error on test set\")\n",
    "ax.set_title(\"Convergence of AdaBoost algorithm\")\n",
    "\n",
    "plt.plot(\n",
    "    [boosting_errors.index.min(), boosting_errors.index.max()],\n",
    "    [weak_learners_misclassification_error, weak_learners_misclassification_error],\n",
    "    color=\"tab:orange\",\n",
    "    linestyle=\"dashed\",\n",
    ")\n",
    "plt.plot(\n",
    "    [boosting_errors.index.min(), boosting_errors.index.max()],\n",
    "    [\n",
    "        dummy_classifiers_misclassification_error,\n",
    "        dummy_classifiers_misclassification_error,\n",
    "    ],\n",
    "    color=\"c\",\n",
    "    linestyle=\"dotted\",\n",
    ")\n",
    "plt.legend([\"AdaBoost\", \"DecisionTreeClassifier\", \"DummyClassifier\"], loc=1)\n",
    "plt.show()"
   ]
  },
  {
   "cell_type": "code",
   "execution_count": 139,
   "id": "e743419d",
   "metadata": {},
   "outputs": [
    {
     "data": {
      "image/png": "[encoded data removed]",
      "text/plain": [
       "<Figure size 1000x400 with 2 Axes>"
      ]
     },
     "metadata": {},
     "output_type": "display_data"
    }
   ],
   "source": [
    "weak_learners_info = pd.DataFrame(\n",
    "    {\n",
    "        \"Number of trees\": range(1, n_estimators + 1),\n",
    "        \"Errors\": adaboost_clf.estimator_errors_,\n",
    "        \"Weights\": adaboost_clf.estimator_weights_,\n",
    "    }\n",
    ").set_index(\"Number of trees\")\n",
    "\n",
    "axs = weak_learners_info.plot(\n",
    "    subplots=True, layout=(1, 2), figsize=(10, 4), legend=False, color=\"tab:blue\"\n",
    ")\n",
    "axs[0, 0].set_ylabel(\"Train error\")\n",
    "axs[0, 0].set_title(\"Weak learner's training error\")\n",
    "axs[0, 1].set_ylabel(\"Weight\")\n",
    "axs[0, 1].set_title(\"Weak learner's weight\")\n",
    "fig = axs[0, 0].get_figure()\n",
    "fig.suptitle(\"Weak learner's errors and weights for the AdaBoostClassifier\")\n",
    "fig.tight_layout()"
   ]
  }
 ],
 "metadata": {
  "kernelspec": {
   "display_name": "Python 3 (ipykernel)",
   "language": "python",
   "name": "python3"
  },
  "language_info": {
   "codemirror_mode": {
    "name": "ipython",
    "version": 3
   },
   "file_extension": ".py",
   "mimetype": "text/x-python",
   "name": "python",
   "nbconvert_exporter": "python",
   "pygments_lexer": "ipython3",
   "version": "3.9.13"
  },
  "toc": {
   "base_numbering": 1,
   "nav_menu": {},
   "number_sections": true,
   "sideBar": true,
   "skip_h1_title": false,
   "title_cell": "Table of Contents",
   "title_sidebar": "Contents",
   "toc_cell": false,
   "toc_position": {},
   "toc_section_display": true,
   "toc_window_display": false
  },
  "varInspector": {
   "cols": {
    "lenName": 16,
    "lenType": 16,
    "lenVar": 40
   },
   "kernels_config": {
    "python": {
     "delete_cmd_postfix": "",
     "delete_cmd_prefix": "del ",
     "library": "var_list.py",
     "varRefreshCmd": "print(var_dic_list())"
    },
    "r": {
     "delete_cmd_postfix": ") ",
     "delete_cmd_prefix": "rm(",
     "library": "var_list.r",
     "varRefreshCmd": "cat(var_dic_list()) "
    }
   },
   "types_to_exclude": [
    "module",
    "function",
    "builtin_function_or_method",
    "instance",
    "_Feature"
   ],
   "window_display": false
  }
 },
 "nbformat": 4,
 "nbformat_minor": 5
}
