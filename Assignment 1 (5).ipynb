{
 "cells": [
  {
   "cell_type": "code",
   "execution_count": 26,
   "id": "1b21afb2",
   "metadata": {},
   "outputs": [],
   "source": [
    "from dataprep.eda import create_report\n",
    "import sweetviz as sv"
   ]
  },
  {
   "cell_type": "code",
   "execution_count": 27,
   "id": "108b73df",
   "metadata": {},
   "outputs": [],
   "source": [
    "import pandas as pd \n",
    "import pytz\n",
    "import numpy as np\n",
    "import seaborn as sns"
   ]
  },
  {
   "cell_type": "code",
   "execution_count": 28,
   "id": "20188b99",
   "metadata": {},
   "outputs": [],
   "source": [
    "from sklearn.preprocessing import MinMaxScaler\n",
    "from sklearn.model_selection import train_test_split\n",
    "from sklearn.metrics import classification_report\n",
    "from sklearn.metrics import confusion_matrix\n",
    "from torchtext.data.utils import get_tokenizer\n",
    "\n",
    "import matplotlib.pyplot as plt\n",
    "\n",
    "import torch\n",
    "from torch import nn \n",
    "import torch.nn.functional as F\n",
    "from torch import utils\n",
    "\n",
    "torch.manual_seed(0)\n",
    "np.random.seed(0)\n",
    "\n",
    "import warnings\n",
    "warnings.filterwarnings(\"ignore\")"
   ]
  },
  {
   "cell_type": "code",
   "execution_count": 60,
   "id": "aae9812b",
   "metadata": {},
   "outputs": [],
   "source": [
    "train=pd.read_csv('https://raw.githubusercontent.com/zerickzhan/Group-20/main/review_train.csv')\n",
    "challenge=pd.read_csv('https://raw.githubusercontent.com/zerickzhan/Group-20/main/review_challenge.csv')"
   ]
  },
  {
   "cell_type": "code",
   "execution_count": 30,
   "id": "2c00c0bc",
   "metadata": {
    "scrolled": true
   },
   "outputs": [
    {
     "data": {
      "text/html": [
       "<div>\n",
       "<style scoped>\n",
       "    .dataframe tbody tr th:only-of-type {\n",
       "        vertical-align: middle;\n",
       "    }\n",
       "\n",
       "    .dataframe tbody tr th {\n",
       "        vertical-align: top;\n",
       "    }\n",
       "\n",
       "    .dataframe thead th {\n",
       "        text-align: right;\n",
       "    }\n",
       "</style>\n",
       "<table border=\"1\" class=\"dataframe\">\n",
       "  <thead>\n",
       "    <tr style=\"text-align: right;\">\n",
       "      <th></th>\n",
       "      <th>review_id</th>\n",
       "      <th>user_name</th>\n",
       "      <th>airline_sentiment</th>\n",
       "      <th>sentiment_confidence</th>\n",
       "      <th>negative_reason</th>\n",
       "      <th>negative_reason_confidence</th>\n",
       "      <th>airline_name</th>\n",
       "      <th>review_text</th>\n",
       "      <th>thumbup_count</th>\n",
       "      <th>review_coordinates</th>\n",
       "      <th>review_timestamp</th>\n",
       "      <th>review_city</th>\n",
       "      <th>user_timezone</th>\n",
       "    </tr>\n",
       "  </thead>\n",
       "  <tbody>\n",
       "    <tr>\n",
       "      <th>0</th>\n",
       "      <td>570306133677760513</td>\n",
       "      <td>cairdin</td>\n",
       "      <td>neutral</td>\n",
       "      <td>1.0000</td>\n",
       "      <td>NaN</td>\n",
       "      <td>NaN</td>\n",
       "      <td>EgyptAir</td>\n",
       "      <td>What said.</td>\n",
       "      <td>0</td>\n",
       "      <td>NaN</td>\n",
       "      <td>24/2/2015 11:35</td>\n",
       "      <td>NaN</td>\n",
       "      <td>Eastern Time (US &amp; Canada)</td>\n",
       "    </tr>\n",
       "    <tr>\n",
       "      <th>1</th>\n",
       "      <td>570301130888122368</td>\n",
       "      <td>jnardino</td>\n",
       "      <td>positive</td>\n",
       "      <td>0.3486</td>\n",
       "      <td>NaN</td>\n",
       "      <td>0.0000</td>\n",
       "      <td>EgyptAir</td>\n",
       "      <td>plus you've added commercials to the experienc...</td>\n",
       "      <td>0</td>\n",
       "      <td>NaN</td>\n",
       "      <td>24/2/2015 11:15</td>\n",
       "      <td>NaN</td>\n",
       "      <td>Pacific Time (US &amp; Canada)</td>\n",
       "    </tr>\n",
       "    <tr>\n",
       "      <th>2</th>\n",
       "      <td>570301083672813571</td>\n",
       "      <td>yvonnalynn</td>\n",
       "      <td>neutral</td>\n",
       "      <td>0.6837</td>\n",
       "      <td>NaN</td>\n",
       "      <td>NaN</td>\n",
       "      <td>EgyptAir</td>\n",
       "      <td>I didn't today... Must mean I need to take ano...</td>\n",
       "      <td>0</td>\n",
       "      <td>NaN</td>\n",
       "      <td>24/2/2015 11:15</td>\n",
       "      <td>Lets Play</td>\n",
       "      <td>Central Time (US &amp; Canada)</td>\n",
       "    </tr>\n",
       "    <tr>\n",
       "      <th>3</th>\n",
       "      <td>570301031407624196</td>\n",
       "      <td>jnardino</td>\n",
       "      <td>negative</td>\n",
       "      <td>1.0000</td>\n",
       "      <td>Bad Flight</td>\n",
       "      <td>0.7033</td>\n",
       "      <td>EgyptAir</td>\n",
       "      <td>it's really aggressive to blast obnoxious \"ent...</td>\n",
       "      <td>0</td>\n",
       "      <td>NaN</td>\n",
       "      <td>24/2/2015 11:15</td>\n",
       "      <td>NaN</td>\n",
       "      <td>Pacific Time (US &amp; Canada)</td>\n",
       "    </tr>\n",
       "    <tr>\n",
       "      <th>4</th>\n",
       "      <td>570300817074462722</td>\n",
       "      <td>jnardino</td>\n",
       "      <td>negative</td>\n",
       "      <td>1.0000</td>\n",
       "      <td>Can't Tell</td>\n",
       "      <td>1.0000</td>\n",
       "      <td>EgyptAir</td>\n",
       "      <td>and it's a really big bad thing about it</td>\n",
       "      <td>0</td>\n",
       "      <td>NaN</td>\n",
       "      <td>24/2/2015 11:14</td>\n",
       "      <td>NaN</td>\n",
       "      <td>Pacific Time (US &amp; Canada)</td>\n",
       "    </tr>\n",
       "    <tr>\n",
       "      <th>...</th>\n",
       "      <td>...</td>\n",
       "      <td>...</td>\n",
       "      <td>...</td>\n",
       "      <td>...</td>\n",
       "      <td>...</td>\n",
       "      <td>...</td>\n",
       "      <td>...</td>\n",
       "      <td>...</td>\n",
       "      <td>...</td>\n",
       "      <td>...</td>\n",
       "      <td>...</td>\n",
       "      <td>...</td>\n",
       "      <td>...</td>\n",
       "    </tr>\n",
       "    <tr>\n",
       "      <th>13757</th>\n",
       "      <td>569587686496825344</td>\n",
       "      <td>KristenReenders</td>\n",
       "      <td>positive</td>\n",
       "      <td>0.3487</td>\n",
       "      <td>NaN</td>\n",
       "      <td>0.0000</td>\n",
       "      <td>Qantas</td>\n",
       "      <td>thank you we got on a different flight to Chic...</td>\n",
       "      <td>0</td>\n",
       "      <td>NaN</td>\n",
       "      <td>22/2/2015 12:01</td>\n",
       "      <td>NaN</td>\n",
       "      <td>NaN</td>\n",
       "    </tr>\n",
       "    <tr>\n",
       "      <th>13758</th>\n",
       "      <td>569587371693355008</td>\n",
       "      <td>itsropes</td>\n",
       "      <td>negative</td>\n",
       "      <td>1.0000</td>\n",
       "      <td>Customer Service Issue</td>\n",
       "      <td>1.0000</td>\n",
       "      <td>Qantas</td>\n",
       "      <td>leaving over minutes Late Flight. No warnings ...</td>\n",
       "      <td>0</td>\n",
       "      <td>NaN</td>\n",
       "      <td>22/2/2015 11:59</td>\n",
       "      <td>Texas</td>\n",
       "      <td>NaN</td>\n",
       "    </tr>\n",
       "    <tr>\n",
       "      <th>13759</th>\n",
       "      <td>569587242672398336</td>\n",
       "      <td>sanyabun</td>\n",
       "      <td>neutral</td>\n",
       "      <td>1.0000</td>\n",
       "      <td>NaN</td>\n",
       "      <td>NaN</td>\n",
       "      <td>Qantas</td>\n",
       "      <td>Please bring American Airlines to #BlackBerry</td>\n",
       "      <td>0</td>\n",
       "      <td>NaN</td>\n",
       "      <td>22/2/2015 11:59</td>\n",
       "      <td>Nigeria,lagos</td>\n",
       "      <td>NaN</td>\n",
       "    </tr>\n",
       "    <tr>\n",
       "      <th>13760</th>\n",
       "      <td>569587188687634433</td>\n",
       "      <td>SraJackson</td>\n",
       "      <td>negative</td>\n",
       "      <td>1.0000</td>\n",
       "      <td>Customer Service Issue</td>\n",
       "      <td>0.6659</td>\n",
       "      <td>Qantas</td>\n",
       "      <td>you have my money, you change my flight, and d...</td>\n",
       "      <td>0</td>\n",
       "      <td>NaN</td>\n",
       "      <td>22/2/2015 11:59</td>\n",
       "      <td>New Jersey</td>\n",
       "      <td>Eastern Time (US &amp; Canada)</td>\n",
       "    </tr>\n",
       "    <tr>\n",
       "      <th>13761</th>\n",
       "      <td>569587140490866689</td>\n",
       "      <td>daviddtwu</td>\n",
       "      <td>neutral</td>\n",
       "      <td>0.6771</td>\n",
       "      <td>NaN</td>\n",
       "      <td>0.0000</td>\n",
       "      <td>Qantas</td>\n",
       "      <td>we have ppl so we need know how many seats are...</td>\n",
       "      <td>0</td>\n",
       "      <td>NaN</td>\n",
       "      <td>22/2/2015 11:58</td>\n",
       "      <td>dallas, TX</td>\n",
       "      <td>NaN</td>\n",
       "    </tr>\n",
       "  </tbody>\n",
       "</table>\n",
       "<p>13762 rows × 13 columns</p>\n",
       "</div>"
      ],
      "text/plain": [
       "                review_id        user_name airline_sentiment  \\\n",
       "0      570306133677760513          cairdin           neutral   \n",
       "1      570301130888122368         jnardino          positive   \n",
       "2      570301083672813571       yvonnalynn           neutral   \n",
       "3      570301031407624196         jnardino          negative   \n",
       "4      570300817074462722         jnardino          negative   \n",
       "...                   ...              ...               ...   \n",
       "13757  569587686496825344  KristenReenders          positive   \n",
       "13758  569587371693355008         itsropes          negative   \n",
       "13759  569587242672398336         sanyabun           neutral   \n",
       "13760  569587188687634433       SraJackson          negative   \n",
       "13761  569587140490866689        daviddtwu           neutral   \n",
       "\n",
       "       sentiment_confidence         negative_reason  \\\n",
       "0                    1.0000                     NaN   \n",
       "1                    0.3486                     NaN   \n",
       "2                    0.6837                     NaN   \n",
       "3                    1.0000              Bad Flight   \n",
       "4                    1.0000              Can't Tell   \n",
       "...                     ...                     ...   \n",
       "13757                0.3487                     NaN   \n",
       "13758                1.0000  Customer Service Issue   \n",
       "13759                1.0000                     NaN   \n",
       "13760                1.0000  Customer Service Issue   \n",
       "13761                0.6771                     NaN   \n",
       "\n",
       "       negative_reason_confidence airline_name  \\\n",
       "0                             NaN     EgyptAir   \n",
       "1                          0.0000     EgyptAir   \n",
       "2                             NaN     EgyptAir   \n",
       "3                          0.7033     EgyptAir   \n",
       "4                          1.0000     EgyptAir   \n",
       "...                           ...          ...   \n",
       "13757                      0.0000       Qantas   \n",
       "13758                      1.0000       Qantas   \n",
       "13759                         NaN       Qantas   \n",
       "13760                      0.6659       Qantas   \n",
       "13761                      0.0000       Qantas   \n",
       "\n",
       "                                             review_text  thumbup_count  \\\n",
       "0                                             What said.              0   \n",
       "1      plus you've added commercials to the experienc...              0   \n",
       "2      I didn't today... Must mean I need to take ano...              0   \n",
       "3      it's really aggressive to blast obnoxious \"ent...              0   \n",
       "4               and it's a really big bad thing about it              0   \n",
       "...                                                  ...            ...   \n",
       "13757  thank you we got on a different flight to Chic...              0   \n",
       "13758  leaving over minutes Late Flight. No warnings ...              0   \n",
       "13759      Please bring American Airlines to #BlackBerry              0   \n",
       "13760  you have my money, you change my flight, and d...              0   \n",
       "13761  we have ppl so we need know how many seats are...              0   \n",
       "\n",
       "      review_coordinates review_timestamp    review_city  \\\n",
       "0                    NaN  24/2/2015 11:35            NaN   \n",
       "1                    NaN  24/2/2015 11:15            NaN   \n",
       "2                    NaN  24/2/2015 11:15      Lets Play   \n",
       "3                    NaN  24/2/2015 11:15            NaN   \n",
       "4                    NaN  24/2/2015 11:14            NaN   \n",
       "...                  ...              ...            ...   \n",
       "13757                NaN  22/2/2015 12:01            NaN   \n",
       "13758                NaN  22/2/2015 11:59          Texas   \n",
       "13759                NaN  22/2/2015 11:59  Nigeria,lagos   \n",
       "13760                NaN  22/2/2015 11:59     New Jersey   \n",
       "13761                NaN  22/2/2015 11:58     dallas, TX   \n",
       "\n",
       "                    user_timezone  \n",
       "0      Eastern Time (US & Canada)  \n",
       "1      Pacific Time (US & Canada)  \n",
       "2      Central Time (US & Canada)  \n",
       "3      Pacific Time (US & Canada)  \n",
       "4      Pacific Time (US & Canada)  \n",
       "...                           ...  \n",
       "13757                         NaN  \n",
       "13758                         NaN  \n",
       "13759                         NaN  \n",
       "13760  Eastern Time (US & Canada)  \n",
       "13761                         NaN  \n",
       "\n",
       "[13762 rows x 13 columns]"
      ]
     },
     "execution_count": 30,
     "metadata": {},
     "output_type": "execute_result"
    }
   ],
   "source": [
    "train"
   ]
  },
  {
   "cell_type": "code",
   "execution_count": null,
   "id": "fe460465",
   "metadata": {},
   "outputs": [],
   "source": [
    "# Univariate Analysis"
   ]
  },
  {
   "cell_type": "code",
   "execution_count": 31,
   "id": "72f9ff37",
   "metadata": {
    "scrolled": true
   },
   "outputs": [
    {
     "data": {
      "application/vnd.jupyter.widget-view+json": {
       "model_id": "046602903d21487988af9d709168977a",
       "version_major": 2,
       "version_minor": 0
      },
      "text/plain": [
       "                                             |                                             | [  0%]   00:00 ->…"
      ]
     },
     "metadata": {},
     "output_type": "display_data"
    }
   ],
   "source": [
    "analyze_report = sv.analyze(train)"
   ]
  },
  {
   "cell_type": "code",
   "execution_count": 32,
   "id": "35e122ed",
   "metadata": {},
   "outputs": [
    {
     "name": "stdout",
     "output_type": "stream",
     "text": [
      "Report report.html was generated! NOTEBOOK/COLAB USERS: the web browser MAY not pop up, regardless, the report IS saved in your notebook/colab files.\n"
     ]
    }
   ],
   "source": [
    "analyze_report.show_html('report.html')"
   ]
  },
  {
   "cell_type": "code",
   "execution_count": 33,
   "id": "e9ef3467",
   "metadata": {
    "scrolled": true
   },
   "outputs": [
    {
     "data": {
      "application/vnd.jupyter.widget-view+json": {
       "model_id": "aeb828dfd65842b688fd36758338a734",
       "version_major": 2,
       "version_minor": 0
      },
      "text/plain": [
       "                                             |                                             | [  0%]   00:00 ->…"
      ]
     },
     "metadata": {},
     "output_type": "display_data"
    }
   ],
   "source": [
    "analyze_reportchallenge = sv.analyze(challenge)"
   ]
  },
  {
   "cell_type": "code",
   "execution_count": 34,
   "id": "3d049637",
   "metadata": {},
   "outputs": [
    {
     "name": "stdout",
     "output_type": "stream",
     "text": [
      "Report challenge.html was generated! NOTEBOOK/COLAB USERS: the web browser MAY not pop up, regardless, the report IS saved in your notebook/colab files.\n"
     ]
    }
   ],
   "source": [
    "analyze_reportchallenge.show_html('challenge.html')"
   ]
  },
  {
   "cell_type": "code",
   "execution_count": 74,
   "id": "d485bd50",
   "metadata": {},
   "outputs": [
    {
     "data": {
      "text/plain": [
       "count    1.376200e+04\n",
       "mean     5.692199e+17\n",
       "std      7.793554e+14\n",
       "min      5.675883e+17\n",
       "25%      5.685594e+17\n",
       "50%      5.694844e+17\n",
       "75%      5.698917e+17\n",
       "max      5.703106e+17\n",
       "Name: review_id, dtype: float64"
      ]
     },
     "execution_count": 74,
     "metadata": {},
     "output_type": "execute_result"
    }
   ],
   "source": [
    "train['review_id'].describe()"
   ]
  },
  {
   "cell_type": "markdown",
   "id": "e5d1b89b",
   "metadata": {},
   "source": [
    "We need to first identify dependent values, independent values , categorical values, and continuous values before we intitial our EDA analysis. "
   ]
  },
  {
   "cell_type": "code",
   "execution_count": 72,
   "id": "268125d3",
   "metadata": {
    "scrolled": true
   },
   "outputs": [
    {
     "data": {
      "text/html": [
       "<div>\n",
       "<style scoped>\n",
       "    .dataframe tbody tr th:only-of-type {\n",
       "        vertical-align: middle;\n",
       "    }\n",
       "\n",
       "    .dataframe tbody tr th {\n",
       "        vertical-align: top;\n",
       "    }\n",
       "\n",
       "    .dataframe thead th {\n",
       "        text-align: right;\n",
       "    }\n",
       "</style>\n",
       "<table border=\"1\" class=\"dataframe\">\n",
       "  <thead>\n",
       "    <tr style=\"text-align: right;\">\n",
       "      <th></th>\n",
       "      <th>review_id</th>\n",
       "      <th>user_name</th>\n",
       "      <th>airline_sentiment</th>\n",
       "      <th>sentiment_confidence</th>\n",
       "      <th>negative_reason</th>\n",
       "      <th>negative_reason_confidence</th>\n",
       "      <th>airline_name</th>\n",
       "      <th>review_text</th>\n",
       "      <th>thumbup_count</th>\n",
       "      <th>review_coordinates</th>\n",
       "      <th>review_timestamp</th>\n",
       "      <th>review_city</th>\n",
       "      <th>user_timezone</th>\n",
       "    </tr>\n",
       "  </thead>\n",
       "  <tbody>\n",
       "    <tr>\n",
       "      <th>11230</th>\n",
       "      <td>570286841737318400</td>\n",
       "      <td>djjohnpayne</td>\n",
       "      <td>0.0</td>\n",
       "      <td>1.0</td>\n",
       "      <td>Cancelled Flight</td>\n",
       "      <td>0.6304</td>\n",
       "      <td>Qantas</td>\n",
       "      <td>you guys are killing me. http://t.co/iPGeIcSm</td>\n",
       "      <td>0</td>\n",
       "      <td>[0.0, 0.0]</td>\n",
       "      <td>24/2/2015 10:19</td>\n",
       "      <td>Las Vegas, NV</td>\n",
       "      <td>Pacific Time (US &amp; Canada)</td>\n",
       "    </tr>\n",
       "    <tr>\n",
       "      <th>11384</th>\n",
       "      <td>570286841737318400</td>\n",
       "      <td>djjohnpayne</td>\n",
       "      <td>0.0</td>\n",
       "      <td>1.0</td>\n",
       "      <td>Cancelled Flight</td>\n",
       "      <td>1.0000</td>\n",
       "      <td>Qantas</td>\n",
       "      <td>you guys are killing me. http://t.co/iPGeIcSm</td>\n",
       "      <td>0</td>\n",
       "      <td>[0.0, 0.0]</td>\n",
       "      <td>24/2/2015 10:19</td>\n",
       "      <td>Las Vegas, NV</td>\n",
       "      <td>Pacific Time (US &amp; Canada)</td>\n",
       "    </tr>\n",
       "  </tbody>\n",
       "</table>\n",
       "</div>"
      ],
      "text/plain": [
       "                review_id    user_name  airline_sentiment  \\\n",
       "11230  570286841737318400  djjohnpayne                0.0   \n",
       "11384  570286841737318400  djjohnpayne                0.0   \n",
       "\n",
       "       sentiment_confidence   negative_reason  negative_reason_confidence  \\\n",
       "11230                   1.0  Cancelled Flight                      0.6304   \n",
       "11384                   1.0  Cancelled Flight                      1.0000   \n",
       "\n",
       "      airline_name                                    review_text  \\\n",
       "11230       Qantas  you guys are killing me. http://t.co/iPGeIcSm   \n",
       "11384       Qantas  you guys are killing me. http://t.co/iPGeIcSm   \n",
       "\n",
       "       thumbup_count review_coordinates review_timestamp    review_city  \\\n",
       "11230              0         [0.0, 0.0]  24/2/2015 10:19  Las Vegas, NV   \n",
       "11384              0         [0.0, 0.0]  24/2/2015 10:19  Las Vegas, NV   \n",
       "\n",
       "                    user_timezone  \n",
       "11230  Pacific Time (US & Canada)  \n",
       "11384  Pacific Time (US & Canada)  "
      ]
     },
     "execution_count": 72,
     "metadata": {},
     "output_type": "execute_result"
    }
   ],
   "source": [
    "train[train[\"review_id\"]==570286841737318400]"
   ]
  },
  {
   "cell_type": "code",
   "execution_count": 73,
   "id": "2ff0a1fe",
   "metadata": {
    "scrolled": true
   },
   "outputs": [
    {
     "data": {
      "text/html": [
       "<div>\n",
       "<style scoped>\n",
       "    .dataframe tbody tr th:only-of-type {\n",
       "        vertical-align: middle;\n",
       "    }\n",
       "\n",
       "    .dataframe tbody tr th {\n",
       "        vertical-align: top;\n",
       "    }\n",
       "\n",
       "    .dataframe thead th {\n",
       "        text-align: right;\n",
       "    }\n",
       "</style>\n",
       "<table border=\"1\" class=\"dataframe\">\n",
       "  <thead>\n",
       "    <tr style=\"text-align: right;\">\n",
       "      <th></th>\n",
       "      <th>review_id</th>\n",
       "      <th>user_name</th>\n",
       "      <th>airline_sentiment</th>\n",
       "      <th>sentiment_confidence</th>\n",
       "      <th>negative_reason</th>\n",
       "      <th>negative_reason_confidence</th>\n",
       "      <th>airline_name</th>\n",
       "      <th>review_text</th>\n",
       "      <th>thumbup_count</th>\n",
       "      <th>review_coordinates</th>\n",
       "      <th>review_timestamp</th>\n",
       "      <th>review_city</th>\n",
       "      <th>user_timezone</th>\n",
       "    </tr>\n",
       "  </thead>\n",
       "  <tbody>\n",
       "    <tr>\n",
       "      <th>11298</th>\n",
       "      <td>570267562623152128</td>\n",
       "      <td>alinaxkristin</td>\n",
       "      <td>0.0</td>\n",
       "      <td>1.0</td>\n",
       "      <td>Flight Attendant Complaints</td>\n",
       "      <td>1.0000</td>\n",
       "      <td>Qantas</td>\n",
       "      <td>you could train your flight attendants to have...</td>\n",
       "      <td>0</td>\n",
       "      <td>NaN</td>\n",
       "      <td>24/2/2015 9:02</td>\n",
       "      <td>Miami</td>\n",
       "      <td>Quito</td>\n",
       "    </tr>\n",
       "    <tr>\n",
       "      <th>11453</th>\n",
       "      <td>570267562623152128</td>\n",
       "      <td>alinaxkristin</td>\n",
       "      <td>0.0</td>\n",
       "      <td>1.0</td>\n",
       "      <td>Flight Attendant Complaints</td>\n",
       "      <td>0.6688</td>\n",
       "      <td>Qantas</td>\n",
       "      <td>you could train your flight attendants to have...</td>\n",
       "      <td>0</td>\n",
       "      <td>NaN</td>\n",
       "      <td>24/2/2015 9:02</td>\n",
       "      <td>Miami</td>\n",
       "      <td>Quito</td>\n",
       "    </tr>\n",
       "  </tbody>\n",
       "</table>\n",
       "</div>"
      ],
      "text/plain": [
       "                review_id      user_name  airline_sentiment  \\\n",
       "11298  570267562623152128  alinaxkristin                0.0   \n",
       "11453  570267562623152128  alinaxkristin                0.0   \n",
       "\n",
       "       sentiment_confidence              negative_reason  \\\n",
       "11298                   1.0  Flight Attendant Complaints   \n",
       "11453                   1.0  Flight Attendant Complaints   \n",
       "\n",
       "       negative_reason_confidence airline_name  \\\n",
       "11298                      1.0000       Qantas   \n",
       "11453                      0.6688       Qantas   \n",
       "\n",
       "                                             review_text  thumbup_count  \\\n",
       "11298  you could train your flight attendants to have...              0   \n",
       "11453  you could train your flight attendants to have...              0   \n",
       "\n",
       "      review_coordinates review_timestamp review_city user_timezone  \n",
       "11298                NaN   24/2/2015 9:02      Miami          Quito  \n",
       "11453                NaN   24/2/2015 9:02      Miami          Quito  "
      ]
     },
     "execution_count": 73,
     "metadata": {},
     "output_type": "execute_result"
    }
   ],
   "source": [
    "train[train[\"review_id\"]==570267562623152128]"
   ]
  },
  {
   "cell_type": "code",
   "execution_count": 80,
   "id": "38c83f97",
   "metadata": {},
   "outputs": [],
   "source": [
    "train=train.sort_values(by=['sentiment_confidence'])\n",
    "train=train.drop_duplicates(subset=['review_id'], keep='last')"
   ]
  },
  {
   "cell_type": "markdown",
   "id": "cf18868b",
   "metadata": {},
   "source": [
    "from the above example we can see several values are duplicated with the only difference being the negative_reason_confidence, which made the review_id not an unique key.\n",
    "Therefore, we will remove the values with lower sentiment confidence."
   ]
  },
  {
   "cell_type": "code",
   "execution_count": null,
   "id": "316a8547",
   "metadata": {},
   "outputs": [],
   "source": [
    "train = train.drop_duplicates(subset='review_id', keep=\"first\")"
   ]
  },
  {
   "cell_type": "code",
   "execution_count": 61,
   "id": "835794c8",
   "metadata": {},
   "outputs": [],
   "source": [
    "train['airline_sentiment']=train['airline_sentiment'].replace(\"negative\", 0)\n",
    "train['airline_sentiment']=train['airline_sentiment'].replace(\"neutral\", 0.5)\n",
    "train['airline_sentiment']=train['airline_sentiment'].replace(\"positive\", 1)"
   ]
  },
  {
   "cell_type": "markdown",
   "id": "a5a9596d",
   "metadata": {},
   "source": [
    "Changed sentiment analysis from words into numeric values"
   ]
  },
  {
   "cell_type": "code",
   "execution_count": 64,
   "id": "93041739",
   "metadata": {},
   "outputs": [
    {
     "data": {
      "text/html": [
       "<div>\n",
       "<style scoped>\n",
       "    .dataframe tbody tr th:only-of-type {\n",
       "        vertical-align: middle;\n",
       "    }\n",
       "\n",
       "    .dataframe tbody tr th {\n",
       "        vertical-align: top;\n",
       "    }\n",
       "\n",
       "    .dataframe thead th {\n",
       "        text-align: right;\n",
       "    }\n",
       "</style>\n",
       "<table border=\"1\" class=\"dataframe\">\n",
       "  <thead>\n",
       "    <tr style=\"text-align: right;\">\n",
       "      <th></th>\n",
       "      <th>review_id</th>\n",
       "      <th>airline_sentiment</th>\n",
       "      <th>sentiment_confidence</th>\n",
       "      <th>negative_reason_confidence</th>\n",
       "      <th>thumbup_count</th>\n",
       "    </tr>\n",
       "  </thead>\n",
       "  <tbody>\n",
       "    <tr>\n",
       "      <th>count</th>\n",
       "      <td>1.376200e+04</td>\n",
       "      <td>13762.000000</td>\n",
       "      <td>13762.000000</td>\n",
       "      <td>9889.000000</td>\n",
       "      <td>13762.000000</td>\n",
       "    </tr>\n",
       "    <tr>\n",
       "      <th>mean</th>\n",
       "      <td>5.692199e+17</td>\n",
       "      <td>0.267403</td>\n",
       "      <td>0.900215</td>\n",
       "      <td>0.639178</td>\n",
       "      <td>0.082764</td>\n",
       "    </tr>\n",
       "    <tr>\n",
       "      <th>std</th>\n",
       "      <td>7.793554e+14</td>\n",
       "      <td>0.378214</td>\n",
       "      <td>0.162848</td>\n",
       "      <td>0.330886</td>\n",
       "      <td>0.763072</td>\n",
       "    </tr>\n",
       "    <tr>\n",
       "      <th>min</th>\n",
       "      <td>5.675883e+17</td>\n",
       "      <td>0.000000</td>\n",
       "      <td>0.335000</td>\n",
       "      <td>0.000000</td>\n",
       "      <td>0.000000</td>\n",
       "    </tr>\n",
       "    <tr>\n",
       "      <th>25%</th>\n",
       "      <td>5.685594e+17</td>\n",
       "      <td>0.000000</td>\n",
       "      <td>0.692500</td>\n",
       "      <td>0.360900</td>\n",
       "      <td>0.000000</td>\n",
       "    </tr>\n",
       "    <tr>\n",
       "      <th>50%</th>\n",
       "      <td>5.694844e+17</td>\n",
       "      <td>0.000000</td>\n",
       "      <td>1.000000</td>\n",
       "      <td>0.670600</td>\n",
       "      <td>0.000000</td>\n",
       "    </tr>\n",
       "    <tr>\n",
       "      <th>75%</th>\n",
       "      <td>5.698917e+17</td>\n",
       "      <td>0.500000</td>\n",
       "      <td>1.000000</td>\n",
       "      <td>1.000000</td>\n",
       "      <td>0.000000</td>\n",
       "    </tr>\n",
       "    <tr>\n",
       "      <th>max</th>\n",
       "      <td>5.703106e+17</td>\n",
       "      <td>1.000000</td>\n",
       "      <td>1.000000</td>\n",
       "      <td>1.000000</td>\n",
       "      <td>44.000000</td>\n",
       "    </tr>\n",
       "  </tbody>\n",
       "</table>\n",
       "</div>"
      ],
      "text/plain": [
       "          review_id  airline_sentiment  sentiment_confidence  \\\n",
       "count  1.376200e+04       13762.000000          13762.000000   \n",
       "mean   5.692199e+17           0.267403              0.900215   \n",
       "std    7.793554e+14           0.378214              0.162848   \n",
       "min    5.675883e+17           0.000000              0.335000   \n",
       "25%    5.685594e+17           0.000000              0.692500   \n",
       "50%    5.694844e+17           0.000000              1.000000   \n",
       "75%    5.698917e+17           0.500000              1.000000   \n",
       "max    5.703106e+17           1.000000              1.000000   \n",
       "\n",
       "       negative_reason_confidence  thumbup_count  \n",
       "count                 9889.000000   13762.000000  \n",
       "mean                     0.639178       0.082764  \n",
       "std                      0.330886       0.763072  \n",
       "min                      0.000000       0.000000  \n",
       "25%                      0.360900       0.000000  \n",
       "50%                      0.670600       0.000000  \n",
       "75%                      1.000000       0.000000  \n",
       "max                      1.000000      44.000000  "
      ]
     },
     "execution_count": 64,
     "metadata": {},
     "output_type": "execute_result"
    }
   ],
   "source": [
    "train.describe()"
   ]
  },
  {
   "cell_type": "code",
   "execution_count": 68,
   "id": "5b4a9028",
   "metadata": {},
   "outputs": [
    {
     "data": {
      "text/plain": [
       "<AxesSubplot:title={'center':'Histogram of ApplicantIncome'}, xlabel='thumbup_count'>"
      ]
     },
     "execution_count": 68,
     "metadata": {},
     "output_type": "execute_result"
    },
    {
     "data": {
      "image/png": "[encoded data removed]",
      "text/plain": [
       "<Figure size 640x480 with 1 Axes>"
      ]
     },
     "metadata": {},
     "output_type": "display_data"
    },
    {
     "data": {
      "image/png": "[encoded data removed]",
      "text/plain": [
       "<Figure size 640x480 with 1 Axes>"
      ]
     },
     "metadata": {},
     "output_type": "display_data"
    }
   ],
   "source": [
    "fig, ax = plt.subplots()\n",
    "ax.set(title =\"Histogram \")\n",
    "sns.distplot(a=train[[\"thumbup_count\"]], bins=20)\n",
    "fig, ax = plt.subplots()\n",
    "ax.set(title =\"Histogram of ApplicantIncome\")\n",
    "sns.boxplot(x=\"thumbup_count\", data=train)"
   ]
  },
  {
   "cell_type": "code",
   "execution_count": null,
   "id": "2a698007",
   "metadata": {},
   "outputs": [],
   "source": [
    "fig, ax = plt.subplots()\n",
    "ax.set(title =\"Histogram \")\n",
    "sns.distplot(a=train[[\"sentiment_confidence\"]], bins=20)"
   ]
  },
  {
   "cell_type": "code",
   "execution_count": null,
   "id": "9514b080",
   "metadata": {},
   "outputs": [],
   "source": []
  },
  {
   "cell_type": "markdown",
   "id": "a3603d2b",
   "metadata": {},
   "source": [
    "# Bivariate Analysis \n"
   ]
  },
  {
   "cell_type": "code",
   "execution_count": 36,
   "id": "93dd966f",
   "metadata": {},
   "outputs": [],
   "source": [
    "filtered_data_number = train[train['user_name'].str.contains(r'\\d', regex=True, na=False)]"
   ]
  },
  {
   "cell_type": "code",
   "execution_count": 37,
   "id": "29c64830",
   "metadata": {
    "scrolled": true
   },
   "outputs": [
    {
     "data": {
      "text/html": [
       "<div>\n",
       "<style scoped>\n",
       "    .dataframe tbody tr th:only-of-type {\n",
       "        vertical-align: middle;\n",
       "    }\n",
       "\n",
       "    .dataframe tbody tr th {\n",
       "        vertical-align: top;\n",
       "    }\n",
       "\n",
       "    .dataframe thead th {\n",
       "        text-align: right;\n",
       "    }\n",
       "</style>\n",
       "<table border=\"1\" class=\"dataframe\">\n",
       "  <thead>\n",
       "    <tr style=\"text-align: right;\">\n",
       "      <th></th>\n",
       "      <th>review_id</th>\n",
       "      <th>user_name</th>\n",
       "      <th>airline_sentiment</th>\n",
       "      <th>sentiment_confidence</th>\n",
       "      <th>negative_reason</th>\n",
       "      <th>negative_reason_confidence</th>\n",
       "      <th>airline_name</th>\n",
       "      <th>review_text</th>\n",
       "      <th>thumbup_count</th>\n",
       "      <th>review_coordinates</th>\n",
       "      <th>review_timestamp</th>\n",
       "      <th>review_city</th>\n",
       "      <th>user_timezone</th>\n",
       "    </tr>\n",
       "  </thead>\n",
       "  <tbody>\n",
       "    <tr>\n",
       "      <th>8745</th>\n",
       "      <td>569985288992264192</td>\n",
       "      <td>ElmiraBudMan</td>\n",
       "      <td>negative</td>\n",
       "      <td>1.0000</td>\n",
       "      <td>Customer Service Issue</td>\n",
       "      <td>0.3561</td>\n",
       "      <td>Qatar Airways</td>\n",
       "      <td>PLANS CHANGED! IS THAT WHAT U CALL NOT BEIN AB...</td>\n",
       "      <td>0</td>\n",
       "      <td>NaN</td>\n",
       "      <td>23/2/2015 14:20</td>\n",
       "      <td>Does it really matter</td>\n",
       "      <td>NaN</td>\n",
       "    </tr>\n",
       "    <tr>\n",
       "      <th>8769</th>\n",
       "      <td>569972250385862656</td>\n",
       "      <td>ElmiraBudMan</td>\n",
       "      <td>negative</td>\n",
       "      <td>1.0000</td>\n",
       "      <td>Lost Luggage</td>\n",
       "      <td>0.6723</td>\n",
       "      <td>Qatar Airways</td>\n",
       "      <td>only happened because u couldn't get us home t...</td>\n",
       "      <td>0</td>\n",
       "      <td>NaN</td>\n",
       "      <td>23/2/2015 13:29</td>\n",
       "      <td>Does it really matter</td>\n",
       "      <td>NaN</td>\n",
       "    </tr>\n",
       "    <tr>\n",
       "      <th>8771</th>\n",
       "      <td>569971542538346496</td>\n",
       "      <td>ElmiraBudMan</td>\n",
       "      <td>negative</td>\n",
       "      <td>0.6902</td>\n",
       "      <td>Can't Tell</td>\n",
       "      <td>0.6902</td>\n",
       "      <td>Qatar Airways</td>\n",
       "      <td>the exhaustion of traveling n runnin thru the ...</td>\n",
       "      <td>0</td>\n",
       "      <td>NaN</td>\n",
       "      <td>23/2/2015 13:26</td>\n",
       "      <td>Does it really matter</td>\n",
       "      <td>NaN</td>\n",
       "    </tr>\n",
       "    <tr>\n",
       "      <th>8777</th>\n",
       "      <td>569970626057801728</td>\n",
       "      <td>ElmiraBudMan</td>\n",
       "      <td>neutral</td>\n",
       "      <td>0.7010</td>\n",
       "      <td>NaN</td>\n",
       "      <td>0.0000</td>\n",
       "      <td>Qatar Airways</td>\n",
       "      <td>doesn't take into account the $ it cost rent a...</td>\n",
       "      <td>0</td>\n",
       "      <td>NaN</td>\n",
       "      <td>23/2/2015 13:22</td>\n",
       "      <td>Does it really matter</td>\n",
       "      <td>NaN</td>\n",
       "    </tr>\n",
       "    <tr>\n",
       "      <th>8783</th>\n",
       "      <td>569969714245431296</td>\n",
       "      <td>ElmiraBudMan</td>\n",
       "      <td>negative</td>\n",
       "      <td>1.0000</td>\n",
       "      <td>Flight Attendant Complaints</td>\n",
       "      <td>0.6736</td>\n",
       "      <td>Qatar Airways</td>\n",
       "      <td>we had a friend there telling the gate attenda...</td>\n",
       "      <td>0</td>\n",
       "      <td>NaN</td>\n",
       "      <td>23/2/2015 13:19</td>\n",
       "      <td>Does it really matter</td>\n",
       "      <td>NaN</td>\n",
       "    </tr>\n",
       "    <tr>\n",
       "      <th>8791</th>\n",
       "      <td>569968609440563201</td>\n",
       "      <td>ElmiraBudMan</td>\n",
       "      <td>negative</td>\n",
       "      <td>1.0000</td>\n",
       "      <td>Cancelled Flight</td>\n",
       "      <td>1.0000</td>\n",
       "      <td>Qatar Airways</td>\n",
       "      <td>is okay for u Cancelled Flight change a flight...</td>\n",
       "      <td>0</td>\n",
       "      <td>NaN</td>\n",
       "      <td>23/2/2015 13:14</td>\n",
       "      <td>Does it really matter</td>\n",
       "      <td>NaN</td>\n",
       "    </tr>\n",
       "    <tr>\n",
       "      <th>8794</th>\n",
       "      <td>569967808446009345</td>\n",
       "      <td>ElmiraBudMan</td>\n",
       "      <td>negative</td>\n",
       "      <td>1.0000</td>\n",
       "      <td>Customer Service Issue</td>\n",
       "      <td>0.6805</td>\n",
       "      <td>Qatar Airways</td>\n",
       "      <td>if you actually cared about what you did it wo...</td>\n",
       "      <td>0</td>\n",
       "      <td>NaN</td>\n",
       "      <td>23/2/2015 13:11</td>\n",
       "      <td>Does it really matter</td>\n",
       "      <td>NaN</td>\n",
       "    </tr>\n",
       "    <tr>\n",
       "      <th>8795</th>\n",
       "      <td>569967469135142914</td>\n",
       "      <td>ElmiraBudMan</td>\n",
       "      <td>negative</td>\n",
       "      <td>1.0000</td>\n",
       "      <td>Late Flight</td>\n",
       "      <td>0.3681</td>\n",
       "      <td>Qatar Airways</td>\n",
       "      <td>you idiots kept an on time plane on the Tarmac...</td>\n",
       "      <td>0</td>\n",
       "      <td>NaN</td>\n",
       "      <td>23/2/2015 13:10</td>\n",
       "      <td>Does it really matter</td>\n",
       "      <td>NaN</td>\n",
       "    </tr>\n",
       "    <tr>\n",
       "      <th>8805</th>\n",
       "      <td>569960904852312064</td>\n",
       "      <td>ElmiraBudMan</td>\n",
       "      <td>negative</td>\n",
       "      <td>1.0000</td>\n",
       "      <td>Customer Service Issue</td>\n",
       "      <td>1.0000</td>\n",
       "      <td>Qatar Airways</td>\n",
       "      <td>just an FYI I'll be writing registered letters...</td>\n",
       "      <td>0</td>\n",
       "      <td>NaN</td>\n",
       "      <td>23/2/2015 12:44</td>\n",
       "      <td>Does it really matter</td>\n",
       "      <td>NaN</td>\n",
       "    </tr>\n",
       "    <tr>\n",
       "      <th>8809</th>\n",
       "      <td>569959975566467072</td>\n",
       "      <td>ElmiraBudMan</td>\n",
       "      <td>negative</td>\n",
       "      <td>1.0000</td>\n",
       "      <td>Customer Service Issue</td>\n",
       "      <td>1.0000</td>\n",
       "      <td>Qatar Airways</td>\n",
       "      <td>I find it funny that responds but you don't. Y...</td>\n",
       "      <td>0</td>\n",
       "      <td>NaN</td>\n",
       "      <td>23/2/2015 12:40</td>\n",
       "      <td>Does it really matter</td>\n",
       "      <td>NaN</td>\n",
       "    </tr>\n",
       "    <tr>\n",
       "      <th>8810</th>\n",
       "      <td>569959415433965569</td>\n",
       "      <td>ElmiraBudMan</td>\n",
       "      <td>negative</td>\n",
       "      <td>0.6702</td>\n",
       "      <td>Flight Attendant Complaints</td>\n",
       "      <td>0.6702</td>\n",
       "      <td>Qatar Airways</td>\n",
       "      <td>I get some bs from a guy at the door says door...</td>\n",
       "      <td>0</td>\n",
       "      <td>NaN</td>\n",
       "      <td>23/2/2015 12:38</td>\n",
       "      <td>Does it really matter</td>\n",
       "      <td>NaN</td>\n",
       "    </tr>\n",
       "    <tr>\n",
       "      <th>9127</th>\n",
       "      <td>569694350831161344</td>\n",
       "      <td>ElmiraBudMan</td>\n",
       "      <td>negative</td>\n",
       "      <td>0.6718</td>\n",
       "      <td>Customer Service Issue</td>\n",
       "      <td>0.6718</td>\n",
       "      <td>Qatar Airways</td>\n",
       "      <td>always nice when a customer service manager th...</td>\n",
       "      <td>0</td>\n",
       "      <td>NaN</td>\n",
       "      <td>22/2/2015 19:04</td>\n",
       "      <td>Does it really matter</td>\n",
       "      <td>NaN</td>\n",
       "    </tr>\n",
       "    <tr>\n",
       "      <th>9138</th>\n",
       "      <td>569686602940858368</td>\n",
       "      <td>ElmiraBudMan</td>\n",
       "      <td>negative</td>\n",
       "      <td>1.0000</td>\n",
       "      <td>Bad Flight</td>\n",
       "      <td>0.6596</td>\n",
       "      <td>Qatar Airways</td>\n",
       "      <td>why the hell did you overbook a plane when you...</td>\n",
       "      <td>0</td>\n",
       "      <td>NaN</td>\n",
       "      <td>22/2/2015 18:34</td>\n",
       "      <td>Does it really matter</td>\n",
       "      <td>NaN</td>\n",
       "    </tr>\n",
       "    <tr>\n",
       "      <th>9150</th>\n",
       "      <td>569682545375354880</td>\n",
       "      <td>ElmiraBudMan</td>\n",
       "      <td>negative</td>\n",
       "      <td>1.0000</td>\n",
       "      <td>Late Flight</td>\n",
       "      <td>0.6632</td>\n",
       "      <td>Qatar Airways</td>\n",
       "      <td>we don't control your stupidity in not having ...</td>\n",
       "      <td>0</td>\n",
       "      <td>NaN</td>\n",
       "      <td>22/2/2015 18:17</td>\n",
       "      <td>Does it really matter</td>\n",
       "      <td>NaN</td>\n",
       "    </tr>\n",
       "    <tr>\n",
       "      <th>9198</th>\n",
       "      <td>569661113593425920</td>\n",
       "      <td>ElmiraBudMan</td>\n",
       "      <td>negative</td>\n",
       "      <td>1.0000</td>\n",
       "      <td>Bad Flight</td>\n",
       "      <td>0.3481</td>\n",
       "      <td>Qatar Airways</td>\n",
       "      <td>how can a plane scheduled to come in on time a...</td>\n",
       "      <td>0</td>\n",
       "      <td>NaN</td>\n",
       "      <td>22/2/2015 16:52</td>\n",
       "      <td>Does it really matter</td>\n",
       "      <td>NaN</td>\n",
       "    </tr>\n",
       "    <tr>\n",
       "      <th>9199</th>\n",
       "      <td>569660306298945537</td>\n",
       "      <td>ElmiraBudMan</td>\n",
       "      <td>negative</td>\n",
       "      <td>1.0000</td>\n",
       "      <td>Can't Tell</td>\n",
       "      <td>1.0000</td>\n",
       "      <td>Qatar Airways</td>\n",
       "      <td>this is the reason I avoid and like the plague...</td>\n",
       "      <td>0</td>\n",
       "      <td>NaN</td>\n",
       "      <td>22/2/2015 16:49</td>\n",
       "      <td>Does it really matter</td>\n",
       "      <td>NaN</td>\n",
       "    </tr>\n",
       "    <tr>\n",
       "      <th>9202</th>\n",
       "      <td>569659137581326336</td>\n",
       "      <td>ElmiraBudMan</td>\n",
       "      <td>negative</td>\n",
       "      <td>1.0000</td>\n",
       "      <td>Flight Attendant Complaints</td>\n",
       "      <td>1.0000</td>\n",
       "      <td>Qatar Airways</td>\n",
       "      <td>hire smarter IT people if your systems keep cr...</td>\n",
       "      <td>0</td>\n",
       "      <td>NaN</td>\n",
       "      <td>22/2/2015 16:44</td>\n",
       "      <td>Does it really matter</td>\n",
       "      <td>NaN</td>\n",
       "    </tr>\n",
       "    <tr>\n",
       "      <th>9204</th>\n",
       "      <td>569658553381883905</td>\n",
       "      <td>ElmiraBudMan</td>\n",
       "      <td>negative</td>\n",
       "      <td>1.0000</td>\n",
       "      <td>Late Flight</td>\n",
       "      <td>0.6775</td>\n",
       "      <td>Qatar Airways</td>\n",
       "      <td>what is wrong with you guys and your inability...</td>\n",
       "      <td>1</td>\n",
       "      <td>NaN</td>\n",
       "      <td>22/2/2015 16:42</td>\n",
       "      <td>Does it really matter</td>\n",
       "      <td>NaN</td>\n",
       "    </tr>\n",
       "    <tr>\n",
       "      <th>9205</th>\n",
       "      <td>569658168097292288</td>\n",
       "      <td>ElmiraBudMan</td>\n",
       "      <td>negative</td>\n",
       "      <td>1.0000</td>\n",
       "      <td>Can't Tell</td>\n",
       "      <td>0.6315</td>\n",
       "      <td>Qatar Airways</td>\n",
       "      <td>you guys have to be the worst. We are flying i...</td>\n",
       "      <td>0</td>\n",
       "      <td>NaN</td>\n",
       "      <td>22/2/2015 16:41</td>\n",
       "      <td>Does it really matter</td>\n",
       "      <td>NaN</td>\n",
       "    </tr>\n",
       "  </tbody>\n",
       "</table>\n",
       "</div>"
      ],
      "text/plain": [
       "               review_id     user_name airline_sentiment  \\\n",
       "8745  569985288992264192  ElmiraBudMan          negative   \n",
       "8769  569972250385862656  ElmiraBudMan          negative   \n",
       "8771  569971542538346496  ElmiraBudMan          negative   \n",
       "8777  569970626057801728  ElmiraBudMan           neutral   \n",
       "8783  569969714245431296  ElmiraBudMan          negative   \n",
       "8791  569968609440563201  ElmiraBudMan          negative   \n",
       "8794  569967808446009345  ElmiraBudMan          negative   \n",
       "8795  569967469135142914  ElmiraBudMan          negative   \n",
       "8805  569960904852312064  ElmiraBudMan          negative   \n",
       "8809  569959975566467072  ElmiraBudMan          negative   \n",
       "8810  569959415433965569  ElmiraBudMan          negative   \n",
       "9127  569694350831161344  ElmiraBudMan          negative   \n",
       "9138  569686602940858368  ElmiraBudMan          negative   \n",
       "9150  569682545375354880  ElmiraBudMan          negative   \n",
       "9198  569661113593425920  ElmiraBudMan          negative   \n",
       "9199  569660306298945537  ElmiraBudMan          negative   \n",
       "9202  569659137581326336  ElmiraBudMan          negative   \n",
       "9204  569658553381883905  ElmiraBudMan          negative   \n",
       "9205  569658168097292288  ElmiraBudMan          negative   \n",
       "\n",
       "      sentiment_confidence              negative_reason  \\\n",
       "8745                1.0000       Customer Service Issue   \n",
       "8769                1.0000                 Lost Luggage   \n",
       "8771                0.6902                   Can't Tell   \n",
       "8777                0.7010                          NaN   \n",
       "8783                1.0000  Flight Attendant Complaints   \n",
       "8791                1.0000             Cancelled Flight   \n",
       "8794                1.0000       Customer Service Issue   \n",
       "8795                1.0000                  Late Flight   \n",
       "8805                1.0000       Customer Service Issue   \n",
       "8809                1.0000       Customer Service Issue   \n",
       "8810                0.6702  Flight Attendant Complaints   \n",
       "9127                0.6718       Customer Service Issue   \n",
       "9138                1.0000                   Bad Flight   \n",
       "9150                1.0000                  Late Flight   \n",
       "9198                1.0000                   Bad Flight   \n",
       "9199                1.0000                   Can't Tell   \n",
       "9202                1.0000  Flight Attendant Complaints   \n",
       "9204                1.0000                  Late Flight   \n",
       "9205                1.0000                   Can't Tell   \n",
       "\n",
       "      negative_reason_confidence   airline_name  \\\n",
       "8745                      0.3561  Qatar Airways   \n",
       "8769                      0.6723  Qatar Airways   \n",
       "8771                      0.6902  Qatar Airways   \n",
       "8777                      0.0000  Qatar Airways   \n",
       "8783                      0.6736  Qatar Airways   \n",
       "8791                      1.0000  Qatar Airways   \n",
       "8794                      0.6805  Qatar Airways   \n",
       "8795                      0.3681  Qatar Airways   \n",
       "8805                      1.0000  Qatar Airways   \n",
       "8809                      1.0000  Qatar Airways   \n",
       "8810                      0.6702  Qatar Airways   \n",
       "9127                      0.6718  Qatar Airways   \n",
       "9138                      0.6596  Qatar Airways   \n",
       "9150                      0.6632  Qatar Airways   \n",
       "9198                      0.3481  Qatar Airways   \n",
       "9199                      1.0000  Qatar Airways   \n",
       "9202                      1.0000  Qatar Airways   \n",
       "9204                      0.6775  Qatar Airways   \n",
       "9205                      0.6315  Qatar Airways   \n",
       "\n",
       "                                            review_text  thumbup_count  \\\n",
       "8745  PLANS CHANGED! IS THAT WHAT U CALL NOT BEIN AB...              0   \n",
       "8769  only happened because u couldn't get us home t...              0   \n",
       "8771  the exhaustion of traveling n runnin thru the ...              0   \n",
       "8777  doesn't take into account the $ it cost rent a...              0   \n",
       "8783  we had a friend there telling the gate attenda...              0   \n",
       "8791  is okay for u Cancelled Flight change a flight...              0   \n",
       "8794  if you actually cared about what you did it wo...              0   \n",
       "8795  you idiots kept an on time plane on the Tarmac...              0   \n",
       "8805  just an FYI I'll be writing registered letters...              0   \n",
       "8809  I find it funny that responds but you don't. Y...              0   \n",
       "8810  I get some bs from a guy at the door says door...              0   \n",
       "9127  always nice when a customer service manager th...              0   \n",
       "9138  why the hell did you overbook a plane when you...              0   \n",
       "9150  we don't control your stupidity in not having ...              0   \n",
       "9198  how can a plane scheduled to come in on time a...              0   \n",
       "9199  this is the reason I avoid and like the plague...              0   \n",
       "9202  hire smarter IT people if your systems keep cr...              0   \n",
       "9204  what is wrong with you guys and your inability...              1   \n",
       "9205  you guys have to be the worst. We are flying i...              0   \n",
       "\n",
       "     review_coordinates review_timestamp            review_city user_timezone  \n",
       "8745                NaN  23/2/2015 14:20  Does it really matter           NaN  \n",
       "8769                NaN  23/2/2015 13:29  Does it really matter           NaN  \n",
       "8771                NaN  23/2/2015 13:26  Does it really matter           NaN  \n",
       "8777                NaN  23/2/2015 13:22  Does it really matter           NaN  \n",
       "8783                NaN  23/2/2015 13:19  Does it really matter           NaN  \n",
       "8791                NaN  23/2/2015 13:14  Does it really matter           NaN  \n",
       "8794                NaN  23/2/2015 13:11  Does it really matter           NaN  \n",
       "8795                NaN  23/2/2015 13:10  Does it really matter           NaN  \n",
       "8805                NaN  23/2/2015 12:44  Does it really matter           NaN  \n",
       "8809                NaN  23/2/2015 12:40  Does it really matter           NaN  \n",
       "8810                NaN  23/2/2015 12:38  Does it really matter           NaN  \n",
       "9127                NaN  22/2/2015 19:04  Does it really matter           NaN  \n",
       "9138                NaN  22/2/2015 18:34  Does it really matter           NaN  \n",
       "9150                NaN  22/2/2015 18:17  Does it really matter           NaN  \n",
       "9198                NaN  22/2/2015 16:52  Does it really matter           NaN  \n",
       "9199                NaN  22/2/2015 16:49  Does it really matter           NaN  \n",
       "9202                NaN  22/2/2015 16:44  Does it really matter           NaN  \n",
       "9204                NaN  22/2/2015 16:42  Does it really matter           NaN  \n",
       "9205                NaN  22/2/2015 16:41  Does it really matter           NaN  "
      ]
     },
     "execution_count": 37,
     "metadata": {},
     "output_type": "execute_result"
    }
   ],
   "source": [
    "train[train['review_city']=='Does it really matter']"
   ]
  },
  {
   "cell_type": "code",
   "execution_count": 38,
   "id": "4b4cc6ca",
   "metadata": {},
   "outputs": [],
   "source": [
    "user_to_city_mapping = train[train['user_timezone'] != ''].groupby('user_name')['user_timezone'].first()\n",
    "\n",
    "# Fill in the empty review_city values using the mapping\n",
    "train['user_timezone'] = train.apply(\n",
    "    lambda row: user_to_city_mapping.get(row['user_name'], row['user_timezone']),\n",
    "    axis=1\n",
    ")\n"
   ]
  },
  {
   "cell_type": "code",
   "execution_count": 39,
   "id": "1532667d",
   "metadata": {
    "scrolled": false
   },
   "outputs": [
    {
     "data": {
      "text/html": [
       "<div>\n",
       "<style scoped>\n",
       "    .dataframe tbody tr th:only-of-type {\n",
       "        vertical-align: middle;\n",
       "    }\n",
       "\n",
       "    .dataframe tbody tr th {\n",
       "        vertical-align: top;\n",
       "    }\n",
       "\n",
       "    .dataframe thead th {\n",
       "        text-align: right;\n",
       "    }\n",
       "</style>\n",
       "<table border=\"1\" class=\"dataframe\">\n",
       "  <thead>\n",
       "    <tr style=\"text-align: right;\">\n",
       "      <th></th>\n",
       "      <th>review_id</th>\n",
       "      <th>user_name</th>\n",
       "      <th>airline_sentiment</th>\n",
       "      <th>sentiment_confidence</th>\n",
       "      <th>negative_reason</th>\n",
       "      <th>negative_reason_confidence</th>\n",
       "      <th>airline_name</th>\n",
       "      <th>review_text</th>\n",
       "      <th>thumbup_count</th>\n",
       "      <th>review_coordinates</th>\n",
       "      <th>review_timestamp</th>\n",
       "      <th>review_city</th>\n",
       "      <th>user_timezone</th>\n",
       "    </tr>\n",
       "  </thead>\n",
       "  <tbody>\n",
       "    <tr>\n",
       "      <th>8336</th>\n",
       "      <td>567776348828360707</td>\n",
       "      <td>somekidnamedjon</td>\n",
       "      <td>positive</td>\n",
       "      <td>0.6485</td>\n",
       "      <td>NaN</td>\n",
       "      <td>NaN</td>\n",
       "      <td>Singapore Airlines</td>\n",
       "      <td>I would love for you to fly my best friend hom...</td>\n",
       "      <td>0</td>\n",
       "      <td>NaN</td>\n",
       "      <td>17/2/2015 12:03</td>\n",
       "      <td>✈️✈️</td>\n",
       "      <td>Eastern Time (US &amp; Canada)</td>\n",
       "    </tr>\n",
       "  </tbody>\n",
       "</table>\n",
       "</div>"
      ],
      "text/plain": [
       "               review_id        user_name airline_sentiment  \\\n",
       "8336  567776348828360707  somekidnamedjon          positive   \n",
       "\n",
       "      sentiment_confidence negative_reason  negative_reason_confidence  \\\n",
       "8336                0.6485             NaN                         NaN   \n",
       "\n",
       "            airline_name                                        review_text  \\\n",
       "8336  Singapore Airlines  I would love for you to fly my best friend hom...   \n",
       "\n",
       "      thumbup_count review_coordinates review_timestamp review_city  \\\n",
       "8336              0                NaN  17/2/2015 12:03        ✈️✈️   \n",
       "\n",
       "                   user_timezone  \n",
       "8336  Eastern Time (US & Canada)  "
      ]
     },
     "execution_count": 39,
     "metadata": {},
     "output_type": "execute_result"
    }
   ],
   "source": [
    "train[train['user_name']==\"somekidnamedjon\"]"
   ]
  },
  {
   "cell_type": "markdown",
   "id": "92bb064f",
   "metadata": {},
   "source": [
    "we need to identify spams and elimination of data that attribute nothing to the sentimente analysis:<br>\n",
    "we found that news and user spams are both included in the database. \n",
    "In the mean time we also don't see much values in the timezone. As user time zone does not impact sentiment of their \n",
    "Therefore, we decide to not include that column too. \n",
    "\n",
    "We would also get ride off the he thumb_up data as it contains a 94% zero value."
   ]
  },
  {
   "cell_type": "markdown",
   "id": "233adbd3",
   "metadata": {},
   "source": [
    "creat a column that is a count of occurance of the user name  "
   ]
  },
  {
   "cell_type": "code",
   "execution_count": 40,
   "id": "65a557b1",
   "metadata": {},
   "outputs": [],
   "source": [
    "train['user_name_count'] = train.groupby('user_name')['user_name'].transform('count')"
   ]
  },
  {
   "cell_type": "code",
   "execution_count": 41,
   "id": "0fe42342",
   "metadata": {},
   "outputs": [
    {
     "data": {
      "image/png": "[encoded data removed]",
      "text/plain": [
       "<Figure size 600x600 with 1 Axes>"
      ]
     },
     "metadata": {},
     "output_type": "display_data"
    }
   ],
   "source": [
    "user_name_count = train['user_name_count'].value_counts()\n",
    "\n",
    "# Create a pie chart\n",
    "plt.figure(figsize=(6, 6))\n",
    "plt.pie(user_name_count, labels=user_name_count.index, autopct='%1.1f%%', startangle=90)\n",
    "plt.title('User Name Count Distribution')\n",
    "plt.show()"
   ]
  },
  {
   "cell_type": "code",
   "execution_count": 42,
   "id": "c85a12fa",
   "metadata": {
    "scrolled": false
   },
   "outputs": [
    {
     "ename": "NameError",
     "evalue": "name 'analyze_report_filtered_data_number' is not defined",
     "output_type": "error",
     "traceback": [
      "\u001b[1;31m---------------------------------------------------------------------------\u001b[0m",
      "\u001b[1;31mNameError\u001b[0m                                 Traceback (most recent call last)",
      "\u001b[1;32m~\\AppData\\Local\\Temp\\ipykernel_23452\\49116157.py\u001b[0m in \u001b[0;36m<module>\u001b[1;34m\u001b[0m\n\u001b[1;32m----> 1\u001b[1;33m \u001b[0manalyze_report_filtered_data_number\u001b[0m\u001b[1;33m.\u001b[0m\u001b[0mshow_html\u001b[0m\u001b[1;33m(\u001b[0m\u001b[1;34m'filtered_data_number.html'\u001b[0m\u001b[1;33m)\u001b[0m\u001b[1;33m\u001b[0m\u001b[1;33m\u001b[0m\u001b[0m\n\u001b[0m",
      "\u001b[1;31mNameError\u001b[0m: name 'analyze_report_filtered_data_number' is not defined"
     ]
    }
   ],
   "source": [
    "analyze_report_filtered_data_number.show_html('filtered_data_number.html')"
   ]
  },
  {
   "cell_type": "markdown",
   "id": "8a948503",
   "metadata": {},
   "source": [
    "I want to see the distribution for airline sentiment where only user name that contained numbers are selected."
   ]
  },
  {
   "cell_type": "code",
   "execution_count": 43,
   "id": "3c9d56c7",
   "metadata": {
    "scrolled": true
   },
   "outputs": [
    {
     "data": {
      "text/plain": [
       "Text(0.5, 1.0, 'Airline Sentiment Distribution')"
      ]
     },
     "execution_count": 43,
     "metadata": {},
     "output_type": "execute_result"
    },
    {
     "data": {
      "image/png": "[encoded data removed]",
      "text/plain": [
       "<Figure size 600x600 with 1 Axes>"
      ]
     },
     "metadata": {},
     "output_type": "display_data"
    }
   ],
   "source": [
    "sentiment_counts=filtered_data_number['airline_sentiment'].value_counts()\n",
    "plt.figure(figsize=(6, 6))\n",
    "plt.pie(sentiment_counts, labels=sentiment_counts.index, autopct='%1.1f%%', startangle=90)\n",
    "plt.title('Airline Sentiment Distribution')"
   ]
  },
  {
   "cell_type": "code",
   "execution_count": 44,
   "id": "47147207",
   "metadata": {},
   "outputs": [],
   "source": [
    "user_name_counts = train['user_name'].value_counts()\n",
    "filtered_df = train[train['user_name'].isin(user_name_counts[user_name_counts<6].index)]"
   ]
  },
  {
   "cell_type": "code",
   "execution_count": 46,
   "id": "5bdddc6a",
   "metadata": {
    "scrolled": true
   },
   "outputs": [
    {
     "data": {
      "application/vnd.jupyter.widget-view+json": {
       "model_id": "b33fc3207e9844838cfe356b6c97cbe6",
       "version_major": 2,
       "version_minor": 0
      },
      "text/plain": [
       "                                             |                                             | [  0%]   00:00 ->…"
      ]
     },
     "metadata": {},
     "output_type": "display_data"
    }
   ],
   "source": [
    "analyze_report_filtered_over6 = sv.analyze(filtered_df)"
   ]
  },
  {
   "cell_type": "code",
   "execution_count": 48,
   "id": "d0215f88",
   "metadata": {},
   "outputs": [
    {
     "name": "stdout",
     "output_type": "stream",
     "text": [
      "Report analyze_report_filtered_under6.html was generated! NOTEBOOK/COLAB USERS: the web browser MAY not pop up, regardless, the report IS saved in your notebook/colab files.\n"
     ]
    }
   ],
   "source": [
    "analyze_report_filtered_over6.show_html('analyze_report_filtered_under6.html')"
   ]
  },
  {
   "cell_type": "code",
   "execution_count": 49,
   "id": "a1c15705",
   "metadata": {},
   "outputs": [
    {
     "name": "stdout",
     "output_type": "stream",
     "text": [
      "Number of rows where both 'review_timestamp' and 'review_city' are blank: 2499\n"
     ]
    }
   ],
   "source": [
    "count_blank = len(train[(train['user_timezone'].isna() | train['user_timezone'].eq('')) & (train['review_city'].isna() | train['review_city'].eq(''))])\n",
    "\n",
    "print(\"Number of rows where both 'review_timestamp' and 'review_city' are blank:\", count_blank)"
   ]
  },
  {
   "cell_type": "code",
   "execution_count": 51,
   "id": "d7065e89",
   "metadata": {
    "scrolled": true
   },
   "outputs": [
    {
     "name": "stdout",
     "output_type": "stream",
     "text": [
      "Number of rows where 'user_timezone', 'review_city', and 'review_coordinates' are blank: 2499\n"
     ]
    }
   ],
   "source": [
    "count_blank2 = len(train[\n",
    "    (train['user_timezone'].isna() | train['user_timezone'].eq('')) &\n",
    "    (train['review_city'].isna() | train['review_city'].eq('')) &\n",
    "    (train['review_coordinates'].isna() | train['review_coordinates'].eq(''))\n",
    "])\n",
    "\n",
    "print(\"Number of rows where 'user_timezone', 'review_city', and 'review_coordinates' are blank:\", count_blank)\n"
   ]
  },
  {
   "cell_type": "code",
   "execution_count": 52,
   "id": "ec49e38f",
   "metadata": {
    "scrolled": true
   },
   "outputs": [
    {
     "name": "stdout",
     "output_type": "stream",
     "text": [
      "0\n"
     ]
    }
   ],
   "source": [
    "debug_selection = len(train[(train['negative_reason_confidence'].isna()) & (train['airline_sentiment'] == 'negative')])\n",
    "print(debug_selection)"
   ]
  },
  {
   "cell_type": "code",
   "execution_count": 53,
   "id": "6fd23fb1",
   "metadata": {},
   "outputs": [
    {
     "name": "stdout",
     "output_type": "stream",
     "text": [
      "Report report.html was generated! NOTEBOOK/COLAB USERS: the web browser MAY not pop up, regardless, the report IS saved in your notebook/colab files.\n"
     ]
    }
   ],
   "source": [
    "analyze_report.show_html('report.html')"
   ]
  },
  {
   "cell_type": "markdown",
   "id": "acf4de12",
   "metadata": {},
   "source": [
    "From the above EDA extracts we can see: <br>\n",
    "1. The airline sentiment are separated into 3 different kinds with 63% in negative, 21% in neural, and 16% in positive.<br>\n",
    "2. There are 10 negative reasons, and the top 1 accounts for 32% being: Customer service Issue.<br>\n",
    "3. We can see the data is collected from 6 different airline companies, with the top 3 being Emirate (26%), Qatar Airways(20%), and Qantas (19%)<br>\n",
    "\n",
    "<br>\n",
    "The data is suffering from missing data:<br>\n",
    "\n",
    "1. 92.24% of review coordinates are missing, we this varible is going to cause collinearity issue with review city and we decide to keep review city. <br>\n",
    "\n",
    "2. Contrary to our believe,review city and user time zone do not share all its missing rows. Only 2499 rows are missing for both review city and review time_zone. The inclusion of review coordinate can bring this down to 2418.<br>\n",
    "\n",
    "3. The missing values of negative_reason is caused by the airline_sentiment not being negative. we are going to create a new column called reivew and backfill \" positive\" or \"neural\" for the missing values.\n"
   ]
  },
  {
   "cell_type": "markdown",
   "id": "01354da8",
   "metadata": {},
   "source": [
    "Due to the frequent apperance of unformted and incorrect entries, we are unable to use review city and decide to remove that one.\n",
    "Due to the huge amount of missing data for the review coordianate. we decide to remove this column too."
   ]
  },
  {
   "cell_type": "markdown",
   "id": "67fff02f",
   "metadata": {},
   "source": [
    "## Feature Engineering "
   ]
  },
  {
   "cell_type": "code",
   "execution_count": 54,
   "id": "1d4de591",
   "metadata": {},
   "outputs": [],
   "source": [
    "train['review'] = train.apply(lambda row: row['negative_reason'] if not pd.isna(row['negative_reason']) and row['negative_reason'] != '' else row['airline_sentiment'], axis=1)"
   ]
  },
  {
   "cell_type": "markdown",
   "id": "833965b9",
   "metadata": {},
   "source": [
    "Create a new columon the review column. "
   ]
  },
  {
   "cell_type": "code",
   "execution_count": 55,
   "id": "f37725ad",
   "metadata": {},
   "outputs": [],
   "source": [
    "filtered_data = train[train['user_timezone'].isna() & ~train['review_city'].isna()]"
   ]
  },
  {
   "cell_type": "code",
   "execution_count": null,
   "id": "70830b56",
   "metadata": {
    "scrolled": false
   },
   "outputs": [],
   "source": [
    "# preprocessing data\n",
    "from sklearn.preprocessing import LabelEncoder\n",
    "\n",
    "le = LabelEncoder() \n",
    "target = le.fit_transform(train['airline_sentiment']) # convert target into integers\n",
    "train['airline_sentiment'] = target\n",
    "print(le.classes_) # this shows which index maps to which class\n"
   ]
  },
  {
   "cell_type": "code",
   "execution_count": null,
   "id": "7d66306f",
   "metadata": {
    "scrolled": true
   },
   "outputs": [],
   "source": [
    "np.random.seed(511365)\n",
    "\n",
    "index = list(range(train.shape[0])) # an list of indices\n",
    "np.random.shuffle(index) # shuffle the index in-place\n",
    "\n",
    "p_val = 0.2\n",
    "p_test = 0.2\n",
    "N_test = int(train.shape[0] * p_test)\n",
    "N_val = int(train.shape[0] * p_val)\n",
    "\n",
    "\n",
    "# get training, val and test sets\n",
    "test_data = train.iloc[ index[:N_test] ,:]\n",
    "val_data = train.iloc[ index[N_test: (N_test+N_val)], :]\n",
    "train_data = train.iloc[ index[(N_test+N_val):], :]\n",
    "\n",
    "print(test_data.shape)\n",
    "print(val_data.shape)\n",
    "print(train_data.shape)"
   ]
  },
  {
   "cell_type": "code",
   "execution_count": null,
   "id": "215f18c6",
   "metadata": {},
   "outputs": [],
   "source": [
    "# define our own torch dataset\n",
    "# for a torch dataset, we need to define two functions: \n",
    "#     __len__: return the length of dataset\n",
    "#     __getitem__: given a index (integer), return the corresponding sample, both y and X\n",
    "\n",
    "class SpamDataset(utils.data.Dataset):\n",
    "    def __init__(self, myData):\n",
    "        \"\"\"\n",
    "        myData should be a dataframe object containing both y (first col) and X (second col)\n",
    "        \"\"\"\n",
    "        super().__init__()\n",
    "        self.data = myData\n",
    "        \n",
    "    def __len__(self):\n",
    "        return len(self.data)\n",
    "    \n",
    "    def __getitem__(self, idx):\n",
    "        \n",
    "        return (self.data.iloc[idx,2], self.data.iloc[idx,7]) # (target, text)"
   ]
  },
  {
   "cell_type": "code",
   "execution_count": null,
   "id": "6d9af68b",
   "metadata": {},
   "outputs": [],
   "source": [
    "# now we can build our torch dataset \n",
    "train_torch = SpamDataset(train_data)\n",
    "val_torch = SpamDataset(val_data)\n",
    "test_torch = SpamDataset(test_data)"
   ]
  },
  {
   "cell_type": "code",
   "execution_count": null,
   "id": "44be9801",
   "metadata": {},
   "outputs": [],
   "source": [
    "# check\n",
    "train_torch.__getitem__(3)"
   ]
  },
  {
   "cell_type": "code",
   "execution_count": null,
   "id": "985e22ae",
   "metadata": {},
   "outputs": [],
   "source": [
    "tokenizer = get_tokenizer('basic_english')"
   ]
  },
  {
   "cell_type": "code",
   "execution_count": null,
   "id": "21585bc0",
   "metadata": {},
   "outputs": [],
   "source": [
    "from torchtext.vocab import build_vocab_from_iterator\n",
    "\n",
    "# ===== Build vocabulary =====\n",
    "# an unknown token is added for all unknown words outside the documents\n",
    "# you may specify the min_freq to filter out infrequent words\n",
    "vocabulary = build_vocab_from_iterator(\n",
    "    [tokenizer(msg) for msg in train['review_text']],\n",
    "    specials=[\"<unk>\"],\n",
    "    min_freq = 3, # filter out all words that appear less than three times\n",
    ")\n",
    "# Set to avoid errors with unknown words\n",
    "vocabulary.set_default_index(vocabulary[\"<unk>\"])"
   ]
  },
  {
   "cell_type": "code",
   "execution_count": null,
   "id": "45925a7d",
   "metadata": {},
   "outputs": [],
   "source": [
    "len(vocabulary)"
   ]
  },
  {
   "cell_type": "code",
   "execution_count": null,
   "id": "4d57a1aa",
   "metadata": {},
   "outputs": [],
   "source": [
    "# The vocab object maps a word to an idx (an integer)\n",
    "print(vocabulary['better'])\n",
    "print(vocabulary['sun'])\n",
    "print(vocabulary['iertuei']) # something not in vocab will be mapped to default_index = 0"
   ]
  },
  {
   "cell_type": "code",
   "execution_count": null,
   "id": "a7da99fd",
   "metadata": {},
   "outputs": [],
   "source": [
    "# define a function that converts a document into tokens (represented by index)\n",
    "def doc_tokenizer(doc):\n",
    "    return torch.tensor([vocabulary[token] for token in tokenizer(doc)], dtype=torch.long)"
   ]
  },
  {
   "cell_type": "code",
   "execution_count": null,
   "id": "97824392",
   "metadata": {},
   "outputs": [],
   "source": [
    "# ========= Step 2 ==============\n",
    "# Notice in a corpus, each document can have different size. Thus, we usually pad zeros to the maximum length of document.\n",
    "# Alternatively, you can concat all documents into a long vector \n",
    "# and the starting index of each document is identified in the variable called offsets.\n",
    "\n",
    "def collate_batch(batch):\n",
    "    \n",
    "    target_list, text_list, offsets = [], [], [0] # initalize the first offset to be 0 here\n",
    "        \n",
    "    # loop through all samples in batch\n",
    "    for idx in range(len(batch)):\n",
    "        \n",
    "        _label = batch[idx][0]\n",
    "        _text = batch[idx][1]\n",
    "        \n",
    "        target_list.append( _label )\n",
    "        tokens = doc_tokenizer( _text )\n",
    "        text_list.append(tokens)\n",
    "        \n",
    "        # ====== wrong ======\n",
    "        #if idx == 0:\n",
    "        #    offsets.append(0)  # the first document starts from idx 0\n",
    "        #else:\n",
    "        #    offsets.append(offsets[-1] + tokens.size(0)) # the next document starts from (offsets[-1] + tokens.size(0))\n",
    "        # ===================\n",
    "        \n",
    "        offsets.append(offsets[-1] + tokens.size(0))\n",
    "    \n",
    "    offsets = offsets[:-1] # remove the last entry\n",
    "    \n",
    "    # convert to torch tensor\n",
    "    target_list = torch.tensor(target_list, dtype=torch.int64)\n",
    "    offsets = torch.tensor(offsets)\n",
    "    text_list = torch.cat(text_list) # concat into a long vector\n",
    "    \n",
    "    return target_list, text_list, offsets"
   ]
  },
  {
   "cell_type": "code",
   "execution_count": null,
   "id": "27c7bfb8",
   "metadata": {},
   "outputs": [],
   "source": [
    "torch.manual_seed(0)\n",
    "\n",
    "batchSize = 8\n",
    "train_loader = utils.data.DataLoader(train_torch, batch_size=batchSize, shuffle=True, collate_fn=collate_batch)\n",
    "val_loader = utils.data.DataLoader(val_torch, batch_size=batchSize, shuffle=True, collate_fn=collate_batch)\n",
    "test_loader = utils.data.DataLoader(test_torch, batch_size=batchSize, shuffle=False, collate_fn=collate_batch)"
   ]
  },
  {
   "cell_type": "code",
   "execution_count": null,
   "id": "dafc74a4",
   "metadata": {},
   "outputs": [],
   "source": [
    "list(train_loader)[0]"
   ]
  },
  {
   "cell_type": "markdown",
   "id": "3513cfbb",
   "metadata": {},
   "source": [
    "Model building"
   ]
  },
  {
   "cell_type": "code",
   "execution_count": null,
   "id": "a9eb8dd0",
   "metadata": {},
   "outputs": [],
   "source": [
    "# ====== Step 1 ========= \n",
    "class SpamClassifier(nn.Module):\n",
    "    def __init__(self, vocab_size, embed_dim):\n",
    "        super().__init__()\n",
    "        self.embedding = nn.EmbeddingBag(vocab_size, embed_dim, mode='mean') # embedding layer\n",
    "        self.Linear1 = nn.Linear(embed_dim, 1)\n",
    "        self.Dropout = nn.Dropout(p=0.1)\n",
    "    \n",
    "    def forward(self, text, offsets):\n",
    "        # note we need offsets to indicate which document we have\n",
    "        out = self.embedding(text, offsets)\n",
    "        out = self.Dropout(out)\n",
    "        out = self.Linear1(out)\n",
    "        return out\n",
    "        # for the last layer, we don't apply activation because we can use BCEWithLogitsLoss to combine sigmoid with BCELoss\n",
    "        \n",
    "# model initalization\n",
    "embed_dim = 8\n",
    "model = SpamClassifier(len(vocabulary), embed_dim)"
   ]
  },
  {
   "cell_type": "code",
   "execution_count": null,
   "id": "809f7879",
   "metadata": {},
   "outputs": [],
   "source": [
    "# ======= Step 2 ==========\n",
    "loss_fn = torch.nn.BCEWithLogitsLoss()\n",
    "optimizer = torch.optim.Adam(model.parameters(), lr=0.005)"
   ]
  },
  {
   "cell_type": "code",
   "execution_count": null,
   "id": "2522214d",
   "metadata": {},
   "outputs": [],
   "source": [
    "def evaluate(dataloader):\n",
    "    \n",
    "    y_pred = torch.tensor([]) # store prediction\n",
    "    y_true = torch.tensor([]) # store true label\n",
    "    \n",
    "    model.eval()\n",
    "    with torch.no_grad():\n",
    "        for label, text, offsets in dataloader:\n",
    "            y_pred_batch = model(text, offsets)\n",
    "            \n",
    "            y_pred = torch.cat((y_pred, y_pred_batch.squeeze()))\n",
    "            y_true = torch.cat((y_true, label.squeeze()))\n",
    "            \n",
    "    return y_pred, y_true"
   ]
  },
  {
   "cell_type": "code",
   "execution_count": null,
   "id": "a616c7ca",
   "metadata": {
    "scrolled": true
   },
   "outputs": [],
   "source": [
    "# ======== Step 3 ==============\n",
    "epochs = 300\n",
    "for epoch in range(epochs):\n",
    "    \n",
    "    for y_train, text, offsets in train_loader:\n",
    "        # zero the parameter gradients\n",
    "        optimizer.zero_grad()\n",
    "\n",
    "        # calulate output and loss \n",
    "        y_pred_train = model(text, offsets)\n",
    "        loss = loss_fn(y_pred_train.squeeze(), y_train.float())\n",
    "\n",
    "        # backprop and take a step\n",
    "        loss.backward()\n",
    "        optimizer.step()\n",
    "    \n",
    "    # evaluate on validation set\n",
    "    y_pred_val, y_val = evaluate(val_loader)\n",
    "    loss_val = loss_fn(y_pred_val.squeeze(), y_val.float())\n",
    "    \n",
    "    # note when making prediction, do add sigmoid activation\n",
    "    pred_label = (torch.sigmoid(y_pred_val) > 0.5).long() # find out the class prediction\n",
    "    acc = (pred_label == y_val).float().sum()/y_val.shape[0]\n",
    "    \n",
    "    model.train() # because when evaluating we change mode to eval mode\n",
    "    \n",
    "    print('Epoch {}: {:.4f} (train), {:.4f} (val), {:.4f} (val acc)'.format(epoch, loss, loss_val, acc))"
   ]
  },
  {
   "cell_type": "code",
   "execution_count": null,
   "id": "e097d95a",
   "metadata": {},
   "outputs": [],
   "source": [
    "# prediction on test data\n",
    "y_pred_test, y_true_test = evaluate(test_loader)\n",
    "y_pred_test = torch.sigmoid(y_pred_test) > 0.5\n",
    "\n",
    "print(confusion_matrix(y_true_test, y_pred_test))\n",
    "print(classification_report(y_true_test, y_pred_test))"
   ]
  }
 ],
 "metadata": {
  "kernelspec": {
   "display_name": "Python 3 (ipykernel)",
   "language": "python",
   "name": "python3"
  },
  "language_info": {
   "codemirror_mode": {
    "name": "ipython",
    "version": 3
   },
   "file_extension": ".py",
   "mimetype": "text/x-python",
   "name": "python",
   "nbconvert_exporter": "python",
   "pygments_lexer": "ipython3",
   "version": "3.9.13"
  },
  "toc": {
   "base_numbering": 1,
   "nav_menu": {},
   "number_sections": true,
   "sideBar": true,
   "skip_h1_title": false,
   "title_cell": "Table of Contents",
   "title_sidebar": "Contents",
   "toc_cell": false,
   "toc_position": {},
   "toc_section_display": true,
   "toc_window_display": false
  },
  "varInspector": {
   "cols": {
    "lenName": 16,
    "lenType": 16,
    "lenVar": 40
   },
   "kernels_config": {
    "python": {
     "delete_cmd_postfix": "",
     "delete_cmd_prefix": "del ",
     "library": "var_list.py",
     "varRefreshCmd": "print(var_dic_list())"
    },
    "r": {
     "delete_cmd_postfix": ") ",
     "delete_cmd_prefix": "rm(",
     "library": "var_list.r",
     "varRefreshCmd": "cat(var_dic_list()) "
    }
   },
   "types_to_exclude": [
    "module",
    "function",
    "builtin_function_or_method",
    "instance",
    "_Feature"
   ],
   "window_display": false
  }
 },
 "nbformat": 4,
 "nbformat_minor": 5
}
