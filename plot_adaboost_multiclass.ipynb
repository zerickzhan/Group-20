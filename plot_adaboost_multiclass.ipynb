{
 "cells": [
  {
   "cell_type": "markdown",
   "metadata": {},
   "source": [
    "\n",
    "# Multi-class AdaBoosted Decision Trees\n",
    "\n",
    "This example shows how boosting can improve the prediction accuracy on a\n",
    "multi-label classification problem. It reproduces a similar experiment as\n",
    "depicted by Figure 1 in Zhu et al [1]_.\n",
    "\n",
    "The core principle of AdaBoost (Adaptive Boosting) is to fit a sequence of weak\n",
    "learners (e.g. Decision Trees) on repeatedly re-sampled versions of the data.\n",
    "Each sample carries a weight that is adjusted after each training step, such\n",
    "that misclassified samples will be assigned higher weights. The re-sampling\n",
    "process with replacement takes into account the weights assigned to each sample.\n",
    "Samples with higher weights have a greater chance of being selected multiple\n",
    "times in the new data set, while samples with lower weights are less likely to\n",
    "be selected. This ensures that subsequent iterations of the algorithm focus on\n",
    "the difficult-to-classify samples.\n",
    "\n",
    ".. topic:: References:\n",
    "\n",
    "    .. [1] :doi:`J. Zhu, H. Zou, S. Rosset, T. Hastie, \"Multi-class adaboost.\"\n",
    "           Statistics and its Interface 2.3 (2009): 349-360.\n",
    "           <10.4310/SII.2009.v2.n3.a8>`\n"
   ]
  },
  {
   "cell_type": "code",
   "execution_count": null,
   "metadata": {},
   "outputs": [],
   "source": [
    "# Noel Dawe <noel.dawe@gmail.com>\n",
    "# License: BSD 3 clause"
   ]
  },
  {
   "cell_type": "markdown",
   "metadata": {},
   "source": [
    "## Creating the dataset\n",
    "The classification dataset is constructed by taking a ten-dimensional standard\n",
    "normal distribution ($x$ in $R^{10}$) and defining three classes\n",
    "separated by nested concentric ten-dimensional spheres such that roughly equal\n",
    "numbers of samples are in each class (quantiles of the $\\chi^2$\n",
    "distribution).\n",
    "\n"
   ]
  },
  {
   "cell_type": "code",
   "execution_count": 1,
   "metadata": {},
   "outputs": [],
   "source": [
    "from sklearn.datasets import make_gaussian_quantiles\n",
    "\n",
    "X, y = make_gaussian_quantiles(\n",
    "    n_samples=2_000, n_features=10, n_classes=3, random_state=1\n",
    ")"
   ]
  },
  {
   "cell_type": "markdown",
   "metadata": {},
   "source": [
    "We split the dataset into 2 sets: 70 percent of the samples are used for\n",
    "training and the remaining 30 percent for testing.\n",
    "\n"
   ]
  },
  {
   "cell_type": "code",
   "execution_count": 5,
   "metadata": {},
   "outputs": [],
   "source": [
    "from sklearn.model_selection import train_test_split\n",
    "\n",
    "X_train, X_test, y_train, y_test = train_test_split(\n",
    "    X, y, train_size=0.7, random_state=42\n",
    ")"
   ]
  },
  {
   "cell_type": "code",
   "execution_count": 6,
   "metadata": {},
   "outputs": [
    {
     "data": {
      "text/plain": [
       "array([[-0.42650074, -0.67166043,  0.26750072, ..., -1.33414131,\n",
       "        -0.67851637,  0.33394211],\n",
       "       [ 0.54076075,  0.72066164, -0.01712562, ...,  0.0682001 ,\n",
       "         0.02082061,  0.96510566],\n",
       "       [ 0.82295867, -1.71413436, -1.63537111, ..., -1.10775776,\n",
       "         0.11311018,  1.58437465],\n",
       "       ...,\n",
       "       [-0.76562032, -0.70737502, -0.05542384, ..., -1.75734426,\n",
       "        -0.28390997, -0.87580227],\n",
       "       [ 0.08926123,  1.32506489,  1.23245163, ...,  1.08925325,\n",
       "         1.30359237, -0.26732958],\n",
       "       [ 0.05473776,  2.09136277, -0.31871065, ..., -0.87414336,\n",
       "         0.19385828, -0.52175027]])"
      ]
     },
     "execution_count": 6,
     "metadata": {},
     "output_type": "execute_result"
    }
   ],
   "source": [
    "X_train"
   ]
  },
  {
   "cell_type": "markdown",
   "metadata": {},
   "source": [
    "## Training the `AdaBoostClassifier`\n",
    "We train the :class:`~sklearn.ensemble.AdaBoostClassifier`. The estimator\n",
    "utilizes boosting to improve the classification accuracy. Boosting is a method\n",
    "designed to train weak learners (i.e. `base_estimator`) that learn from their\n",
    "predecessor's mistakes.\n",
    "\n",
    "Here, we define the weak learner as a\n",
    ":class:`~sklearn.tree.DecisionTreeClassifier` and set the maximum number of\n",
    "leaves to 8. In a real setting, this parameter should be tuned. We set it to a\n",
    "rather low value to limit the runtime of the example.\n",
    "\n",
    "The `SAMME` algorithm build into the\n",
    ":class:`~sklearn.ensemble.AdaBoostClassifier` then uses the correct or\n",
    "incorrect predictions made be the current weak learner to update the sample\n",
    "weights used for training the consecutive weak learners. Also, the weight of\n",
    "the weak learner itself is calculated based on its accuracy in classifying the\n",
    "training examples. The weight of the weak learner determines its influence on\n",
    "the final ensemble prediction.\n",
    "\n"
   ]
  },
  {
   "cell_type": "code",
   "execution_count": null,
   "metadata": {},
   "outputs": [],
   "source": [
    "from sklearn.ensemble import AdaBoostClassifier\n",
    "from sklearn.tree import DecisionTreeClassifier\n",
    "\n",
    "weak_learner = DecisionTreeClassifier(max_leaf_nodes=8)\n",
    "n_estimators = 300\n",
    "\n",
    "adaboost_clf = AdaBoostClassifier(\n",
    "    estimator=weak_learner,\n",
    "    n_estimators=n_estimators,\n",
    "    algorithm=\"SAMME\",\n",
    "    random_state=42,\n",
    ").fit(X_train, y_train)"
   ]
  },
  {
   "cell_type": "markdown",
   "metadata": {},
   "source": [
    "## Analysis\n",
    "Convergence of the `AdaBoostClassifier`\n",
    "***************************************\n",
    "To demonstrate the effectiveness of boosting in improving accuracy, we\n",
    "evaluate the misclassification error of the boosted trees in comparison to two\n",
    "baseline scores. The first baseline score is the `misclassification_error`\n",
    "obtained from a single weak-learner (i.e.\n",
    ":class:`~sklearn.tree.DecisionTreeClassifier`), which serves as a reference\n",
    "point. The second baseline score is obtained from the\n",
    ":class:`~sklearn.dummy.DummyClassifier`, which predicts the most prevalent\n",
    "class in a dataset.\n",
    "\n"
   ]
  },
  {
   "cell_type": "code",
   "execution_count": null,
   "metadata": {},
   "outputs": [],
   "source": [
    "from sklearn.dummy import DummyClassifier\n",
    "from sklearn.metrics import accuracy_score\n",
    "\n",
    "dummy_clf = DummyClassifier()\n",
    "\n",
    "\n",
    "def misclassification_error(y_true, y_pred):\n",
    "    return 1 - accuracy_score(y_true, y_pred)\n",
    "\n",
    "\n",
    "weak_learners_misclassification_error = misclassification_error(\n",
    "    y_test, weak_learner.fit(X_train, y_train).predict(X_test)\n",
    ")\n",
    "\n",
    "dummy_classifiers_misclassification_error = misclassification_error(\n",
    "    y_test, dummy_clf.fit(X_train, y_train).predict(X_test)\n",
    ")\n",
    "\n",
    "print(\n",
    "    \"DecisionTreeClassifier's misclassification_error: \"\n",
    "    f\"{weak_learners_misclassification_error:.3f}\"\n",
    ")\n",
    "print(\n",
    "    \"DummyClassifier's misclassification_error: \"\n",
    "    f\"{dummy_classifiers_misclassification_error:.3f}\"\n",
    ")"
   ]
  },
  {
   "cell_type": "markdown",
   "metadata": {},
   "source": [
    "After training the :class:`~sklearn.tree.DecisionTreeClassifier` model, the\n",
    "achieved error surpasses the expected value that would have been obtained by\n",
    "guessing the most frequent class label, as the\n",
    ":class:`~sklearn.dummy.DummyClassifier` does.\n",
    "\n",
    "Now, we calculate the `misclassification_error`, i.e. `1 - accuracy`, of the\n",
    "additive model (:class:`~sklearn.tree.DecisionTreeClassifier`) at each\n",
    "boosting iteration on the test set to assess its performance.\n",
    "\n",
    "We use :meth:`~sklearn.ensemble.AdaBoostClassifier.staged_predict` that makes\n",
    "as many iterations as the number of fitted estimator (i.e. corresponding to\n",
    "`n_estimators`). At iteration `n`, the predictions of AdaBoost only use the\n",
    "`n` first weak learners. We compare these predictions with the true\n",
    "predictions `y_test` and we, therefore, conclude on the benefit (or not) of adding a\n",
    "new weak learner into the chain.\n",
    "\n",
    "We plot the misclassification error for the different stages:\n",
    "\n"
   ]
  },
  {
   "cell_type": "code",
   "execution_count": null,
   "metadata": {},
   "outputs": [],
   "source": [
    "import matplotlib.pyplot as plt\n",
    "import pandas as pd\n",
    "\n",
    "boosting_errors = pd.DataFrame(\n",
    "    {\n",
    "        \"Number of trees\": range(1, n_estimators + 1),\n",
    "        \"AdaBoost\": [\n",
    "            misclassification_error(y_test, y_pred)\n",
    "            for y_pred in adaboost_clf.staged_predict(X_test)\n",
    "        ],\n",
    "    }\n",
    ").set_index(\"Number of trees\")\n",
    "ax = boosting_errors.plot()\n",
    "ax.set_ylabel(\"Misclassification error on test set\")\n",
    "ax.set_title(\"Convergence of AdaBoost algorithm\")\n",
    "\n",
    "plt.plot(\n",
    "    [boosting_errors.index.min(), boosting_errors.index.max()],\n",
    "    [weak_learners_misclassification_error, weak_learners_misclassification_error],\n",
    "    color=\"tab:orange\",\n",
    "    linestyle=\"dashed\",\n",
    ")\n",
    "plt.plot(\n",
    "    [boosting_errors.index.min(), boosting_errors.index.max()],\n",
    "    [\n",
    "        dummy_classifiers_misclassification_error,\n",
    "        dummy_classifiers_misclassification_error,\n",
    "    ],\n",
    "    color=\"c\",\n",
    "    linestyle=\"dotted\",\n",
    ")\n",
    "plt.legend([\"AdaBoost\", \"DecisionTreeClassifier\", \"DummyClassifier\"], loc=1)\n",
    "plt.show()"
   ]
  },
  {
   "cell_type": "markdown",
   "metadata": {},
   "source": [
    "The plot shows the missclassification error on the test set after each\n",
    "boosting iteration. We see that the error of the boosted trees converges to an\n",
    "error of around 0.3 after 50 iterations, indicating a significantly higher\n",
    "accuracy compared to a single tree, as illustrated by the dashed line in the\n",
    "plot.\n",
    "\n",
    "The misclassification error jitters because the `SAMME` algorithm uses the\n",
    "discrete outputs of the weak learners to train the boosted model.\n",
    "\n",
    "The convergence of :class:`~sklearn.ensemble.AdaBoostClassifier` is mainly\n",
    "influenced by the learning rate (i.e `learning_rate`), the number of weak\n",
    "learners used (`n_estimators`), and the expressivity of the weak learners\n",
    "(e.g. `max_leaf_nodes`).\n",
    "\n"
   ]
  },
  {
   "cell_type": "markdown",
   "metadata": {},
   "source": [
    "### Errors and weights of the Weak Learners\n",
    "As previously mentioned, AdaBoost is a forward stagewise additive model. We\n",
    "now focus on understanding the relationship between the attributed weights of\n",
    "the weak learners and their statistical performance.\n",
    "\n",
    "We use the fitted :class:`~sklearn.ensemble.AdaBoostClassifier`'s attributes\n",
    "`estimator_errors_` and `estimator_weights_` to investigate this link.\n",
    "\n"
   ]
  },
  {
   "cell_type": "code",
   "execution_count": null,
   "metadata": {},
   "outputs": [],
   "source": [
    "weak_learners_info = pd.DataFrame(\n",
    "    {\n",
    "        \"Number of trees\": range(1, n_estimators + 1),\n",
    "        \"Errors\": adaboost_clf.estimator_errors_,\n",
    "        \"Weights\": adaboost_clf.estimator_weights_,\n",
    "    }\n",
    ").set_index(\"Number of trees\")\n",
    "\n",
    "axs = weak_learners_info.plot(\n",
    "    subplots=True, layout=(1, 2), figsize=(10, 4), legend=False, color=\"tab:blue\"\n",
    ")\n",
    "axs[0, 0].set_ylabel(\"Train error\")\n",
    "axs[0, 0].set_title(\"Weak learner's training error\")\n",
    "axs[0, 1].set_ylabel(\"Weight\")\n",
    "axs[0, 1].set_title(\"Weak learner's weight\")\n",
    "fig = axs[0, 0].get_figure()\n",
    "fig.suptitle(\"Weak learner's errors and weights for the AdaBoostClassifier\")\n",
    "fig.tight_layout()"
   ]
  },
  {
   "cell_type": "markdown",
   "metadata": {},
   "source": [
    "On the left plot, we show the weighted error of each weak learner on the\n",
    "reweighted training set at each boosting iteration. On the right plot, we show\n",
    "the weights associated with each weak learner later used to make the\n",
    "predictions of the final additive model.\n",
    "\n",
    "We see that the error of the weak learner is the inverse of the weights. It\n",
    "means that our additive model will trust more a weak learner that makes\n",
    "smaller errors (on the training set) by increasing its impact on the final\n",
    "decision. Indeed, this exactly is the formulation of updating the base\n",
    "estimators' weights after each iteration in AdaBoost.\n",
    "\n",
    "|details-start| Mathematical details |details-split|\n",
    "\n",
    "The weight associated with a weak learner trained at the stage $m$ is\n",
    "inversely associated with its misclassification error such that:\n",
    "\n",
    "\\begin{align}\\alpha^{(m)} = \\log \\frac{1 - err^{(m)}}{err^{(m)}} + \\log (K - 1),\\end{align}\n",
    "\n",
    "where $\\alpha^{(m)}$ and $err^{(m)}$ are the weight and the error\n",
    "of the $m$ th weak learner, respectively, and $K$ is the number of\n",
    "classes in our classification problem. |details-end|\n",
    "\n",
    "Another interesting observation boils down to the fact that the first weak\n",
    "learners of the model make fewer errors than later weak learners of the\n",
    "boosting chain.\n",
    "\n",
    "The intuition behind this observation is the following: due to the sample\n",
    "reweighting, later classifiers are forced to try to classify more difficult or\n",
    "noisy samples and to ignore already well classified samples. Therefore, the\n",
    "overall error on the training set will increase. That's why the weak learner's\n",
    "weights are built to counter-balance the worse performing weak learners.\n",
    "\n"
   ]
  }
 ],
 "metadata": {
  "kernelspec": {
   "display_name": "Python 3 (ipykernel)",
   "language": "python",
   "name": "python3"
  },
  "language_info": {
   "codemirror_mode": {
    "name": "ipython",
    "version": 3
   },
   "file_extension": ".py",
   "mimetype": "text/x-python",
   "name": "python",
   "nbconvert_exporter": "python",
   "pygments_lexer": "ipython3",
   "version": "3.9.13"
  },
  "toc": {
   "base_numbering": 1,
   "nav_menu": {},
   "number_sections": true,
   "sideBar": true,
   "skip_h1_title": false,
   "title_cell": "Table of Contents",
   "title_sidebar": "Contents",
   "toc_cell": false,
   "toc_position": {},
   "toc_section_display": true,
   "toc_window_display": false
  },
  "varInspector": {
   "cols": {
    "lenName": 16,
    "lenType": 16,
    "lenVar": 40
   },
   "kernels_config": {
    "python": {
     "delete_cmd_postfix": "",
     "delete_cmd_prefix": "del ",
     "library": "var_list.py",
     "varRefreshCmd": "print(var_dic_list())"
    },
    "r": {
     "delete_cmd_postfix": ") ",
     "delete_cmd_prefix": "rm(",
     "library": "var_list.r",
     "varRefreshCmd": "cat(var_dic_list()) "
    }
   },
   "types_to_exclude": [
    "module",
    "function",
    "builtin_function_or_method",
    "instance",
    "_Feature"
   ],
   "window_display": false
  }
 },
 "nbformat": 4,
 "nbformat_minor": 1
}
